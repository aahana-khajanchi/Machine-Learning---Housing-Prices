{
 "cells": [
  {
   "cell_type": "markdown",
   "metadata": {
    "collapsed": true
   },
   "source": [
    "### Prediction House Price"
   ]
  },
  {
   "cell_type": "markdown",
   "metadata": {},
   "source": [
    "Here's a brief version of what you'll find in the data description file.\n",
    "\n",
    "SalePrice - the property's sale price in dollars. This is the target variable that you're trying to predict. <br>\n",
    "MSSubClass: The building class\n",
    "MSZoning: The general zoning classification\n",
    "LotFrontage: Linear feet of street connected to property\n",
    "LotArea: Lot size in square feet\n",
    "Street: Type of road access\n",
    "Alley: Type of alley access\n",
    "LotShape: General shape of property\n",
    "LandContour: Flatness of the property\n",
    "Utilities: Type of utilities available\n",
    "LotConfig: Lot configuration\n",
    "LandSlope: Slope of property\n",
    "Neighborhood: Physical locations within Ames city limits\n",
    "Condition1: Proximity to main road or railroad\n",
    "Condition2: Proximity to main road or railroad (if a second is present)\n",
    "BldgType: Type of dwelling\n",
    "HouseStyle: Style of dwelling\n",
    "OverallQual: Overall material and finish quality\n",
    "OverallCond: Overall condition rating\n",
    "YearBuilt: Original construction date\n",
    "YearRemodAdd: Remodel date\n",
    "RoofStyle: Type of roof\n",
    "RoofMatl: Roof material\n",
    "Exterior1st: Exterior covering on house\n",
    "Exterior2nd: Exterior covering on house (if more than one material)\n",
    "MasVnrType: Masonry veneer type\n",
    "MasVnrArea: Masonry veneer area in square feet\n",
    "ExterQual: Exterior material quality\n",
    "ExterCond: Present condition of the material on the exterior\n",
    "Foundation: Type of foundation\n",
    "BsmtQual: Height of the basement\n",
    "BsmtCond: General condition of the basement\n",
    "BsmtExposure: Walkout or garden level basement walls\n",
    "BsmtFinType1: Quality of basement finished area\n",
    "BsmtFinSF1: Type 1 finished square feet\n",
    "BsmtFinType2: Quality of second finished area (if present)\n",
    "BsmtFinSF2: Type 2 finished square feet\n",
    "BsmtUnfSF: Unfinished square feet of basement area\n",
    "TotalBsmtSF: Total square feet of basement area\n",
    "Heating: Type of heating\n",
    "HeatingQC: Heating quality and condition\n",
    "CentralAir: Central air conditioning\n",
    "Electrical: Electrical system\n",
    "1stFlrSF: First Floor square feet\n",
    "2ndFlrSF: Second floor square feet\n",
    "LowQualFinSF: Low quality finished square feet (all floors)\n",
    "GrLivArea: Above grade (ground) living area square feet\n",
    "BsmtFullBath: Basement full bathrooms\n",
    "BsmtHalfBath: Basement half bathrooms\n",
    "FullBath: Full bathrooms above grade\n",
    "HalfBath: Half baths above grade\n",
    "Bedroom: Number of bedrooms above basement level\n",
    "Kitchen: Number of kitchens\n",
    "KitchenQual: Kitchen quality\n",
    "TotRmsAbvGrd: Total rooms above grade (does not include bathrooms)\n",
    "Functional: Home functionality rating\n",
    "Fireplaces: Number of fireplaces\n",
    "FireplaceQu: Fireplace quality\n",
    "GarageType: Garage location\n",
    "GarageYrBlt: Year garage was built\n",
    "GarageFinish: Interior finish of the garage\n",
    "GarageCars: Size of garage in car capacity\n",
    "GarageArea: Size of garage in square feet\n",
    "GarageQual: Garage quality\n",
    "GarageCond: Garage condition\n",
    "PavedDrive: Paved driveway\n",
    "WoodDeckSF: Wood deck area in square feet\n",
    "OpenPorchSF: Open porch area in square feet\n",
    "EnclosedPorch: Enclosed porch area in square feet\n",
    "3SsnPorch: Three season porch area in square feet\n",
    "ScreenPorch: Screen porch area in square feet\n",
    "PoolArea: Pool area in square feet\n",
    "PoolQC: Pool quality\n",
    "Fence: Fence quality\n",
    "MiscFeature: Miscellaneous feature not covered in other categories\n",
    "MiscVal: $Value of miscellaneous feature\n",
    "MoSold: Month Sold\n",
    "YrSold: Year Sold\n",
    "SaleType: Type of sale\n",
    "SaleCondition: Condition of sale"
   ]
  },
  {
   "cell_type": "code",
   "execution_count": 1,
   "metadata": {
    "collapsed": true
   },
   "outputs": [],
   "source": [
    "import matplotlib.pyplot as plt\n",
    "import numpy as np\n",
    "import pandas as pd\n",
    "from scipy import stats\n",
    "import seaborn as sns\n",
    "import sklearn\n",
    "import numpy as np\n",
    "\n",
    "%matplotlib inline "
   ]
  },
  {
   "cell_type": "code",
   "execution_count": 2,
   "metadata": {
    "collapsed": true
   },
   "outputs": [],
   "source": [
    "from matplotlib import pyplot as plt\n",
    "\n",
    "import matplotlib.pyplot as plt\n",
    "\n",
    "%matplotlib inline\n"
   ]
  },
  {
   "cell_type": "code",
   "execution_count": 3,
   "metadata": {
    "collapsed": true
   },
   "outputs": [],
   "source": [
    "data = pd.read_csv(\"train.csv\")"
   ]
  },
  {
   "cell_type": "code",
   "execution_count": 4,
   "metadata": {},
   "outputs": [
    {
     "data": {
      "text/html": [
       "<div>\n",
       "<style>\n",
       "    .dataframe thead tr:only-child th {\n",
       "        text-align: right;\n",
       "    }\n",
       "\n",
       "    .dataframe thead th {\n",
       "        text-align: left;\n",
       "    }\n",
       "\n",
       "    .dataframe tbody tr th {\n",
       "        vertical-align: top;\n",
       "    }\n",
       "</style>\n",
       "<table border=\"1\" class=\"dataframe\">\n",
       "  <thead>\n",
       "    <tr style=\"text-align: right;\">\n",
       "      <th></th>\n",
       "      <th>Id</th>\n",
       "      <th>MSSubClass</th>\n",
       "      <th>MSZoning</th>\n",
       "      <th>LotFrontage</th>\n",
       "      <th>LotArea</th>\n",
       "      <th>Street</th>\n",
       "      <th>Alley</th>\n",
       "      <th>LotShape</th>\n",
       "      <th>LandContour</th>\n",
       "      <th>Utilities</th>\n",
       "      <th>...</th>\n",
       "      <th>PoolArea</th>\n",
       "      <th>PoolQC</th>\n",
       "      <th>Fence</th>\n",
       "      <th>MiscFeature</th>\n",
       "      <th>MiscVal</th>\n",
       "      <th>MoSold</th>\n",
       "      <th>YrSold</th>\n",
       "      <th>SaleType</th>\n",
       "      <th>SaleCondition</th>\n",
       "      <th>SalePrice</th>\n",
       "    </tr>\n",
       "  </thead>\n",
       "  <tbody>\n",
       "    <tr>\n",
       "      <th>0</th>\n",
       "      <td>1</td>\n",
       "      <td>60</td>\n",
       "      <td>RL</td>\n",
       "      <td>65.0</td>\n",
       "      <td>8450</td>\n",
       "      <td>Pave</td>\n",
       "      <td>NaN</td>\n",
       "      <td>Reg</td>\n",
       "      <td>Lvl</td>\n",
       "      <td>AllPub</td>\n",
       "      <td>...</td>\n",
       "      <td>0</td>\n",
       "      <td>NaN</td>\n",
       "      <td>NaN</td>\n",
       "      <td>NaN</td>\n",
       "      <td>0</td>\n",
       "      <td>2</td>\n",
       "      <td>2008</td>\n",
       "      <td>WD</td>\n",
       "      <td>Normal</td>\n",
       "      <td>208500</td>\n",
       "    </tr>\n",
       "    <tr>\n",
       "      <th>1</th>\n",
       "      <td>2</td>\n",
       "      <td>20</td>\n",
       "      <td>RL</td>\n",
       "      <td>80.0</td>\n",
       "      <td>9600</td>\n",
       "      <td>Pave</td>\n",
       "      <td>NaN</td>\n",
       "      <td>Reg</td>\n",
       "      <td>Lvl</td>\n",
       "      <td>AllPub</td>\n",
       "      <td>...</td>\n",
       "      <td>0</td>\n",
       "      <td>NaN</td>\n",
       "      <td>NaN</td>\n",
       "      <td>NaN</td>\n",
       "      <td>0</td>\n",
       "      <td>5</td>\n",
       "      <td>2007</td>\n",
       "      <td>WD</td>\n",
       "      <td>Normal</td>\n",
       "      <td>181500</td>\n",
       "    </tr>\n",
       "    <tr>\n",
       "      <th>2</th>\n",
       "      <td>3</td>\n",
       "      <td>60</td>\n",
       "      <td>RL</td>\n",
       "      <td>68.0</td>\n",
       "      <td>11250</td>\n",
       "      <td>Pave</td>\n",
       "      <td>NaN</td>\n",
       "      <td>IR1</td>\n",
       "      <td>Lvl</td>\n",
       "      <td>AllPub</td>\n",
       "      <td>...</td>\n",
       "      <td>0</td>\n",
       "      <td>NaN</td>\n",
       "      <td>NaN</td>\n",
       "      <td>NaN</td>\n",
       "      <td>0</td>\n",
       "      <td>9</td>\n",
       "      <td>2008</td>\n",
       "      <td>WD</td>\n",
       "      <td>Normal</td>\n",
       "      <td>223500</td>\n",
       "    </tr>\n",
       "    <tr>\n",
       "      <th>3</th>\n",
       "      <td>4</td>\n",
       "      <td>70</td>\n",
       "      <td>RL</td>\n",
       "      <td>60.0</td>\n",
       "      <td>9550</td>\n",
       "      <td>Pave</td>\n",
       "      <td>NaN</td>\n",
       "      <td>IR1</td>\n",
       "      <td>Lvl</td>\n",
       "      <td>AllPub</td>\n",
       "      <td>...</td>\n",
       "      <td>0</td>\n",
       "      <td>NaN</td>\n",
       "      <td>NaN</td>\n",
       "      <td>NaN</td>\n",
       "      <td>0</td>\n",
       "      <td>2</td>\n",
       "      <td>2006</td>\n",
       "      <td>WD</td>\n",
       "      <td>Abnorml</td>\n",
       "      <td>140000</td>\n",
       "    </tr>\n",
       "    <tr>\n",
       "      <th>4</th>\n",
       "      <td>5</td>\n",
       "      <td>60</td>\n",
       "      <td>RL</td>\n",
       "      <td>84.0</td>\n",
       "      <td>14260</td>\n",
       "      <td>Pave</td>\n",
       "      <td>NaN</td>\n",
       "      <td>IR1</td>\n",
       "      <td>Lvl</td>\n",
       "      <td>AllPub</td>\n",
       "      <td>...</td>\n",
       "      <td>0</td>\n",
       "      <td>NaN</td>\n",
       "      <td>NaN</td>\n",
       "      <td>NaN</td>\n",
       "      <td>0</td>\n",
       "      <td>12</td>\n",
       "      <td>2008</td>\n",
       "      <td>WD</td>\n",
       "      <td>Normal</td>\n",
       "      <td>250000</td>\n",
       "    </tr>\n",
       "  </tbody>\n",
       "</table>\n",
       "<p>5 rows × 81 columns</p>\n",
       "</div>"
      ],
      "text/plain": [
       "   Id  MSSubClass MSZoning  LotFrontage  LotArea Street Alley LotShape  \\\n",
       "0   1          60       RL         65.0     8450   Pave   NaN      Reg   \n",
       "1   2          20       RL         80.0     9600   Pave   NaN      Reg   \n",
       "2   3          60       RL         68.0    11250   Pave   NaN      IR1   \n",
       "3   4          70       RL         60.0     9550   Pave   NaN      IR1   \n",
       "4   5          60       RL         84.0    14260   Pave   NaN      IR1   \n",
       "\n",
       "  LandContour Utilities    ...     PoolArea PoolQC Fence MiscFeature MiscVal  \\\n",
       "0         Lvl    AllPub    ...            0    NaN   NaN         NaN       0   \n",
       "1         Lvl    AllPub    ...            0    NaN   NaN         NaN       0   \n",
       "2         Lvl    AllPub    ...            0    NaN   NaN         NaN       0   \n",
       "3         Lvl    AllPub    ...            0    NaN   NaN         NaN       0   \n",
       "4         Lvl    AllPub    ...            0    NaN   NaN         NaN       0   \n",
       "\n",
       "  MoSold YrSold  SaleType  SaleCondition  SalePrice  \n",
       "0      2   2008        WD         Normal     208500  \n",
       "1      5   2007        WD         Normal     181500  \n",
       "2      9   2008        WD         Normal     223500  \n",
       "3      2   2006        WD        Abnorml     140000  \n",
       "4     12   2008        WD         Normal     250000  \n",
       "\n",
       "[5 rows x 81 columns]"
      ]
     },
     "execution_count": 4,
     "metadata": {},
     "output_type": "execute_result"
    }
   ],
   "source": [
    "data.head()"
   ]
  },
  {
   "cell_type": "code",
   "execution_count": 5,
   "metadata": {},
   "outputs": [
    {
     "name": "stdout",
     "output_type": "stream",
     "text": [
      "<class 'pandas.core.frame.DataFrame'>\n",
      "RangeIndex: 1460 entries, 0 to 1459\n",
      "Data columns (total 81 columns):\n",
      "Id               1460 non-null int64\n",
      "MSSubClass       1460 non-null int64\n",
      "MSZoning         1460 non-null object\n",
      "LotFrontage      1201 non-null float64\n",
      "LotArea          1460 non-null int64\n",
      "Street           1460 non-null object\n",
      "Alley            91 non-null object\n",
      "LotShape         1460 non-null object\n",
      "LandContour      1460 non-null object\n",
      "Utilities        1460 non-null object\n",
      "LotConfig        1460 non-null object\n",
      "LandSlope        1460 non-null object\n",
      "Neighborhood     1460 non-null object\n",
      "Condition1       1460 non-null object\n",
      "Condition2       1460 non-null object\n",
      "BldgType         1460 non-null object\n",
      "HouseStyle       1460 non-null object\n",
      "OverallQual      1460 non-null int64\n",
      "OverallCond      1460 non-null int64\n",
      "YearBuilt        1460 non-null int64\n",
      "YearRemodAdd     1460 non-null int64\n",
      "RoofStyle        1460 non-null object\n",
      "RoofMatl         1460 non-null object\n",
      "Exterior1st      1460 non-null object\n",
      "Exterior2nd      1460 non-null object\n",
      "MasVnrType       1452 non-null object\n",
      "MasVnrArea       1452 non-null float64\n",
      "ExterQual        1460 non-null object\n",
      "ExterCond        1460 non-null object\n",
      "Foundation       1460 non-null object\n",
      "BsmtQual         1423 non-null object\n",
      "BsmtCond         1423 non-null object\n",
      "BsmtExposure     1422 non-null object\n",
      "BsmtFinType1     1423 non-null object\n",
      "BsmtFinSF1       1460 non-null int64\n",
      "BsmtFinType2     1422 non-null object\n",
      "BsmtFinSF2       1460 non-null int64\n",
      "BsmtUnfSF        1460 non-null int64\n",
      "TotalBsmtSF      1460 non-null int64\n",
      "Heating          1460 non-null object\n",
      "HeatingQC        1460 non-null object\n",
      "CentralAir       1460 non-null object\n",
      "Electrical       1459 non-null object\n",
      "1stFlrSF         1460 non-null int64\n",
      "2ndFlrSF         1460 non-null int64\n",
      "LowQualFinSF     1460 non-null int64\n",
      "GrLivArea        1460 non-null int64\n",
      "BsmtFullBath     1460 non-null int64\n",
      "BsmtHalfBath     1460 non-null int64\n",
      "FullBath         1460 non-null int64\n",
      "HalfBath         1460 non-null int64\n",
      "BedroomAbvGr     1460 non-null int64\n",
      "KitchenAbvGr     1460 non-null int64\n",
      "KitchenQual      1460 non-null object\n",
      "TotRmsAbvGrd     1460 non-null int64\n",
      "Functional       1460 non-null object\n",
      "Fireplaces       1460 non-null int64\n",
      "FireplaceQu      770 non-null object\n",
      "GarageType       1379 non-null object\n",
      "GarageYrBlt      1379 non-null float64\n",
      "GarageFinish     1379 non-null object\n",
      "GarageCars       1460 non-null int64\n",
      "GarageArea       1460 non-null int64\n",
      "GarageQual       1379 non-null object\n",
      "GarageCond       1379 non-null object\n",
      "PavedDrive       1460 non-null object\n",
      "WoodDeckSF       1460 non-null int64\n",
      "OpenPorchSF      1460 non-null int64\n",
      "EnclosedPorch    1460 non-null int64\n",
      "3SsnPorch        1460 non-null int64\n",
      "ScreenPorch      1460 non-null int64\n",
      "PoolArea         1460 non-null int64\n",
      "PoolQC           7 non-null object\n",
      "Fence            281 non-null object\n",
      "MiscFeature      54 non-null object\n",
      "MiscVal          1460 non-null int64\n",
      "MoSold           1460 non-null int64\n",
      "YrSold           1460 non-null int64\n",
      "SaleType         1460 non-null object\n",
      "SaleCondition    1460 non-null object\n",
      "SalePrice        1460 non-null int64\n",
      "dtypes: float64(3), int64(35), object(43)\n",
      "memory usage: 924.0+ KB\n"
     ]
    }
   ],
   "source": [
    "data.info()"
   ]
  },
  {
   "cell_type": "code",
   "execution_count": 6,
   "metadata": {},
   "outputs": [
    {
     "data": {
      "text/plain": [
       "Id                  0\n",
       "MSSubClass          0\n",
       "MSZoning            0\n",
       "LotFrontage       259\n",
       "LotArea             0\n",
       "Street              0\n",
       "Alley            1369\n",
       "LotShape            0\n",
       "LandContour         0\n",
       "Utilities           0\n",
       "LotConfig           0\n",
       "LandSlope           0\n",
       "Neighborhood        0\n",
       "Condition1          0\n",
       "Condition2          0\n",
       "BldgType            0\n",
       "HouseStyle          0\n",
       "OverallQual         0\n",
       "OverallCond         0\n",
       "YearBuilt           0\n",
       "YearRemodAdd        0\n",
       "RoofStyle           0\n",
       "RoofMatl            0\n",
       "Exterior1st         0\n",
       "Exterior2nd         0\n",
       "MasVnrType          8\n",
       "MasVnrArea          8\n",
       "ExterQual           0\n",
       "ExterCond           0\n",
       "Foundation          0\n",
       "                 ... \n",
       "BedroomAbvGr        0\n",
       "KitchenAbvGr        0\n",
       "KitchenQual         0\n",
       "TotRmsAbvGrd        0\n",
       "Functional          0\n",
       "Fireplaces          0\n",
       "FireplaceQu       690\n",
       "GarageType         81\n",
       "GarageYrBlt        81\n",
       "GarageFinish       81\n",
       "GarageCars          0\n",
       "GarageArea          0\n",
       "GarageQual         81\n",
       "GarageCond         81\n",
       "PavedDrive          0\n",
       "WoodDeckSF          0\n",
       "OpenPorchSF         0\n",
       "EnclosedPorch       0\n",
       "3SsnPorch           0\n",
       "ScreenPorch         0\n",
       "PoolArea            0\n",
       "PoolQC           1453\n",
       "Fence            1179\n",
       "MiscFeature      1406\n",
       "MiscVal             0\n",
       "MoSold              0\n",
       "YrSold              0\n",
       "SaleType            0\n",
       "SaleCondition       0\n",
       "SalePrice           0\n",
       "Length: 81, dtype: int64"
      ]
     },
     "execution_count": 6,
     "metadata": {},
     "output_type": "execute_result"
    }
   ],
   "source": [
    "data.isnull().sum()"
   ]
  },
  {
   "cell_type": "code",
   "execution_count": 7,
   "metadata": {},
   "outputs": [
    {
     "data": {
      "text/html": [
       "<div>\n",
       "<style>\n",
       "    .dataframe thead tr:only-child th {\n",
       "        text-align: right;\n",
       "    }\n",
       "\n",
       "    .dataframe thead th {\n",
       "        text-align: left;\n",
       "    }\n",
       "\n",
       "    .dataframe tbody tr th {\n",
       "        vertical-align: top;\n",
       "    }\n",
       "</style>\n",
       "<table border=\"1\" class=\"dataframe\">\n",
       "  <thead>\n",
       "    <tr style=\"text-align: right;\">\n",
       "      <th></th>\n",
       "      <th>Total</th>\n",
       "      <th>Percent</th>\n",
       "    </tr>\n",
       "  </thead>\n",
       "  <tbody>\n",
       "    <tr>\n",
       "      <th>PoolQC</th>\n",
       "      <td>1453</td>\n",
       "      <td>99.520548</td>\n",
       "    </tr>\n",
       "    <tr>\n",
       "      <th>MiscFeature</th>\n",
       "      <td>1406</td>\n",
       "      <td>96.301370</td>\n",
       "    </tr>\n",
       "    <tr>\n",
       "      <th>Alley</th>\n",
       "      <td>1369</td>\n",
       "      <td>93.767123</td>\n",
       "    </tr>\n",
       "    <tr>\n",
       "      <th>Fence</th>\n",
       "      <td>1179</td>\n",
       "      <td>80.753425</td>\n",
       "    </tr>\n",
       "    <tr>\n",
       "      <th>FireplaceQu</th>\n",
       "      <td>690</td>\n",
       "      <td>47.260274</td>\n",
       "    </tr>\n",
       "    <tr>\n",
       "      <th>LotFrontage</th>\n",
       "      <td>259</td>\n",
       "      <td>17.739726</td>\n",
       "    </tr>\n",
       "    <tr>\n",
       "      <th>GarageCond</th>\n",
       "      <td>81</td>\n",
       "      <td>5.547945</td>\n",
       "    </tr>\n",
       "    <tr>\n",
       "      <th>GarageType</th>\n",
       "      <td>81</td>\n",
       "      <td>5.547945</td>\n",
       "    </tr>\n",
       "    <tr>\n",
       "      <th>GarageYrBlt</th>\n",
       "      <td>81</td>\n",
       "      <td>5.547945</td>\n",
       "    </tr>\n",
       "    <tr>\n",
       "      <th>GarageFinish</th>\n",
       "      <td>81</td>\n",
       "      <td>5.547945</td>\n",
       "    </tr>\n",
       "    <tr>\n",
       "      <th>GarageQual</th>\n",
       "      <td>81</td>\n",
       "      <td>5.547945</td>\n",
       "    </tr>\n",
       "    <tr>\n",
       "      <th>BsmtExposure</th>\n",
       "      <td>38</td>\n",
       "      <td>2.602740</td>\n",
       "    </tr>\n",
       "    <tr>\n",
       "      <th>BsmtFinType2</th>\n",
       "      <td>38</td>\n",
       "      <td>2.602740</td>\n",
       "    </tr>\n",
       "    <tr>\n",
       "      <th>BsmtFinType1</th>\n",
       "      <td>37</td>\n",
       "      <td>2.534247</td>\n",
       "    </tr>\n",
       "    <tr>\n",
       "      <th>BsmtCond</th>\n",
       "      <td>37</td>\n",
       "      <td>2.534247</td>\n",
       "    </tr>\n",
       "    <tr>\n",
       "      <th>BsmtQual</th>\n",
       "      <td>37</td>\n",
       "      <td>2.534247</td>\n",
       "    </tr>\n",
       "    <tr>\n",
       "      <th>MasVnrArea</th>\n",
       "      <td>8</td>\n",
       "      <td>0.547945</td>\n",
       "    </tr>\n",
       "    <tr>\n",
       "      <th>MasVnrType</th>\n",
       "      <td>8</td>\n",
       "      <td>0.547945</td>\n",
       "    </tr>\n",
       "    <tr>\n",
       "      <th>Electrical</th>\n",
       "      <td>1</td>\n",
       "      <td>0.068493</td>\n",
       "    </tr>\n",
       "    <tr>\n",
       "      <th>Utilities</th>\n",
       "      <td>0</td>\n",
       "      <td>0.000000</td>\n",
       "    </tr>\n",
       "  </tbody>\n",
       "</table>\n",
       "</div>"
      ],
      "text/plain": [
       "              Total    Percent\n",
       "PoolQC         1453  99.520548\n",
       "MiscFeature    1406  96.301370\n",
       "Alley          1369  93.767123\n",
       "Fence          1179  80.753425\n",
       "FireplaceQu     690  47.260274\n",
       "LotFrontage     259  17.739726\n",
       "GarageCond       81   5.547945\n",
       "GarageType       81   5.547945\n",
       "GarageYrBlt      81   5.547945\n",
       "GarageFinish     81   5.547945\n",
       "GarageQual       81   5.547945\n",
       "BsmtExposure     38   2.602740\n",
       "BsmtFinType2     38   2.602740\n",
       "BsmtFinType1     37   2.534247\n",
       "BsmtCond         37   2.534247\n",
       "BsmtQual         37   2.534247\n",
       "MasVnrArea        8   0.547945\n",
       "MasVnrType        8   0.547945\n",
       "Electrical        1   0.068493\n",
       "Utilities         0   0.000000"
      ]
     },
     "execution_count": 7,
     "metadata": {},
     "output_type": "execute_result"
    }
   ],
   "source": [
    "# Missing data\n",
    "total = data.isnull().sum().sort_values(ascending=False)\n",
    "percent = ((data.isnull().sum()/data.isnull().count()).sort_values(ascending=False))* 100\n",
    "missing_data = pd.concat([total, percent], axis=1, keys=['Total', 'Percent'])\n",
    "missing_data.head(20)"
   ]
  },
  {
   "cell_type": "code",
   "execution_count": 8,
   "metadata": {},
   "outputs": [
    {
     "data": {
      "text/plain": [
       "Gd    380\n",
       "TA    313\n",
       "Fa     33\n",
       "Ex     24\n",
       "Po     20\n",
       "Name: FireplaceQu, dtype: int64"
      ]
     },
     "execution_count": 8,
     "metadata": {},
     "output_type": "execute_result"
    }
   ],
   "source": [
    "data.FireplaceQu.value_counts()"
   ]
  },
  {
   "cell_type": "code",
   "execution_count": 9,
   "metadata": {},
   "outputs": [
    {
     "data": {
      "text/plain": [
       "690"
      ]
     },
     "execution_count": 9,
     "metadata": {},
     "output_type": "execute_result"
    }
   ],
   "source": [
    "data.FireplaceQu.isnull().sum()"
   ]
  },
  {
   "cell_type": "code",
   "execution_count": 10,
   "metadata": {},
   "outputs": [
    {
     "data": {
      "text/plain": [
       "0"
      ]
     },
     "execution_count": 10,
     "metadata": {},
     "output_type": "execute_result"
    }
   ],
   "source": [
    "data.Fireplaces.isnull().sum()"
   ]
  },
  {
   "cell_type": "code",
   "execution_count": 11,
   "metadata": {},
   "outputs": [
    {
     "data": {
      "text/plain": [
       "0    690\n",
       "1    650\n",
       "2    115\n",
       "3      5\n",
       "Name: Fireplaces, dtype: int64"
      ]
     },
     "execution_count": 11,
     "metadata": {},
     "output_type": "execute_result"
    }
   ],
   "source": [
    "data.Fireplaces.value_counts()"
   ]
  },
  {
   "cell_type": "markdown",
   "metadata": {},
   "source": [
    "The number of NAs in FireplaceQu matches the number of houses with 0 fireplaces. This means that I can safely replace the NAs in FireplaceQu with ‘no fireplace’."
   ]
  },
  {
   "cell_type": "code",
   "execution_count": 12,
   "metadata": {
    "collapsed": true
   },
   "outputs": [],
   "source": [
    "data['FireplaceQu'] = data['FireplaceQu'].fillna('NA')"
   ]
  },
  {
   "cell_type": "code",
   "execution_count": 13,
   "metadata": {},
   "outputs": [
    {
     "data": {
      "text/plain": [
       "0"
      ]
     },
     "execution_count": 13,
     "metadata": {},
     "output_type": "execute_result"
    }
   ],
   "source": [
    "data.FireplaceQu.isnull().sum()"
   ]
  },
  {
   "cell_type": "markdown",
   "metadata": {},
   "source": [
    "### Garage Variables"
   ]
  },
  {
   "cell_type": "code",
   "execution_count": 14,
   "metadata": {},
   "outputs": [
    {
     "data": {
      "text/plain": [
       "2    824\n",
       "1    369\n",
       "3    181\n",
       "0     81\n",
       "4      5\n",
       "Name: GarageCars, dtype: int64"
      ]
     },
     "execution_count": 14,
     "metadata": {},
     "output_type": "execute_result"
    }
   ],
   "source": [
    "data.GarageCars.value_counts()"
   ]
  },
  {
   "cell_type": "code",
   "execution_count": 15,
   "metadata": {},
   "outputs": [
    {
     "data": {
      "text/plain": [
       "0       81\n",
       "440     49\n",
       "576     47\n",
       "240     38\n",
       "484     34\n",
       "528     33\n",
       "288     27\n",
       "400     25\n",
       "480     24\n",
       "264     24\n",
       "308     20\n",
       "420     19\n",
       "280     16\n",
       "672     15\n",
       "216     12\n",
       "504     12\n",
       "336     12\n",
       "352     12\n",
       "360     11\n",
       "564     11\n",
       "300     10\n",
       "462     10\n",
       "572     10\n",
       "540     10\n",
       "539      9\n",
       "660      9\n",
       "180      9\n",
       "384      9\n",
       "312      9\n",
       "286      9\n",
       "        ..\n",
       "414      1\n",
       "413      1\n",
       "768      1\n",
       "455      1\n",
       "708      1\n",
       "757      1\n",
       "711      1\n",
       "714      1\n",
       "481      1\n",
       "716      1\n",
       "479      1\n",
       "719      1\n",
       "477      1\n",
       "721      1\n",
       "475      1\n",
       "722      1\n",
       "726      1\n",
       "732      1\n",
       "738      1\n",
       "739      1\n",
       "740      1\n",
       "748      1\n",
       "749      1\n",
       "752      1\n",
       "753      1\n",
       "754      1\n",
       "459      1\n",
       "458      1\n",
       "756      1\n",
       "1418     1\n",
       "Name: GarageArea, Length: 441, dtype: int64"
      ]
     },
     "execution_count": 15,
     "metadata": {},
     "output_type": "execute_result"
    }
   ],
   "source": [
    "data.GarageArea.value_counts()"
   ]
  },
  {
   "cell_type": "markdown",
   "metadata": {},
   "source": [
    "From GarageArea and GarageCar, we can say that in 81 homes there was no garage that's why we'll change the nan values in other columns with No Garage"
   ]
  },
  {
   "cell_type": "code",
   "execution_count": 16,
   "metadata": {},
   "outputs": [
    {
     "data": {
      "text/plain": [
       "Attchd     870\n",
       "Detchd     387\n",
       "BuiltIn     88\n",
       "Basment     19\n",
       "CarPort      9\n",
       "2Types       6\n",
       "Name: GarageType, dtype: int64"
      ]
     },
     "execution_count": 16,
     "metadata": {},
     "output_type": "execute_result"
    }
   ],
   "source": [
    "data.GarageType.value_counts()"
   ]
  },
  {
   "cell_type": "code",
   "execution_count": 17,
   "metadata": {},
   "outputs": [
    {
     "data": {
      "text/plain": [
       "TA    1326\n",
       "Fa      35\n",
       "Gd       9\n",
       "Po       7\n",
       "Ex       2\n",
       "Name: GarageCond, dtype: int64"
      ]
     },
     "execution_count": 17,
     "metadata": {},
     "output_type": "execute_result"
    }
   ],
   "source": [
    "data.GarageCond.value_counts()"
   ]
  },
  {
   "cell_type": "code",
   "execution_count": 18,
   "metadata": {},
   "outputs": [
    {
     "data": {
      "text/plain": [
       "Unf    605\n",
       "RFn    422\n",
       "Fin    352\n",
       "Name: GarageFinish, dtype: int64"
      ]
     },
     "execution_count": 18,
     "metadata": {},
     "output_type": "execute_result"
    }
   ],
   "source": [
    "data.GarageFinish.value_counts()"
   ]
  },
  {
   "cell_type": "code",
   "execution_count": 19,
   "metadata": {},
   "outputs": [
    {
     "data": {
      "text/plain": [
       "TA    1311\n",
       "Fa      48\n",
       "Gd      14\n",
       "Ex       3\n",
       "Po       3\n",
       "Name: GarageQual, dtype: int64"
      ]
     },
     "execution_count": 19,
     "metadata": {},
     "output_type": "execute_result"
    }
   ],
   "source": [
    "data.GarageQual.value_counts()"
   ]
  },
  {
   "cell_type": "code",
   "execution_count": 20,
   "metadata": {
    "collapsed": true
   },
   "outputs": [],
   "source": [
    "data[['GarageQual', 'GarageFinish', 'GarageType', 'GarageCond']] = data[['GarageQual', 'GarageFinish', 'GarageType', 'GarageCond']].fillna('NA')"
   ]
  },
  {
   "cell_type": "code",
   "execution_count": 21,
   "metadata": {},
   "outputs": [
    {
     "data": {
      "text/plain": [
       "0"
      ]
     },
     "execution_count": 21,
     "metadata": {},
     "output_type": "execute_result"
    }
   ],
   "source": [
    "data.GarageQual.isnull().sum()"
   ]
  },
  {
   "cell_type": "code",
   "execution_count": 22,
   "metadata": {},
   "outputs": [
    {
     "data": {
      "text/plain": [
       "2005.0    65\n",
       "2006.0    59\n",
       "2004.0    53\n",
       "2003.0    50\n",
       "2007.0    49\n",
       "1977.0    35\n",
       "1998.0    31\n",
       "1999.0    30\n",
       "2008.0    29\n",
       "1976.0    29\n",
       "2000.0    27\n",
       "2002.0    26\n",
       "1968.0    26\n",
       "1950.0    24\n",
       "1993.0    22\n",
       "2009.0    21\n",
       "1965.0    21\n",
       "1966.0    21\n",
       "1962.0    21\n",
       "1958.0    21\n",
       "2001.0    20\n",
       "1996.0    20\n",
       "1957.0    20\n",
       "1970.0    20\n",
       "1960.0    19\n",
       "1997.0    19\n",
       "1978.0    19\n",
       "1954.0    19\n",
       "1974.0    18\n",
       "1994.0    18\n",
       "          ..\n",
       "1922.0     5\n",
       "1936.0     5\n",
       "1916.0     5\n",
       "1931.0     4\n",
       "1945.0     4\n",
       "1935.0     4\n",
       "1928.0     4\n",
       "1946.0     4\n",
       "1982.0     4\n",
       "1938.0     3\n",
       "1921.0     3\n",
       "1924.0     3\n",
       "1910.0     3\n",
       "1952.0     3\n",
       "1932.0     3\n",
       "2010.0     3\n",
       "1923.0     3\n",
       "1937.0     2\n",
       "1934.0     2\n",
       "1918.0     2\n",
       "1947.0     2\n",
       "1929.0     2\n",
       "1914.0     2\n",
       "1915.0     2\n",
       "1942.0     2\n",
       "1908.0     1\n",
       "1927.0     1\n",
       "1933.0     1\n",
       "1900.0     1\n",
       "1906.0     1\n",
       "Name: GarageYrBlt, Length: 97, dtype: int64"
      ]
     },
     "execution_count": 22,
     "metadata": {},
     "output_type": "execute_result"
    }
   ],
   "source": [
    "data.GarageYrBlt.value_counts()"
   ]
  },
  {
   "cell_type": "markdown",
   "metadata": {},
   "source": [
    "First of all, I am going to replace all 159 missing GarageYrBlt: Year garage was built values with the values in YearBuilt (this is similar to YearRemodAdd, which also defaults to YearBuilt if no remodeling or additions"
   ]
  },
  {
   "cell_type": "code",
   "execution_count": 23,
   "metadata": {
    "collapsed": true
   },
   "outputs": [],
   "source": [
    "data['GarageYrBlt'] = data['GarageYrBlt'].fillna(0)"
   ]
  },
  {
   "cell_type": "code",
   "execution_count": 24,
   "metadata": {},
   "outputs": [
    {
     "data": {
      "text/plain": [
       "0"
      ]
     },
     "execution_count": 24,
     "metadata": {},
     "output_type": "execute_result"
    }
   ],
   "source": [
    "data['GarageYrBlt'].isnull().sum()"
   ]
  },
  {
   "cell_type": "markdown",
   "metadata": {
    "collapsed": true
   },
   "source": [
    "### Basement Variables"
   ]
  },
  {
   "cell_type": "code",
   "execution_count": 25,
   "metadata": {},
   "outputs": [
    {
     "data": {
      "text/plain": [
       "0       37\n",
       "864     35\n",
       "672     17\n",
       "912     15\n",
       "1040    14\n",
       "816     13\n",
       "728     12\n",
       "768     12\n",
       "848     11\n",
       "780     11\n",
       "894     11\n",
       "832     10\n",
       "630      9\n",
       "756      9\n",
       "952      9\n",
       "1056     8\n",
       "936      8\n",
       "1008     7\n",
       "483      7\n",
       "840      7\n",
       "384      7\n",
       "720      7\n",
       "600      7\n",
       "1362     6\n",
       "876      6\n",
       "858      6\n",
       "884      6\n",
       "1392     6\n",
       "796      6\n",
       "793      5\n",
       "        ..\n",
       "1414     1\n",
       "1413     1\n",
       "1410     1\n",
       "1452     1\n",
       "1022     1\n",
       "1021     1\n",
       "998      1\n",
       "982      1\n",
       "983      1\n",
       "984      1\n",
       "985      1\n",
       "1479     1\n",
       "1477     1\n",
       "1476     1\n",
       "993      1\n",
       "1475     1\n",
       "1473     1\n",
       "999      1\n",
       "1020     1\n",
       "1001     1\n",
       "1002     1\n",
       "1003     1\n",
       "1005     1\n",
       "1006     1\n",
       "1007     1\n",
       "1463     1\n",
       "1459     1\n",
       "1454     1\n",
       "1019     1\n",
       "2046     1\n",
       "Name: TotalBsmtSF, Length: 721, dtype: int64"
      ]
     },
     "execution_count": 25,
     "metadata": {},
     "output_type": "execute_result"
    }
   ],
   "source": [
    "data.TotalBsmtSF.value_counts()"
   ]
  },
  {
   "cell_type": "code",
   "execution_count": 30,
   "metadata": {
    "collapsed": true
   },
   "outputs": [],
   "source": [
    "data[['BsmtFinType1', 'BsmtCond', 'BsmtQual', 'BsmtExposure', 'BsmtFinType2']] = data[['BsmtFinType1', 'BsmtCond', 'BsmtQual', 'BsmtExposure', 'BsmtFinType2']].fillna('NA')"
   ]
  },
  {
   "cell_type": "markdown",
   "metadata": {},
   "source": [
    "### Other Variable"
   ]
  },
  {
   "cell_type": "code",
   "execution_count": 32,
   "metadata": {
    "collapsed": true
   },
   "outputs": [],
   "source": [
    "data[['PoolQC', 'MiscFeature', 'Alley', 'Fence']] = data[['PoolQC', 'MiscFeature', 'Alley', 'Fence']].fillna('NA')"
   ]
  },
  {
   "cell_type": "code",
   "execution_count": 35,
   "metadata": {},
   "outputs": [
    {
     "data": {
      "text/html": [
       "<div>\n",
       "<style>\n",
       "    .dataframe thead tr:only-child th {\n",
       "        text-align: right;\n",
       "    }\n",
       "\n",
       "    .dataframe thead th {\n",
       "        text-align: left;\n",
       "    }\n",
       "\n",
       "    .dataframe tbody tr th {\n",
       "        vertical-align: top;\n",
       "    }\n",
       "</style>\n",
       "<table border=\"1\" class=\"dataframe\">\n",
       "  <thead>\n",
       "    <tr style=\"text-align: right;\">\n",
       "      <th></th>\n",
       "      <th>Total</th>\n",
       "      <th>Percent</th>\n",
       "    </tr>\n",
       "  </thead>\n",
       "  <tbody>\n",
       "    <tr>\n",
       "      <th>LotFrontage</th>\n",
       "      <td>259</td>\n",
       "      <td>17.739726</td>\n",
       "    </tr>\n",
       "    <tr>\n",
       "      <th>MasVnrType</th>\n",
       "      <td>8</td>\n",
       "      <td>0.547945</td>\n",
       "    </tr>\n",
       "    <tr>\n",
       "      <th>MasVnrArea</th>\n",
       "      <td>8</td>\n",
       "      <td>0.547945</td>\n",
       "    </tr>\n",
       "    <tr>\n",
       "      <th>Electrical</th>\n",
       "      <td>1</td>\n",
       "      <td>0.068493</td>\n",
       "    </tr>\n",
       "    <tr>\n",
       "      <th>SalePrice</th>\n",
       "      <td>0</td>\n",
       "      <td>0.000000</td>\n",
       "    </tr>\n",
       "    <tr>\n",
       "      <th>Foundation</th>\n",
       "      <td>0</td>\n",
       "      <td>0.000000</td>\n",
       "    </tr>\n",
       "    <tr>\n",
       "      <th>RoofMatl</th>\n",
       "      <td>0</td>\n",
       "      <td>0.000000</td>\n",
       "    </tr>\n",
       "    <tr>\n",
       "      <th>Exterior1st</th>\n",
       "      <td>0</td>\n",
       "      <td>0.000000</td>\n",
       "    </tr>\n",
       "    <tr>\n",
       "      <th>Exterior2nd</th>\n",
       "      <td>0</td>\n",
       "      <td>0.000000</td>\n",
       "    </tr>\n",
       "    <tr>\n",
       "      <th>ExterQual</th>\n",
       "      <td>0</td>\n",
       "      <td>0.000000</td>\n",
       "    </tr>\n",
       "    <tr>\n",
       "      <th>ExterCond</th>\n",
       "      <td>0</td>\n",
       "      <td>0.000000</td>\n",
       "    </tr>\n",
       "    <tr>\n",
       "      <th>BsmtCond</th>\n",
       "      <td>0</td>\n",
       "      <td>0.000000</td>\n",
       "    </tr>\n",
       "    <tr>\n",
       "      <th>BsmtQual</th>\n",
       "      <td>0</td>\n",
       "      <td>0.000000</td>\n",
       "    </tr>\n",
       "    <tr>\n",
       "      <th>YearRemodAdd</th>\n",
       "      <td>0</td>\n",
       "      <td>0.000000</td>\n",
       "    </tr>\n",
       "    <tr>\n",
       "      <th>BsmtExposure</th>\n",
       "      <td>0</td>\n",
       "      <td>0.000000</td>\n",
       "    </tr>\n",
       "    <tr>\n",
       "      <th>BsmtFinType1</th>\n",
       "      <td>0</td>\n",
       "      <td>0.000000</td>\n",
       "    </tr>\n",
       "    <tr>\n",
       "      <th>BsmtFinSF1</th>\n",
       "      <td>0</td>\n",
       "      <td>0.000000</td>\n",
       "    </tr>\n",
       "    <tr>\n",
       "      <th>BsmtFinType2</th>\n",
       "      <td>0</td>\n",
       "      <td>0.000000</td>\n",
       "    </tr>\n",
       "    <tr>\n",
       "      <th>BsmtFinSF2</th>\n",
       "      <td>0</td>\n",
       "      <td>0.000000</td>\n",
       "    </tr>\n",
       "    <tr>\n",
       "      <th>BsmtUnfSF</th>\n",
       "      <td>0</td>\n",
       "      <td>0.000000</td>\n",
       "    </tr>\n",
       "  </tbody>\n",
       "</table>\n",
       "</div>"
      ],
      "text/plain": [
       "              Total    Percent\n",
       "LotFrontage     259  17.739726\n",
       "MasVnrType        8   0.547945\n",
       "MasVnrArea        8   0.547945\n",
       "Electrical        1   0.068493\n",
       "SalePrice         0   0.000000\n",
       "Foundation        0   0.000000\n",
       "RoofMatl          0   0.000000\n",
       "Exterior1st       0   0.000000\n",
       "Exterior2nd       0   0.000000\n",
       "ExterQual         0   0.000000\n",
       "ExterCond         0   0.000000\n",
       "BsmtCond          0   0.000000\n",
       "BsmtQual          0   0.000000\n",
       "YearRemodAdd      0   0.000000\n",
       "BsmtExposure      0   0.000000\n",
       "BsmtFinType1      0   0.000000\n",
       "BsmtFinSF1        0   0.000000\n",
       "BsmtFinType2      0   0.000000\n",
       "BsmtFinSF2        0   0.000000\n",
       "BsmtUnfSF         0   0.000000"
      ]
     },
     "execution_count": 35,
     "metadata": {},
     "output_type": "execute_result"
    }
   ],
   "source": [
    "# Missing data\n",
    "total = data.isnull().sum().sort_values(ascending=False)\n",
    "percent = ((data.isnull().sum()/data.isnull().count()).sort_values(ascending=False))* 100\n",
    "missing_data = pd.concat([total, percent], axis=1, keys=['Total', 'Percent'])\n",
    "missing_data.head(20)"
   ]
  },
  {
   "cell_type": "markdown",
   "metadata": {},
   "source": [
    "### Masonry Variables"
   ]
  },
  {
   "cell_type": "code",
   "execution_count": 37,
   "metadata": {},
   "outputs": [],
   "source": [
    "data[['MasVnrType', 'MasVnrArea']] = data[['MasVnrType', 'MasVnrArea']].fillna('None')"
   ]
  },
  {
   "cell_type": "markdown",
   "metadata": {},
   "source": [
    "### Electrical Variables"
   ]
  },
  {
   "cell_type": "code",
   "execution_count": 38,
   "metadata": {},
   "outputs": [
    {
     "data": {
      "text/plain": [
       "SBrkr    1334\n",
       "FuseA      94\n",
       "FuseF      27\n",
       "FuseP       3\n",
       "Mix         1\n",
       "Name: Electrical, dtype: int64"
      ]
     },
     "execution_count": 38,
     "metadata": {},
     "output_type": "execute_result"
    }
   ],
   "source": [
    "data['Electrical'].value_counts()"
   ]
  },
  {
   "cell_type": "code",
   "execution_count": 39,
   "metadata": {
    "collapsed": true
   },
   "outputs": [],
   "source": [
    "data['Electrical'] = data['Electrical'].fillna('SBrkr')"
   ]
  },
  {
   "cell_type": "markdown",
   "metadata": {},
   "source": [
    "### LotFrontage Variable"
   ]
  },
  {
   "cell_type": "code",
   "execution_count": 41,
   "metadata": {},
   "outputs": [
    {
     "data": {
      "text/plain": [
       "False"
      ]
     },
     "execution_count": 41,
     "metadata": {},
     "output_type": "execute_result"
    }
   ],
   "source": [
    "# sklearn.preprocessing.Imputer(missing_values = 'NaN, strategy = 'mean', axis)\n",
    "# Imputting or assigning missing values\n",
    "from sklearn.preprocessing import Imputer\n",
    "imp = Imputer(missing_values = 'NaN', strategy = 'mean')\n",
    "\n",
    "data[['LotFrontage']] = imp.fit_transform(data[['LotFrontage']])\n",
    "data.LotFrontage.isnull().any()"
   ]
  },
  {
   "cell_type": "code",
   "execution_count": 45,
   "metadata": {},
   "outputs": [
    {
     "data": {
      "text/html": [
       "<div>\n",
       "<style>\n",
       "    .dataframe thead tr:only-child th {\n",
       "        text-align: right;\n",
       "    }\n",
       "\n",
       "    .dataframe thead th {\n",
       "        text-align: left;\n",
       "    }\n",
       "\n",
       "    .dataframe tbody tr th {\n",
       "        vertical-align: top;\n",
       "    }\n",
       "</style>\n",
       "<table border=\"1\" class=\"dataframe\">\n",
       "  <thead>\n",
       "    <tr style=\"text-align: right;\">\n",
       "      <th></th>\n",
       "      <th>Total</th>\n",
       "      <th>Percent</th>\n",
       "    </tr>\n",
       "  </thead>\n",
       "  <tbody>\n",
       "    <tr>\n",
       "      <th>SalePrice</th>\n",
       "      <td>0</td>\n",
       "      <td>0.0</td>\n",
       "    </tr>\n",
       "    <tr>\n",
       "      <th>Heating</th>\n",
       "      <td>0</td>\n",
       "      <td>0.0</td>\n",
       "    </tr>\n",
       "    <tr>\n",
       "      <th>RoofStyle</th>\n",
       "      <td>0</td>\n",
       "      <td>0.0</td>\n",
       "    </tr>\n",
       "    <tr>\n",
       "      <th>RoofMatl</th>\n",
       "      <td>0</td>\n",
       "      <td>0.0</td>\n",
       "    </tr>\n",
       "    <tr>\n",
       "      <th>Exterior1st</th>\n",
       "      <td>0</td>\n",
       "      <td>0.0</td>\n",
       "    </tr>\n",
       "    <tr>\n",
       "      <th>Exterior2nd</th>\n",
       "      <td>0</td>\n",
       "      <td>0.0</td>\n",
       "    </tr>\n",
       "    <tr>\n",
       "      <th>MasVnrType</th>\n",
       "      <td>0</td>\n",
       "      <td>0.0</td>\n",
       "    </tr>\n",
       "    <tr>\n",
       "      <th>MasVnrArea</th>\n",
       "      <td>0</td>\n",
       "      <td>0.0</td>\n",
       "    </tr>\n",
       "    <tr>\n",
       "      <th>ExterQual</th>\n",
       "      <td>0</td>\n",
       "      <td>0.0</td>\n",
       "    </tr>\n",
       "    <tr>\n",
       "      <th>ExterCond</th>\n",
       "      <td>0</td>\n",
       "      <td>0.0</td>\n",
       "    </tr>\n",
       "    <tr>\n",
       "      <th>Foundation</th>\n",
       "      <td>0</td>\n",
       "      <td>0.0</td>\n",
       "    </tr>\n",
       "    <tr>\n",
       "      <th>BsmtQual</th>\n",
       "      <td>0</td>\n",
       "      <td>0.0</td>\n",
       "    </tr>\n",
       "    <tr>\n",
       "      <th>BsmtCond</th>\n",
       "      <td>0</td>\n",
       "      <td>0.0</td>\n",
       "    </tr>\n",
       "    <tr>\n",
       "      <th>BsmtExposure</th>\n",
       "      <td>0</td>\n",
       "      <td>0.0</td>\n",
       "    </tr>\n",
       "    <tr>\n",
       "      <th>BsmtFinType1</th>\n",
       "      <td>0</td>\n",
       "      <td>0.0</td>\n",
       "    </tr>\n",
       "    <tr>\n",
       "      <th>BsmtFinSF1</th>\n",
       "      <td>0</td>\n",
       "      <td>0.0</td>\n",
       "    </tr>\n",
       "    <tr>\n",
       "      <th>BsmtFinType2</th>\n",
       "      <td>0</td>\n",
       "      <td>0.0</td>\n",
       "    </tr>\n",
       "    <tr>\n",
       "      <th>BsmtFinSF2</th>\n",
       "      <td>0</td>\n",
       "      <td>0.0</td>\n",
       "    </tr>\n",
       "    <tr>\n",
       "      <th>BsmtUnfSF</th>\n",
       "      <td>0</td>\n",
       "      <td>0.0</td>\n",
       "    </tr>\n",
       "    <tr>\n",
       "      <th>YearRemodAdd</th>\n",
       "      <td>0</td>\n",
       "      <td>0.0</td>\n",
       "    </tr>\n",
       "  </tbody>\n",
       "</table>\n",
       "</div>"
      ],
      "text/plain": [
       "              Total  Percent\n",
       "SalePrice         0      0.0\n",
       "Heating           0      0.0\n",
       "RoofStyle         0      0.0\n",
       "RoofMatl          0      0.0\n",
       "Exterior1st       0      0.0\n",
       "Exterior2nd       0      0.0\n",
       "MasVnrType        0      0.0\n",
       "MasVnrArea        0      0.0\n",
       "ExterQual         0      0.0\n",
       "ExterCond         0      0.0\n",
       "Foundation        0      0.0\n",
       "BsmtQual          0      0.0\n",
       "BsmtCond          0      0.0\n",
       "BsmtExposure      0      0.0\n",
       "BsmtFinType1      0      0.0\n",
       "BsmtFinSF1        0      0.0\n",
       "BsmtFinType2      0      0.0\n",
       "BsmtFinSF2        0      0.0\n",
       "BsmtUnfSF         0      0.0\n",
       "YearRemodAdd      0      0.0"
      ]
     },
     "execution_count": 45,
     "metadata": {},
     "output_type": "execute_result"
    }
   ],
   "source": [
    "# Missing data\n",
    "total = data.isnull().sum().sort_values(ascending=False)\n",
    "percent = ((data.isnull().sum()/data.isnull().count()).sort_values(ascending=False))* 100\n",
    "missing_data = pd.concat([total, percent], axis=1, keys=['Total', 'Percent'])\n",
    "missing_data.head(20)"
   ]
  },
  {
   "cell_type": "code",
   "execution_count": null,
   "metadata": {
    "collapsed": true
   },
   "outputs": [],
   "source": []
  },
  {
   "cell_type": "code",
   "execution_count": 85,
   "metadata": {},
   "outputs": [
    {
     "name": "stdout",
     "output_type": "stream",
     "text": [
      "<class 'pandas.core.frame.DataFrame'>\n",
      "RangeIndex: 1460 entries, 0 to 1459\n",
      "Data columns (total 81 columns):\n",
      "Id               1460 non-null int64\n",
      "MSSubClass       1460 non-null int64\n",
      "MSZoning         1460 non-null object\n",
      "LotFrontage      1460 non-null float64\n",
      "LotArea          1460 non-null int64\n",
      "Street           1460 non-null object\n",
      "Alley            1460 non-null object\n",
      "LotShape         1460 non-null object\n",
      "LandContour      1460 non-null object\n",
      "Utilities        1460 non-null object\n",
      "LotConfig        1460 non-null object\n",
      "LandSlope        1460 non-null object\n",
      "Neighborhood     1460 non-null object\n",
      "Condition1       1460 non-null object\n",
      "Condition2       1460 non-null object\n",
      "BldgType         1460 non-null object\n",
      "HouseStyle       1460 non-null object\n",
      "OverallQual      1460 non-null int64\n",
      "OverallCond      1460 non-null int64\n",
      "YearBuilt        1460 non-null int64\n",
      "YearRemodAdd     1460 non-null int64\n",
      "RoofStyle        1460 non-null object\n",
      "RoofMatl         1460 non-null object\n",
      "Exterior1st      1460 non-null object\n",
      "Exterior2nd      1460 non-null object\n",
      "MasVnrType       1460 non-null object\n",
      "MasVnrArea       1460 non-null object\n",
      "ExterQual        1460 non-null object\n",
      "ExterCond        1460 non-null object\n",
      "Foundation       1460 non-null object\n",
      "BsmtQual         1460 non-null object\n",
      "BsmtCond         1460 non-null object\n",
      "BsmtExposure     1460 non-null object\n",
      "BsmtFinType1     1460 non-null object\n",
      "BsmtFinSF1       1460 non-null int64\n",
      "BsmtFinType2     1460 non-null object\n",
      "BsmtFinSF2       1460 non-null int64\n",
      "BsmtUnfSF        1460 non-null int64\n",
      "TotalBsmtSF      1460 non-null int64\n",
      "Heating          1460 non-null object\n",
      "HeatingQC        1460 non-null object\n",
      "CentralAir       1460 non-null object\n",
      "Electrical       1460 non-null object\n",
      "1stFlrSF         1460 non-null int64\n",
      "2ndFlrSF         1460 non-null int64\n",
      "LowQualFinSF     1460 non-null int64\n",
      "GrLivArea        1460 non-null int64\n",
      "BsmtFullBath     1460 non-null int64\n",
      "BsmtHalfBath     1460 non-null int64\n",
      "FullBath         1460 non-null int64\n",
      "HalfBath         1460 non-null int64\n",
      "BedroomAbvGr     1460 non-null int64\n",
      "KitchenAbvGr     1460 non-null int64\n",
      "KitchenQual      1460 non-null object\n",
      "TotRmsAbvGrd     1460 non-null int64\n",
      "Functional       1460 non-null object\n",
      "Fireplaces       1460 non-null int64\n",
      "FireplaceQu      1460 non-null object\n",
      "GarageType       1460 non-null object\n",
      "GarageYrBlt      1460 non-null float64\n",
      "GarageFinish     1460 non-null object\n",
      "GarageCars       1460 non-null int64\n",
      "GarageArea       1460 non-null int64\n",
      "GarageQual       1460 non-null object\n",
      "GarageCond       1460 non-null object\n",
      "PavedDrive       1460 non-null object\n",
      "WoodDeckSF       1460 non-null int64\n",
      "OpenPorchSF      1460 non-null int64\n",
      "EnclosedPorch    1460 non-null int64\n",
      "3SsnPorch        1460 non-null int64\n",
      "ScreenPorch      1460 non-null int64\n",
      "PoolArea         1460 non-null int64\n",
      "PoolQC           1460 non-null object\n",
      "Fence            1460 non-null object\n",
      "MiscFeature      1460 non-null object\n",
      "MiscVal          1460 non-null int64\n",
      "MoSold           1460 non-null int64\n",
      "YrSold           1460 non-null int64\n",
      "SaleType         1460 non-null object\n",
      "SaleCondition    1460 non-null object\n",
      "SalePrice        1460 non-null int64\n",
      "dtypes: float64(2), int64(35), object(44)\n",
      "memory usage: 924.0+ KB\n"
     ]
    }
   ],
   "source": [
    "data.info()"
   ]
  },
  {
   "cell_type": "markdown",
   "metadata": {},
   "source": [
    "#### Numeric Variables"
   ]
  },
  {
   "cell_type": "code",
   "execution_count": 88,
   "metadata": {
    "collapsed": true
   },
   "outputs": [],
   "source": [
    "dfNum = data.select_dtypes(include=['int64'])"
   ]
  },
  {
   "cell_type": "code",
   "execution_count": 89,
   "metadata": {},
   "outputs": [
    {
     "name": "stdout",
     "output_type": "stream",
     "text": [
      "<class 'pandas.core.frame.DataFrame'>\n",
      "RangeIndex: 1460 entries, 0 to 1459\n",
      "Data columns (total 35 columns):\n",
      "Id               1460 non-null int64\n",
      "MSSubClass       1460 non-null int64\n",
      "LotArea          1460 non-null int64\n",
      "OverallQual      1460 non-null int64\n",
      "OverallCond      1460 non-null int64\n",
      "YearBuilt        1460 non-null int64\n",
      "YearRemodAdd     1460 non-null int64\n",
      "BsmtFinSF1       1460 non-null int64\n",
      "BsmtFinSF2       1460 non-null int64\n",
      "BsmtUnfSF        1460 non-null int64\n",
      "TotalBsmtSF      1460 non-null int64\n",
      "1stFlrSF         1460 non-null int64\n",
      "2ndFlrSF         1460 non-null int64\n",
      "LowQualFinSF     1460 non-null int64\n",
      "GrLivArea        1460 non-null int64\n",
      "BsmtFullBath     1460 non-null int64\n",
      "BsmtHalfBath     1460 non-null int64\n",
      "FullBath         1460 non-null int64\n",
      "HalfBath         1460 non-null int64\n",
      "BedroomAbvGr     1460 non-null int64\n",
      "KitchenAbvGr     1460 non-null int64\n",
      "TotRmsAbvGrd     1460 non-null int64\n",
      "Fireplaces       1460 non-null int64\n",
      "GarageCars       1460 non-null int64\n",
      "GarageArea       1460 non-null int64\n",
      "WoodDeckSF       1460 non-null int64\n",
      "OpenPorchSF      1460 non-null int64\n",
      "EnclosedPorch    1460 non-null int64\n",
      "3SsnPorch        1460 non-null int64\n",
      "ScreenPorch      1460 non-null int64\n",
      "PoolArea         1460 non-null int64\n",
      "MiscVal          1460 non-null int64\n",
      "MoSold           1460 non-null int64\n",
      "YrSold           1460 non-null int64\n",
      "SalePrice        1460 non-null int64\n",
      "dtypes: int64(35)\n",
      "memory usage: 399.3 KB\n"
     ]
    }
   ],
   "source": [
    "dfNum.info()"
   ]
  },
  {
   "cell_type": "markdown",
   "metadata": {},
   "source": [
    "#### Floating Variables"
   ]
  },
  {
   "cell_type": "code",
   "execution_count": 90,
   "metadata": {
    "collapsed": true
   },
   "outputs": [],
   "source": [
    "dfFloat = data.select_dtypes(include=['float64'])"
   ]
  },
  {
   "cell_type": "code",
   "execution_count": 91,
   "metadata": {},
   "outputs": [
    {
     "name": "stdout",
     "output_type": "stream",
     "text": [
      "<class 'pandas.core.frame.DataFrame'>\n",
      "RangeIndex: 1460 entries, 0 to 1459\n",
      "Data columns (total 2 columns):\n",
      "LotFrontage    1460 non-null float64\n",
      "GarageYrBlt    1460 non-null float64\n",
      "dtypes: float64(2)\n",
      "memory usage: 22.9 KB\n"
     ]
    }
   ],
   "source": [
    "dfFloat.info()"
   ]
  },
  {
   "cell_type": "code",
   "execution_count": 95,
   "metadata": {},
   "outputs": [
    {
     "data": {
      "text/html": [
       "<div>\n",
       "<style>\n",
       "    .dataframe thead tr:only-child th {\n",
       "        text-align: right;\n",
       "    }\n",
       "\n",
       "    .dataframe thead th {\n",
       "        text-align: left;\n",
       "    }\n",
       "\n",
       "    .dataframe tbody tr th {\n",
       "        vertical-align: top;\n",
       "    }\n",
       "</style>\n",
       "<table border=\"1\" class=\"dataframe\">\n",
       "  <thead>\n",
       "    <tr style=\"text-align: right;\">\n",
       "      <th></th>\n",
       "      <th>LotFrontage</th>\n",
       "      <th>GarageYrBlt</th>\n",
       "    </tr>\n",
       "  </thead>\n",
       "  <tbody>\n",
       "    <tr>\n",
       "      <th>0</th>\n",
       "      <td>65.0</td>\n",
       "      <td>2003.0</td>\n",
       "    </tr>\n",
       "    <tr>\n",
       "      <th>1</th>\n",
       "      <td>80.0</td>\n",
       "      <td>1976.0</td>\n",
       "    </tr>\n",
       "    <tr>\n",
       "      <th>2</th>\n",
       "      <td>68.0</td>\n",
       "      <td>2001.0</td>\n",
       "    </tr>\n",
       "    <tr>\n",
       "      <th>3</th>\n",
       "      <td>60.0</td>\n",
       "      <td>1998.0</td>\n",
       "    </tr>\n",
       "    <tr>\n",
       "      <th>4</th>\n",
       "      <td>84.0</td>\n",
       "      <td>2000.0</td>\n",
       "    </tr>\n",
       "  </tbody>\n",
       "</table>\n",
       "</div>"
      ],
      "text/plain": [
       "   LotFrontage  GarageYrBlt\n",
       "0         65.0       2003.0\n",
       "1         80.0       1976.0\n",
       "2         68.0       2001.0\n",
       "3         60.0       1998.0\n",
       "4         84.0       2000.0"
      ]
     },
     "execution_count": 95,
     "metadata": {},
     "output_type": "execute_result"
    }
   ],
   "source": [
    "dfFloat.head()"
   ]
  },
  {
   "cell_type": "markdown",
   "metadata": {},
   "source": [
    "#### Object Variables"
   ]
  },
  {
   "cell_type": "code",
   "execution_count": 97,
   "metadata": {
    "collapsed": true
   },
   "outputs": [],
   "source": [
    "dfObj = data.select_dtypes(include=['object'])"
   ]
  },
  {
   "cell_type": "code",
   "execution_count": 98,
   "metadata": {},
   "outputs": [
    {
     "name": "stdout",
     "output_type": "stream",
     "text": [
      "<class 'pandas.core.frame.DataFrame'>\n",
      "RangeIndex: 1460 entries, 0 to 1459\n",
      "Data columns (total 44 columns):\n",
      "MSZoning         1460 non-null object\n",
      "Street           1460 non-null object\n",
      "Alley            1460 non-null object\n",
      "LotShape         1460 non-null object\n",
      "LandContour      1460 non-null object\n",
      "Utilities        1460 non-null object\n",
      "LotConfig        1460 non-null object\n",
      "LandSlope        1460 non-null object\n",
      "Neighborhood     1460 non-null object\n",
      "Condition1       1460 non-null object\n",
      "Condition2       1460 non-null object\n",
      "BldgType         1460 non-null object\n",
      "HouseStyle       1460 non-null object\n",
      "RoofStyle        1460 non-null object\n",
      "RoofMatl         1460 non-null object\n",
      "Exterior1st      1460 non-null object\n",
      "Exterior2nd      1460 non-null object\n",
      "MasVnrType       1460 non-null object\n",
      "MasVnrArea       1460 non-null object\n",
      "ExterQual        1460 non-null object\n",
      "ExterCond        1460 non-null object\n",
      "Foundation       1460 non-null object\n",
      "BsmtQual         1460 non-null object\n",
      "BsmtCond         1460 non-null object\n",
      "BsmtExposure     1460 non-null object\n",
      "BsmtFinType1     1460 non-null object\n",
      "BsmtFinType2     1460 non-null object\n",
      "Heating          1460 non-null object\n",
      "HeatingQC        1460 non-null object\n",
      "CentralAir       1460 non-null object\n",
      "Electrical       1460 non-null object\n",
      "KitchenQual      1460 non-null object\n",
      "Functional       1460 non-null object\n",
      "FireplaceQu      1460 non-null object\n",
      "GarageType       1460 non-null object\n",
      "GarageFinish     1460 non-null object\n",
      "GarageQual       1460 non-null object\n",
      "GarageCond       1460 non-null object\n",
      "PavedDrive       1460 non-null object\n",
      "PoolQC           1460 non-null object\n",
      "Fence            1460 non-null object\n",
      "MiscFeature      1460 non-null object\n",
      "SaleType         1460 non-null object\n",
      "SaleCondition    1460 non-null object\n",
      "dtypes: object(44)\n",
      "memory usage: 502.0+ KB\n"
     ]
    }
   ],
   "source": [
    "dfObj.info()"
   ]
  },
  {
   "cell_type": "code",
   "execution_count": 100,
   "metadata": {},
   "outputs": [
    {
     "data": {
      "text/plain": [
       "Index(['MSZoning', 'Street', 'Alley', 'LotShape', 'LandContour', 'Utilities',\n",
       "       'LotConfig', 'LandSlope', 'Neighborhood', 'Condition1', 'Condition2',\n",
       "       'BldgType', 'HouseStyle', 'RoofStyle', 'RoofMatl', 'Exterior1st',\n",
       "       'Exterior2nd', 'MasVnrType', 'MasVnrArea', 'ExterQual', 'ExterCond',\n",
       "       'Foundation', 'BsmtQual', 'BsmtCond', 'BsmtExposure', 'BsmtFinType1',\n",
       "       'BsmtFinType2', 'Heating', 'HeatingQC', 'CentralAir', 'Electrical',\n",
       "       'KitchenQual', 'Functional', 'FireplaceQu', 'GarageType',\n",
       "       'GarageFinish', 'GarageQual', 'GarageCond', 'PavedDrive', 'PoolQC',\n",
       "       'Fence', 'MiscFeature', 'SaleType', 'SaleCondition'],\n",
       "      dtype='object')"
      ]
     },
     "execution_count": 100,
     "metadata": {},
     "output_type": "execute_result"
    }
   ],
   "source": [
    "dfObj.columns"
   ]
  },
  {
   "cell_type": "code",
   "execution_count": 101,
   "metadata": {},
   "outputs": [
    {
     "data": {
      "text/plain": [
       "MSZoning         0\n",
       "Street           0\n",
       "Alley            0\n",
       "LotShape         0\n",
       "LandContour      0\n",
       "Utilities        0\n",
       "LotConfig        0\n",
       "LandSlope        0\n",
       "Neighborhood     0\n",
       "Condition1       0\n",
       "Condition2       0\n",
       "BldgType         0\n",
       "HouseStyle       0\n",
       "RoofStyle        0\n",
       "RoofMatl         0\n",
       "Exterior1st      0\n",
       "Exterior2nd      0\n",
       "MasVnrType       0\n",
       "MasVnrArea       0\n",
       "ExterQual        0\n",
       "ExterCond        0\n",
       "Foundation       0\n",
       "BsmtQual         0\n",
       "BsmtCond         0\n",
       "BsmtExposure     0\n",
       "BsmtFinType1     0\n",
       "BsmtFinType2     0\n",
       "Heating          0\n",
       "HeatingQC        0\n",
       "CentralAir       0\n",
       "Electrical       0\n",
       "KitchenQual      0\n",
       "Functional       0\n",
       "FireplaceQu      0\n",
       "GarageType       0\n",
       "GarageFinish     0\n",
       "GarageQual       0\n",
       "GarageCond       0\n",
       "PavedDrive       0\n",
       "PoolQC           0\n",
       "Fence            0\n",
       "MiscFeature      0\n",
       "SaleType         0\n",
       "SaleCondition    0\n",
       "dtype: int64"
      ]
     },
     "execution_count": 101,
     "metadata": {},
     "output_type": "execute_result"
    }
   ],
   "source": [
    "dfObj.isnull().sum()"
   ]
  },
  {
   "cell_type": "markdown",
   "metadata": {},
   "source": [
    "##### Data is Cleaned, No Missing Values"
   ]
  },
  {
   "cell_type": "markdown",
   "metadata": {},
   "source": [
    "### Adding Dummies to Categorical Data"
   ]
  },
  {
   "cell_type": "markdown",
   "metadata": {
    "collapsed": true
   },
   "source": [
    "df1 = pd.get_dummies(dfObj, columns=['MSZoning', 'Street', 'LotShape', 'LandContour', 'Utilities',\n",
    "       'LotConfig', 'LandSlope', 'Neighborhood', 'Condition1', 'Condition2',\n",
    "       'BldgType', 'HouseStyle', 'RoofStyle', 'RoofMatl', 'Exterior1st',\n",
    "       'Exterior2nd', 'MasVnrType', 'ExterQual', 'ExterCond', 'Foundation',\n",
    "       'BsmtQual', 'BsmtCond', 'BsmtExposure', 'BsmtFinType1', 'BsmtFinType2',\n",
    "       'Heating', 'HeatingQC', 'CentralAir', 'Electrical', 'KitchenQual',\n",
    "       'Functional', 'FireplaceQu', 'GarageType', 'GarageFinish', 'GarageQual',\n",
    "       'GarageCond', 'PavedDrive', 'SaleType', 'SaleCondition'])"
   ]
  },
  {
   "cell_type": "code",
   "execution_count": 104,
   "metadata": {
    "collapsed": true
   },
   "outputs": [],
   "source": [
    "dfObj = pd.get_dummies(dfObj)"
   ]
  },
  {
   "cell_type": "code",
   "execution_count": 105,
   "metadata": {},
   "outputs": [
    {
     "name": "stdout",
     "output_type": "stream",
     "text": [
      "<class 'pandas.core.frame.DataFrame'>\n",
      "RangeIndex: 1460 entries, 0 to 1459\n",
      "Columns: 594 entries, MSZoning_C (all) to SaleCondition_Partial\n",
      "dtypes: uint8(594)\n",
      "memory usage: 847.0 KB\n"
     ]
    }
   ],
   "source": [
    "dfObj.info()"
   ]
  },
  {
   "cell_type": "code",
   "execution_count": 106,
   "metadata": {},
   "outputs": [
    {
     "data": {
      "text/html": [
       "<div>\n",
       "<style>\n",
       "    .dataframe thead tr:only-child th {\n",
       "        text-align: right;\n",
       "    }\n",
       "\n",
       "    .dataframe thead th {\n",
       "        text-align: left;\n",
       "    }\n",
       "\n",
       "    .dataframe tbody tr th {\n",
       "        vertical-align: top;\n",
       "    }\n",
       "</style>\n",
       "<table border=\"1\" class=\"dataframe\">\n",
       "  <thead>\n",
       "    <tr style=\"text-align: right;\">\n",
       "      <th></th>\n",
       "      <th>MSZoning_C (all)</th>\n",
       "      <th>MSZoning_FV</th>\n",
       "      <th>MSZoning_RH</th>\n",
       "      <th>MSZoning_RL</th>\n",
       "      <th>MSZoning_RM</th>\n",
       "      <th>Street_Grvl</th>\n",
       "      <th>Street_Pave</th>\n",
       "      <th>Alley_Grvl</th>\n",
       "      <th>Alley_NA</th>\n",
       "      <th>Alley_Pave</th>\n",
       "      <th>...</th>\n",
       "      <th>SaleType_ConLw</th>\n",
       "      <th>SaleType_New</th>\n",
       "      <th>SaleType_Oth</th>\n",
       "      <th>SaleType_WD</th>\n",
       "      <th>SaleCondition_Abnorml</th>\n",
       "      <th>SaleCondition_AdjLand</th>\n",
       "      <th>SaleCondition_Alloca</th>\n",
       "      <th>SaleCondition_Family</th>\n",
       "      <th>SaleCondition_Normal</th>\n",
       "      <th>SaleCondition_Partial</th>\n",
       "    </tr>\n",
       "  </thead>\n",
       "  <tbody>\n",
       "    <tr>\n",
       "      <th>0</th>\n",
       "      <td>0</td>\n",
       "      <td>0</td>\n",
       "      <td>0</td>\n",
       "      <td>1</td>\n",
       "      <td>0</td>\n",
       "      <td>0</td>\n",
       "      <td>1</td>\n",
       "      <td>0</td>\n",
       "      <td>1</td>\n",
       "      <td>0</td>\n",
       "      <td>...</td>\n",
       "      <td>0</td>\n",
       "      <td>0</td>\n",
       "      <td>0</td>\n",
       "      <td>1</td>\n",
       "      <td>0</td>\n",
       "      <td>0</td>\n",
       "      <td>0</td>\n",
       "      <td>0</td>\n",
       "      <td>1</td>\n",
       "      <td>0</td>\n",
       "    </tr>\n",
       "    <tr>\n",
       "      <th>1</th>\n",
       "      <td>0</td>\n",
       "      <td>0</td>\n",
       "      <td>0</td>\n",
       "      <td>1</td>\n",
       "      <td>0</td>\n",
       "      <td>0</td>\n",
       "      <td>1</td>\n",
       "      <td>0</td>\n",
       "      <td>1</td>\n",
       "      <td>0</td>\n",
       "      <td>...</td>\n",
       "      <td>0</td>\n",
       "      <td>0</td>\n",
       "      <td>0</td>\n",
       "      <td>1</td>\n",
       "      <td>0</td>\n",
       "      <td>0</td>\n",
       "      <td>0</td>\n",
       "      <td>0</td>\n",
       "      <td>1</td>\n",
       "      <td>0</td>\n",
       "    </tr>\n",
       "    <tr>\n",
       "      <th>2</th>\n",
       "      <td>0</td>\n",
       "      <td>0</td>\n",
       "      <td>0</td>\n",
       "      <td>1</td>\n",
       "      <td>0</td>\n",
       "      <td>0</td>\n",
       "      <td>1</td>\n",
       "      <td>0</td>\n",
       "      <td>1</td>\n",
       "      <td>0</td>\n",
       "      <td>...</td>\n",
       "      <td>0</td>\n",
       "      <td>0</td>\n",
       "      <td>0</td>\n",
       "      <td>1</td>\n",
       "      <td>0</td>\n",
       "      <td>0</td>\n",
       "      <td>0</td>\n",
       "      <td>0</td>\n",
       "      <td>1</td>\n",
       "      <td>0</td>\n",
       "    </tr>\n",
       "    <tr>\n",
       "      <th>3</th>\n",
       "      <td>0</td>\n",
       "      <td>0</td>\n",
       "      <td>0</td>\n",
       "      <td>1</td>\n",
       "      <td>0</td>\n",
       "      <td>0</td>\n",
       "      <td>1</td>\n",
       "      <td>0</td>\n",
       "      <td>1</td>\n",
       "      <td>0</td>\n",
       "      <td>...</td>\n",
       "      <td>0</td>\n",
       "      <td>0</td>\n",
       "      <td>0</td>\n",
       "      <td>1</td>\n",
       "      <td>1</td>\n",
       "      <td>0</td>\n",
       "      <td>0</td>\n",
       "      <td>0</td>\n",
       "      <td>0</td>\n",
       "      <td>0</td>\n",
       "    </tr>\n",
       "    <tr>\n",
       "      <th>4</th>\n",
       "      <td>0</td>\n",
       "      <td>0</td>\n",
       "      <td>0</td>\n",
       "      <td>1</td>\n",
       "      <td>0</td>\n",
       "      <td>0</td>\n",
       "      <td>1</td>\n",
       "      <td>0</td>\n",
       "      <td>1</td>\n",
       "      <td>0</td>\n",
       "      <td>...</td>\n",
       "      <td>0</td>\n",
       "      <td>0</td>\n",
       "      <td>0</td>\n",
       "      <td>1</td>\n",
       "      <td>0</td>\n",
       "      <td>0</td>\n",
       "      <td>0</td>\n",
       "      <td>0</td>\n",
       "      <td>1</td>\n",
       "      <td>0</td>\n",
       "    </tr>\n",
       "  </tbody>\n",
       "</table>\n",
       "<p>5 rows × 594 columns</p>\n",
       "</div>"
      ],
      "text/plain": [
       "   MSZoning_C (all)  MSZoning_FV  MSZoning_RH  MSZoning_RL  MSZoning_RM  \\\n",
       "0                 0            0            0            1            0   \n",
       "1                 0            0            0            1            0   \n",
       "2                 0            0            0            1            0   \n",
       "3                 0            0            0            1            0   \n",
       "4                 0            0            0            1            0   \n",
       "\n",
       "   Street_Grvl  Street_Pave  Alley_Grvl  Alley_NA  Alley_Pave  \\\n",
       "0            0            1           0         1           0   \n",
       "1            0            1           0         1           0   \n",
       "2            0            1           0         1           0   \n",
       "3            0            1           0         1           0   \n",
       "4            0            1           0         1           0   \n",
       "\n",
       "           ...            SaleType_ConLw  SaleType_New  SaleType_Oth  \\\n",
       "0          ...                         0             0             0   \n",
       "1          ...                         0             0             0   \n",
       "2          ...                         0             0             0   \n",
       "3          ...                         0             0             0   \n",
       "4          ...                         0             0             0   \n",
       "\n",
       "   SaleType_WD  SaleCondition_Abnorml  SaleCondition_AdjLand  \\\n",
       "0            1                      0                      0   \n",
       "1            1                      0                      0   \n",
       "2            1                      0                      0   \n",
       "3            1                      1                      0   \n",
       "4            1                      0                      0   \n",
       "\n",
       "   SaleCondition_Alloca  SaleCondition_Family  SaleCondition_Normal  \\\n",
       "0                     0                     0                     1   \n",
       "1                     0                     0                     1   \n",
       "2                     0                     0                     1   \n",
       "3                     0                     0                     0   \n",
       "4                     0                     0                     1   \n",
       "\n",
       "   SaleCondition_Partial  \n",
       "0                      0  \n",
       "1                      0  \n",
       "2                      0  \n",
       "3                      0  \n",
       "4                      0  \n",
       "\n",
       "[5 rows x 594 columns]"
      ]
     },
     "execution_count": 106,
     "metadata": {},
     "output_type": "execute_result"
    }
   ],
   "source": [
    "dfObj.head()"
   ]
  },
  {
   "cell_type": "code",
   "execution_count": 107,
   "metadata": {
    "collapsed": true
   },
   "outputs": [],
   "source": [
    "dataCombine = pd.concat([dfObj, pd.concat([dfFloat, dfNum], ignore_index = True)], axis = 1)"
   ]
  },
  {
   "cell_type": "code",
   "execution_count": 110,
   "metadata": {},
   "outputs": [
    {
     "data": {
      "text/plain": [
       "MSZoning_C (all)        1460\n",
       "MSZoning_FV             1460\n",
       "MSZoning_RH             1460\n",
       "MSZoning_RL             1460\n",
       "MSZoning_RM             1460\n",
       "Street_Grvl             1460\n",
       "Street_Pave             1460\n",
       "Alley_Grvl              1460\n",
       "Alley_NA                1460\n",
       "Alley_Pave              1460\n",
       "LotShape_IR1            1460\n",
       "LotShape_IR2            1460\n",
       "LotShape_IR3            1460\n",
       "LotShape_Reg            1460\n",
       "LandContour_Bnk         1460\n",
       "LandContour_HLS         1460\n",
       "LandContour_Low         1460\n",
       "LandContour_Lvl         1460\n",
       "Utilities_AllPub        1460\n",
       "Utilities_NoSeWa        1460\n",
       "LotConfig_Corner        1460\n",
       "LotConfig_CulDSac       1460\n",
       "LotConfig_FR2           1460\n",
       "LotConfig_FR3           1460\n",
       "LotConfig_Inside        1460\n",
       "LandSlope_Gtl           1460\n",
       "LandSlope_Mod           1460\n",
       "LandSlope_Sev           1460\n",
       "Neighborhood_Blmngtn    1460\n",
       "Neighborhood_Blueste    1460\n",
       "                        ... \n",
       "BsmtHalfBath            1460\n",
       "BsmtUnfSF               1460\n",
       "EnclosedPorch           1460\n",
       "Fireplaces              1460\n",
       "FullBath                1460\n",
       "GarageArea              1460\n",
       "GarageCars              1460\n",
       "GarageYrBlt             1460\n",
       "GrLivArea               1460\n",
       "HalfBath                1460\n",
       "Id                      1460\n",
       "KitchenAbvGr            1460\n",
       "LotArea                 1460\n",
       "LotFrontage             1460\n",
       "LowQualFinSF            1460\n",
       "MSSubClass              1460\n",
       "MiscVal                 1460\n",
       "MoSold                  1460\n",
       "OpenPorchSF             1460\n",
       "OverallCond             1460\n",
       "OverallQual             1460\n",
       "PoolArea                1460\n",
       "SalePrice               1460\n",
       "ScreenPorch             1460\n",
       "TotRmsAbvGrd            1460\n",
       "TotalBsmtSF             1460\n",
       "WoodDeckSF              1460\n",
       "YearBuilt               1460\n",
       "YearRemodAdd            1460\n",
       "YrSold                  1460\n",
       "Length: 631, dtype: int64"
      ]
     },
     "execution_count": 110,
     "metadata": {},
     "output_type": "execute_result"
    }
   ],
   "source": [
    "dataCombine.isnull().sum()"
   ]
  },
  {
   "cell_type": "markdown",
   "metadata": {},
   "source": [
    "### Implemented Boruta"
   ]
  },
  {
   "cell_type": "code",
   "execution_count": 71,
   "metadata": {
    "collapsed": true
   },
   "outputs": [],
   "source": [
    "from sklearn.ensemble import RandomForestRegressor\n",
    "from boruta import BorutaPy\n",
    "from sklearn.model_selection import train_test_split"
   ]
  },
  {
   "cell_type": "code",
   "execution_count": 75,
   "metadata": {},
   "outputs": [],
   "source": [
    "X = df1\n",
    "y = data['SalePrice']\n",
    "X_train, X_test, y_train, y_test = train_test_split(X, y, train_size = 0.75, test_size = 0.25)"
   ]
  },
  {
   "cell_type": "code",
   "execution_count": 77,
   "metadata": {},
   "outputs": [
    {
     "data": {
      "text/plain": [
       "Index(['MSZoning_C (all)', 'MSZoning_FV', 'MSZoning_RH', 'MSZoning_RL',\n",
       "       'MSZoning_RM', 'Street_Grvl', 'Street_Pave', 'Alley_Grvl', 'Alley_NA',\n",
       "       'Alley_Pave',\n",
       "       ...\n",
       "       'SaleType_ConLw', 'SaleType_New', 'SaleType_Oth', 'SaleType_WD',\n",
       "       'SaleCondition_Abnorml', 'SaleCondition_AdjLand',\n",
       "       'SaleCondition_Alloca', 'SaleCondition_Family', 'SaleCondition_Normal',\n",
       "       'SaleCondition_Partial'],\n",
       "      dtype='object', length=594)"
      ]
     },
     "execution_count": 77,
     "metadata": {},
     "output_type": "execute_result"
    }
   ],
   "source": [
    "X.columns"
   ]
  },
  {
   "cell_type": "code",
   "execution_count": 79,
   "metadata": {},
   "outputs": [
    {
     "data": {
      "text/plain": [
       "1455    175000\n",
       "1456    210000\n",
       "1457    266500\n",
       "1458    142125\n",
       "1459    147500\n",
       "Name: SalePrice, dtype: int64"
      ]
     },
     "execution_count": 79,
     "metadata": {},
     "output_type": "execute_result"
    }
   ],
   "source": [
    "y.tail()"
   ]
  },
  {
   "cell_type": "code",
   "execution_count": null,
   "metadata": {
    "collapsed": true
   },
   "outputs": [],
   "source": []
  },
  {
   "cell_type": "code",
   "execution_count": 82,
   "metadata": {},
   "outputs": [
    {
     "ename": "TypeError",
     "evalue": "'numpy.ndarray' object is not callable",
     "output_type": "error",
     "traceback": [
      "\u001b[1;31m---------------------------------------------------------------------------\u001b[0m",
      "\u001b[1;31mTypeError\u001b[0m                                 Traceback (most recent call last)",
      "\u001b[1;32m<ipython-input-82-87e6f776c247>\u001b[0m in \u001b[0;36m<module>\u001b[1;34m()\u001b[0m\n\u001b[0;32m      1\u001b[0m \u001b[1;31m# load X and y\u001b[0m\u001b[1;33m\u001b[0m\u001b[1;33m\u001b[0m\u001b[0m\n\u001b[1;32m----> 2\u001b[1;33m \u001b[0mX\u001b[0m \u001b[1;33m=\u001b[0m \u001b[0mdf1\u001b[0m\u001b[1;33m.\u001b[0m\u001b[0mvalues\u001b[0m\u001b[1;33m(\u001b[0m\u001b[1;33m)\u001b[0m\u001b[1;33m\u001b[0m\u001b[0m\n\u001b[0m\u001b[0;32m      3\u001b[0m \u001b[0my\u001b[0m \u001b[1;33m=\u001b[0m \u001b[0mdata\u001b[0m\u001b[1;33m[\u001b[0m\u001b[1;34m'SalePrice'\u001b[0m\u001b[1;33m]\u001b[0m\u001b[1;33m.\u001b[0m\u001b[0mvalues\u001b[0m\u001b[1;33m(\u001b[0m\u001b[1;33m)\u001b[0m\u001b[1;33m\u001b[0m\u001b[0m\n\u001b[0;32m      4\u001b[0m \u001b[0mprint\u001b[0m\u001b[1;33m(\u001b[0m\u001b[0mX\u001b[0m\u001b[1;33m,\u001b[0m\u001b[0my\u001b[0m\u001b[1;33m)\u001b[0m\u001b[1;33m\u001b[0m\u001b[0m\n\u001b[0;32m      5\u001b[0m \u001b[1;33m\u001b[0m\u001b[0m\n",
      "\u001b[1;31mTypeError\u001b[0m: 'numpy.ndarray' object is not callable"
     ]
    }
   ],
   "source": [
    "# load X and y\n",
    "X = df1\n",
    "y = data['SalePrice'].values()\n",
    "print(X,y)\n",
    "\n",
    "# define random forest regressor, with utilising all cores and\n",
    "# sampling in proportion to y labels\n",
    "forest = RandomForestRegressor(n_jobs=-1)\n",
    " \n",
    "# define Boruta feature selection method\n",
    "feat_selector = BorutaPy(forest, n_estimators='auto', verbose=2)\n",
    " \n",
    "# find all relevant features\n",
    "feat_selector.fit(X, y)\n",
    " \n",
    "# check selected features\n",
    "feat_selector.support_\n",
    " \n",
    "# check ranking of features\n",
    "feat_selector.ranking_"
   ]
  },
  {
   "cell_type": "code",
   "execution_count": 58,
   "metadata": {},
   "outputs": [
    {
     "ename": "AttributeError",
     "evalue": "'BorutaPy' object has no attribute 'ranking_'",
     "output_type": "error",
     "traceback": [
      "\u001b[1;31m---------------------------------------------------------------------------\u001b[0m",
      "\u001b[1;31mAttributeError\u001b[0m                            Traceback (most recent call last)",
      "\u001b[1;32m<ipython-input-58-fbaf4fe4e15f>\u001b[0m in \u001b[0;36m<module>\u001b[1;34m()\u001b[0m\n\u001b[1;32m----> 1\u001b[1;33m \u001b[0mfeat_imp\u001b[0m \u001b[1;33m=\u001b[0m \u001b[0mpd\u001b[0m\u001b[1;33m.\u001b[0m\u001b[0mSeries\u001b[0m\u001b[1;33m(\u001b[0m\u001b[0mfeat_selector\u001b[0m\u001b[1;33m.\u001b[0m\u001b[0mranking_\u001b[0m\u001b[1;33m,\u001b[0m\u001b[0mX_train\u001b[0m\u001b[1;33m.\u001b[0m\u001b[0mcolumns\u001b[0m\u001b[1;33m)\u001b[0m\u001b[1;33m.\u001b[0m\u001b[0msort_values\u001b[0m\u001b[1;33m(\u001b[0m\u001b[0mascending\u001b[0m\u001b[1;33m=\u001b[0m\u001b[1;32mTrue\u001b[0m\u001b[1;33m)\u001b[0m\u001b[1;33m\u001b[0m\u001b[0m\n\u001b[0m\u001b[0;32m      2\u001b[0m \u001b[0mfeat_imp\u001b[0m\u001b[1;33m.\u001b[0m\u001b[0mplot\u001b[0m\u001b[1;33m(\u001b[0m\u001b[0mkind\u001b[0m\u001b[1;33m=\u001b[0m\u001b[1;34m'bar'\u001b[0m\u001b[1;33m,\u001b[0m \u001b[0mtitle\u001b[0m\u001b[1;33m=\u001b[0m\u001b[1;34m'Feature Importances'\u001b[0m\u001b[1;33m,\u001b[0m\u001b[0mfigsize\u001b[0m \u001b[1;33m=\u001b[0m \u001b[1;33m(\u001b[0m\u001b[1;36m15\u001b[0m\u001b[1;33m,\u001b[0m\u001b[1;36m8\u001b[0m\u001b[1;33m)\u001b[0m\u001b[1;33m)\u001b[0m\u001b[1;33m\u001b[0m\u001b[0m\n\u001b[0;32m      3\u001b[0m \u001b[0mplt\u001b[0m\u001b[1;33m.\u001b[0m\u001b[0mylabel\u001b[0m\u001b[1;33m(\u001b[0m\u001b[1;34m'Rank'\u001b[0m\u001b[1;33m)\u001b[0m\u001b[1;33m\u001b[0m\u001b[0m\n",
      "\u001b[1;31mAttributeError\u001b[0m: 'BorutaPy' object has no attribute 'ranking_'"
     ]
    }
   ],
   "source": [
    "feat_imp = pd.Series(feat_selector.ranking_,X_train.columns).sort_values(ascending=True)\n",
    "feat_imp.plot(kind='bar', title='Feature Importances',figsize = (15,8))\n",
    "plt.ylabel('Rank')"
   ]
  },
  {
   "cell_type": "code",
   "execution_count": 59,
   "metadata": {},
   "outputs": [
    {
     "ename": "AttributeError",
     "evalue": "'BorutaPy' object has no attribute 'ranking_'",
     "output_type": "error",
     "traceback": [
      "\u001b[1;31m---------------------------------------------------------------------------\u001b[0m",
      "\u001b[1;31mAttributeError\u001b[0m                            Traceback (most recent call last)",
      "\u001b[1;32m<ipython-input-59-8326ab632708>\u001b[0m in \u001b[0;36m<module>\u001b[1;34m()\u001b[0m\n\u001b[1;32m----> 1\u001b[1;33m \u001b[0mfeat_imp\u001b[0m \u001b[1;33m=\u001b[0m \u001b[0mpd\u001b[0m\u001b[1;33m.\u001b[0m\u001b[0mSeries\u001b[0m\u001b[1;33m(\u001b[0m\u001b[0mfeat_selector\u001b[0m\u001b[1;33m.\u001b[0m\u001b[0mranking_\u001b[0m\u001b[1;33m,\u001b[0m \u001b[0mX_train\u001b[0m\u001b[1;33m.\u001b[0m\u001b[0mcolumns\u001b[0m\u001b[1;33m)\u001b[0m\u001b[1;33m.\u001b[0m\u001b[0msort_values\u001b[0m\u001b[1;33m(\u001b[0m\u001b[0mascending\u001b[0m\u001b[1;33m=\u001b[0m\u001b[1;32mTrue\u001b[0m\u001b[1;33m)\u001b[0m\u001b[1;33m\u001b[0m\u001b[0m\n\u001b[0m\u001b[0;32m      2\u001b[0m \u001b[0mfeat_imp\u001b[0m\u001b[1;33m[\u001b[0m\u001b[0mfeat_imp\u001b[0m\u001b[1;33m.\u001b[0m\u001b[0msort_values\u001b[0m\u001b[1;33m(\u001b[0m\u001b[1;33m)\u001b[0m \u001b[1;33m<\u001b[0m\u001b[1;36m12\u001b[0m\u001b[1;33m]\u001b[0m\u001b[1;33m.\u001b[0m\u001b[0mplot\u001b[0m\u001b[1;33m(\u001b[0m\u001b[0mkind\u001b[0m\u001b[1;33m=\u001b[0m\u001b[1;34m'bar'\u001b[0m\u001b[1;33m,\u001b[0m \u001b[0mtitle\u001b[0m\u001b[1;33m=\u001b[0m\u001b[1;34m'Feature Importances'\u001b[0m\u001b[1;33m,\u001b[0m\u001b[0mfigsize\u001b[0m \u001b[1;33m=\u001b[0m \u001b[1;33m(\u001b[0m\u001b[1;36m15\u001b[0m\u001b[1;33m,\u001b[0m\u001b[1;36m8\u001b[0m\u001b[1;33m)\u001b[0m\u001b[1;33m)\u001b[0m\u001b[1;33m\u001b[0m\u001b[0m\n\u001b[0;32m      3\u001b[0m \u001b[0mplt\u001b[0m\u001b[1;33m.\u001b[0m\u001b[0mylabel\u001b[0m\u001b[1;33m(\u001b[0m\u001b[1;34m'Rank'\u001b[0m\u001b[1;33m)\u001b[0m\u001b[1;33m\u001b[0m\u001b[0m\n",
      "\u001b[1;31mAttributeError\u001b[0m: 'BorutaPy' object has no attribute 'ranking_'"
     ]
    }
   ],
   "source": [
    "feat_imp = pd.Series(feat_selector.ranking_, X_train.columns).sort_values(ascending=True)\n",
    "feat_imp[feat_imp.sort_values() <12].plot(kind='bar', title='Feature Importances',figsize = (15,8))\n",
    "plt.ylabel('Rank')"
   ]
  },
  {
   "cell_type": "code",
   "execution_count": null,
   "metadata": {
    "collapsed": true
   },
   "outputs": [],
   "source": [
    "feat_selector.ranking_"
   ]
  },
  {
   "cell_type": "code",
   "execution_count": null,
   "metadata": {
    "collapsed": true
   },
   "outputs": [],
   "source": [
    "X_filtered = feat_selector.transform(X)\n",
    "X_filtered.shape"
   ]
  },
  {
   "cell_type": "markdown",
   "metadata": {},
   "source": [
    "### Selected Columns having Rank 1 from Boruta"
   ]
  },
  {
   "cell_type": "code",
   "execution_count": 24,
   "metadata": {
    "collapsed": true
   },
   "outputs": [],
   "source": [
    "colsBoruta = ['GarageCars', 'GarageArea', 'GrLivArea', '2ndFlrSF', '1stFlrSF','TotalBsmtSF', 'BsmtFinSF1', 'TotRmsAbvGrd', 'YearBuilt', 'OverallQual', 'LotArea', 'LotFrontage', 'YearRemodAdd']"
   ]
  },
  {
   "cell_type": "code",
   "execution_count": 25,
   "metadata": {
    "collapsed": true
   },
   "outputs": [],
   "source": [
    "xBor = data[colsBoruta]\n",
    "yBor = data['SalePrice']  "
   ]
  },
  {
   "cell_type": "code",
   "execution_count": null,
   "metadata": {
    "collapsed": true
   },
   "outputs": [],
   "source": []
  },
  {
   "cell_type": "markdown",
   "metadata": {},
   "source": [
    "### Extra Trees Regressor Feature Selection"
   ]
  },
  {
   "cell_type": "code",
   "execution_count": 60,
   "metadata": {
    "collapsed": true
   },
   "outputs": [],
   "source": [
    "from sklearn.ensemble import ExtraTreesRegressor\n",
    "from sklearn.feature_selection import SelectFromModel\n",
    "from sklearn.model_selection import train_test_split\n",
    "#df.drop(columns=['B', 'C'])\n",
    "X = df1.drop(['SalePrice'], axis =1)\n",
    "y = df1['SalePrice'].values\n",
    "\n",
    "X_train, X_test, y_train, y_test = train_test_split(X, y, train_size = 0.75, test_size = 0.25)"
   ]
  },
  {
   "cell_type": "code",
   "execution_count": 61,
   "metadata": {},
   "outputs": [
    {
     "ename": "ValueError",
     "evalue": "could not convert string to float: 'NA'",
     "output_type": "error",
     "traceback": [
      "\u001b[1;31m---------------------------------------------------------------------------\u001b[0m",
      "\u001b[1;31mValueError\u001b[0m                                Traceback (most recent call last)",
      "\u001b[1;32m<ipython-input-61-7bdf0abe3020>\u001b[0m in \u001b[0;36m<module>\u001b[1;34m()\u001b[0m\n\u001b[0;32m      1\u001b[0m \u001b[0mreg\u001b[0m \u001b[1;33m=\u001b[0m \u001b[0mExtraTreesRegressor\u001b[0m\u001b[1;33m(\u001b[0m\u001b[1;33m)\u001b[0m\u001b[1;33m\u001b[0m\u001b[0m\n\u001b[1;32m----> 2\u001b[1;33m \u001b[0mreg\u001b[0m \u001b[1;33m=\u001b[0m \u001b[0mreg\u001b[0m\u001b[1;33m.\u001b[0m\u001b[0mfit\u001b[0m\u001b[1;33m(\u001b[0m\u001b[0mX_train\u001b[0m\u001b[1;33m,\u001b[0m \u001b[0my_train\u001b[0m\u001b[1;33m)\u001b[0m\u001b[1;33m\u001b[0m\u001b[0m\n\u001b[0m\u001b[0;32m      3\u001b[0m \u001b[0mreg\u001b[0m\u001b[1;33m.\u001b[0m\u001b[0mfeature_importances_\u001b[0m\u001b[1;33m\u001b[0m\u001b[0m\n",
      "\u001b[1;32m~\\Anaconda3\\lib\\site-packages\\sklearn\\ensemble\\forest.py\u001b[0m in \u001b[0;36mfit\u001b[1;34m(self, X, y, sample_weight)\u001b[0m\n\u001b[0;32m    245\u001b[0m         \"\"\"\n\u001b[0;32m    246\u001b[0m         \u001b[1;31m# Validate or convert input data\u001b[0m\u001b[1;33m\u001b[0m\u001b[1;33m\u001b[0m\u001b[0m\n\u001b[1;32m--> 247\u001b[1;33m         \u001b[0mX\u001b[0m \u001b[1;33m=\u001b[0m \u001b[0mcheck_array\u001b[0m\u001b[1;33m(\u001b[0m\u001b[0mX\u001b[0m\u001b[1;33m,\u001b[0m \u001b[0maccept_sparse\u001b[0m\u001b[1;33m=\u001b[0m\u001b[1;34m\"csc\"\u001b[0m\u001b[1;33m,\u001b[0m \u001b[0mdtype\u001b[0m\u001b[1;33m=\u001b[0m\u001b[0mDTYPE\u001b[0m\u001b[1;33m)\u001b[0m\u001b[1;33m\u001b[0m\u001b[0m\n\u001b[0m\u001b[0;32m    248\u001b[0m         \u001b[0my\u001b[0m \u001b[1;33m=\u001b[0m \u001b[0mcheck_array\u001b[0m\u001b[1;33m(\u001b[0m\u001b[0my\u001b[0m\u001b[1;33m,\u001b[0m \u001b[0maccept_sparse\u001b[0m\u001b[1;33m=\u001b[0m\u001b[1;34m'csc'\u001b[0m\u001b[1;33m,\u001b[0m \u001b[0mensure_2d\u001b[0m\u001b[1;33m=\u001b[0m\u001b[1;32mFalse\u001b[0m\u001b[1;33m,\u001b[0m \u001b[0mdtype\u001b[0m\u001b[1;33m=\u001b[0m\u001b[1;32mNone\u001b[0m\u001b[1;33m)\u001b[0m\u001b[1;33m\u001b[0m\u001b[0m\n\u001b[0;32m    249\u001b[0m         \u001b[1;32mif\u001b[0m \u001b[0msample_weight\u001b[0m \u001b[1;32mis\u001b[0m \u001b[1;32mnot\u001b[0m \u001b[1;32mNone\u001b[0m\u001b[1;33m:\u001b[0m\u001b[1;33m\u001b[0m\u001b[0m\n",
      "\u001b[1;32m~\\Anaconda3\\lib\\site-packages\\sklearn\\utils\\validation.py\u001b[0m in \u001b[0;36mcheck_array\u001b[1;34m(array, accept_sparse, dtype, order, copy, force_all_finite, ensure_2d, allow_nd, ensure_min_samples, ensure_min_features, warn_on_dtype, estimator)\u001b[0m\n\u001b[0;32m    431\u001b[0m                                       force_all_finite)\n\u001b[0;32m    432\u001b[0m     \u001b[1;32melse\u001b[0m\u001b[1;33m:\u001b[0m\u001b[1;33m\u001b[0m\u001b[0m\n\u001b[1;32m--> 433\u001b[1;33m         \u001b[0marray\u001b[0m \u001b[1;33m=\u001b[0m \u001b[0mnp\u001b[0m\u001b[1;33m.\u001b[0m\u001b[0marray\u001b[0m\u001b[1;33m(\u001b[0m\u001b[0marray\u001b[0m\u001b[1;33m,\u001b[0m \u001b[0mdtype\u001b[0m\u001b[1;33m=\u001b[0m\u001b[0mdtype\u001b[0m\u001b[1;33m,\u001b[0m \u001b[0morder\u001b[0m\u001b[1;33m=\u001b[0m\u001b[0morder\u001b[0m\u001b[1;33m,\u001b[0m \u001b[0mcopy\u001b[0m\u001b[1;33m=\u001b[0m\u001b[0mcopy\u001b[0m\u001b[1;33m)\u001b[0m\u001b[1;33m\u001b[0m\u001b[0m\n\u001b[0m\u001b[0;32m    434\u001b[0m \u001b[1;33m\u001b[0m\u001b[0m\n\u001b[0;32m    435\u001b[0m         \u001b[1;32mif\u001b[0m \u001b[0mensure_2d\u001b[0m\u001b[1;33m:\u001b[0m\u001b[1;33m\u001b[0m\u001b[0m\n",
      "\u001b[1;31mValueError\u001b[0m: could not convert string to float: 'NA'"
     ]
    }
   ],
   "source": [
    "reg = ExtraTreesRegressor()\n",
    "reg = reg.fit(X_train, y_train)\n",
    "reg.feature_importances_"
   ]
  },
  {
   "cell_type": "code",
   "execution_count": 215,
   "metadata": {},
   "outputs": [
    {
     "data": {
      "text/plain": [
       "Text(0,0.5,'Importance Score')"
      ]
     },
     "execution_count": 215,
     "metadata": {},
     "output_type": "execute_result"
    },
    {
     "data": {
      "image/png": "[encoded data removed]",
      "text/plain": [
       "<matplotlib.figure.Figure at 0x1c700f525f8>"
      ]
     },
     "metadata": {},
     "output_type": "display_data"
    }
   ],
   "source": [
    "feat_imp = pd.Series(reg.feature_importances_,X_train.columns).sort_values(ascending=False)\n",
    "feat_imp.plot(kind='bar', title='Feature Importances',figsize = (15,8))\n",
    "plt.ylabel('Importance Score')"
   ]
  },
  {
   "cell_type": "code",
   "execution_count": 216,
   "metadata": {
    "scrolled": true
   },
   "outputs": [
    {
     "data": {
      "text/plain": [
       "Text(0,0.5,'Importance Score')"
      ]
     },
     "execution_count": 216,
     "metadata": {},
     "output_type": "execute_result"
    },
    {
     "data": {
      "image/png": "[encoded data removed]",
      "text/plain": [
       "<matplotlib.figure.Figure at 0x1c700f7a390>"
      ]
     },
     "metadata": {},
     "output_type": "display_data"
    }
   ],
   "source": [
    "feat_imp = pd.Series(reg.feature_importances_,X_train.columns).sort_values(ascending=False)\n",
    "feat_imp[feat_imp.sort_values() > 0.01].plot(kind='bar', title='Feature Importances',figsize = (15,8))\n",
    "plt.ylabel('Importance Score')"
   ]
  },
  {
   "cell_type": "markdown",
   "metadata": {},
   "source": [
    "#### Observation-\n",
    "Top features using ExtraTreesRegressor"
   ]
  },
  {
   "cell_type": "code",
   "execution_count": 73,
   "metadata": {
    "collapsed": true
   },
   "outputs": [],
   "source": [
    "colsExtraTree = ['ExterQual_TA', 'GarageCars', 'OverallQual', 'GrLivArea']"
   ]
  },
  {
   "cell_type": "code",
   "execution_count": null,
   "metadata": {
    "collapsed": true
   },
   "outputs": [],
   "source": []
  },
  {
   "cell_type": "code",
   "execution_count": null,
   "metadata": {
    "collapsed": true
   },
   "outputs": [],
   "source": []
  },
  {
   "cell_type": "markdown",
   "metadata": {},
   "source": [
    "### Correlation"
   ]
  },
  {
   "cell_type": "code",
   "execution_count": 81,
   "metadata": {},
   "outputs": [
    {
     "data": {
      "text/plain": [
       "<matplotlib.axes._subplots.AxesSubplot at 0x230aa4805f8>"
      ]
     },
     "execution_count": 81,
     "metadata": {},
     "output_type": "execute_result"
    },
    {
     "data": {
      "image/png": "[encoded data removed]",
      "text/plain": [
       "<matplotlib.figure.Figure at 0x230aa4895c0>"
      ]
     },
     "metadata": {},
     "output_type": "display_data"
    }
   ],
   "source": [
    "corr = data.corr()\n",
    "\n",
    "f,ax = plt.subplots(figsize=(30, 30))\n",
    "sns.heatmap(corr, annot=True, linewidths=.5, fmt= '.1f',ax=ax)"
   ]
  },
  {
   "cell_type": "markdown",
   "metadata": {},
   "source": [
    "##### Features selected using Correlation "
   ]
  },
  {
   "cell_type": "code",
   "execution_count": 82,
   "metadata": {
    "collapsed": true
   },
   "outputs": [],
   "source": [
    "cols = [ 'LotFrontage','LotArea', 'OverallQual', 'YearBuilt', 'YearRemodAdd', 'MasVnrArea', 'BsmtFinSF1', 'BsmtUnfSF', 'TotalBsmtSF', '1stFlrSF', '2ndFlrSF', 'GrLivArea', 'BsmtFullBath',  'FullBath',\n",
    "       'HalfBath', 'BedroomAbvGr', 'TotRmsAbvGrd',  'Fireplaces', 'GarageYrBlt' ,'GarageCars', 'GarageArea', 'WoodDeckSF', 'OpenPorchSF', 'ScreenPorch', 'PoolArea']"
   ]
  },
  {
   "cell_type": "code",
   "execution_count": null,
   "metadata": {
    "collapsed": true
   },
   "outputs": [],
   "source": []
  },
  {
   "cell_type": "code",
   "execution_count": null,
   "metadata": {
    "collapsed": true
   },
   "outputs": [],
   "source": []
  },
  {
   "cell_type": "code",
   "execution_count": 83,
   "metadata": {
    "collapsed": true
   },
   "outputs": [],
   "source": [
    "X = data[cols]\n",
    "y = data['SalePrice']"
   ]
  },
  {
   "cell_type": "code",
   "execution_count": 54,
   "metadata": {
    "collapsed": true
   },
   "outputs": [],
   "source": [
    "xBor = data[colsBoruta]\n",
    "yBor = data['SalePrice']"
   ]
  },
  {
   "cell_type": "code",
   "execution_count": null,
   "metadata": {
    "collapsed": true
   },
   "outputs": [],
   "source": [
    "#Split the data into training and testing\n",
    "#from sklearn.cross_validation import train_test_split\n",
    "#X_train, X_test, y_train, y_test = train_test_split(X, y,test_size = 0.25, random_state=42)"
   ]
  },
  {
   "cell_type": "code",
   "execution_count": 23,
   "metadata": {},
   "outputs": [
    {
     "name": "stderr",
     "output_type": "stream",
     "text": [
      "C:\\Users\\Nikesh\\Anaconda3\\lib\\site-packages\\sklearn\\cross_validation.py:41: DeprecationWarning: This module was deprecated in version 0.18 in favor of the model_selection module into which all the refactored classes and functions are moved. Also note that the interface of the new CV iterators are different from that of this module. This module will be removed in 0.20.\n",
      "  \"This module will be removed in 0.20.\", DeprecationWarning)\n"
     ]
    }
   ],
   "source": [
    "#Split the data into training and testing\n",
    "from sklearn.cross_validation import train_test_split\n",
    "X_train, X_test, y_train, y_test = train_test_split(xBor, yBor,test_size = 0.25, random_state=42)"
   ]
  },
  {
   "cell_type": "code",
   "execution_count": null,
   "metadata": {
    "collapsed": true
   },
   "outputs": [],
   "source": []
  },
  {
   "cell_type": "code",
   "execution_count": 21,
   "metadata": {
    "collapsed": true
   },
   "outputs": [],
   "source": [
    "import pandas as pd\n",
    "from sklearn.preprocessing import MinMaxScaler"
   ]
  },
  {
   "cell_type": "code",
   "execution_count": 22,
   "metadata": {
    "collapsed": true
   },
   "outputs": [],
   "source": [
    "scaler = MinMaxScaler()"
   ]
  },
  {
   "cell_type": "code",
   "execution_count": null,
   "metadata": {
    "collapsed": true
   },
   "outputs": [],
   "source": []
  },
  {
   "cell_type": "code",
   "execution_count": null,
   "metadata": {
    "collapsed": true
   },
   "outputs": [],
   "source": []
  },
  {
   "cell_type": "code",
   "execution_count": null,
   "metadata": {
    "collapsed": true
   },
   "outputs": [],
   "source": []
  },
  {
   "cell_type": "code",
   "execution_count": null,
   "metadata": {
    "collapsed": true
   },
   "outputs": [],
   "source": []
  },
  {
   "cell_type": "code",
   "execution_count": null,
   "metadata": {
    "collapsed": true
   },
   "outputs": [],
   "source": []
  },
  {
   "cell_type": "markdown",
   "metadata": {
    "collapsed": true
   },
   "source": [
    "## Prediction Models"
   ]
  },
  {
   "cell_type": "code",
   "execution_count": 26,
   "metadata": {
    "collapsed": true
   },
   "outputs": [],
   "source": [
    "# Generating the Table Frame for metrics\n",
    "\n",
    "rmse_dict = {}\n",
    "def rmse(corrected, estimated):\n",
    "    rmse_val = np.sqrt(mean_absolute_error(coreect, estimated))\n",
    "    return rmse_val\n",
    "\n",
    "\n",
    "# Generating the Table Frame for metrics\n",
    "evaluation_table = pd.DataFrame({  'Model_desc':[],\n",
    "                        'Model_param':[],\n",
    "                        'r2_train': [],\n",
    "                        'r2_test': [],\n",
    "                        'rms_train':[], \n",
    "                        'rms_test': [],\n",
    "                        'mae_train': [],\n",
    "                        'mae_test': [],\n",
    "                        'mape_train':[],\n",
    "                        'mape_test':[],\n",
    "                        })\n",
    "\n",
    "#Evaluating the model\n",
    "def evaluate_model(model, model_desc, model_param, X_train, y_train, X_test, y_test):\n",
    "    \n",
    "    global evaluation_table\n",
    "    \n",
    "    y_train_pred = model.predict(X_train)\n",
    "    y_test_pred = model.predict(X_test)\n",
    "    \n",
    "    try:\n",
    "        r2_train = r2_score(y_train, y_train_pred)\n",
    "        r2_test = r2_score(y_test, y_test_pred)\n",
    "    except:\n",
    "        r2_train = \"not calculated\"\n",
    "        r2_test = \"not calculated\"\n",
    "    try:\n",
    "        rms_train = rmse(y_train, y_train_pred)\n",
    "        rms_test = rmse(y_test, y_test_pred)\n",
    "    except:\n",
    "        rms_train = \"not calculated\"\n",
    "        rms_test = \"not calculated\"\n",
    "    try:\n",
    "        mae_train = mean_absolute_error(y_train, y_train_pred)\n",
    "        mae_test = mean_absolute_error(y_test, y_test_pred)\n",
    "    except:\n",
    "        mae_train = \"not calculated\"\n",
    "        mae_test = \"not calculated\"\n",
    "    try:\n",
    "        mape_train = np.mean(np.abs((y_train - y_train_pred) / y_train)) * 100\n",
    "        mape_test = np.mean(np.abs((y_test - y_test_pred) / y_test)) * 100\n",
    "    except:\n",
    "        mape_train = \"not calculated\"\n",
    "        mape_test = \"not calculated\"\n",
    "    \n",
    "    model_param = pd.DataFrame({'Model_desc':[model_desc],\n",
    "                            'Model_param':[model_param],\n",
    "                            'r2_train': [r2_train],\n",
    "                            'r2_test': [r2_test],\n",
    "                            'rms_train':[rms_train], \n",
    "                            'rms_test': [rms_test],\n",
    "                            'mae_train': [mae_train],\n",
    "                            'mae_test': [mae_test],\n",
    "                            'mape_train':[mape_train],\n",
    "                            'mape_test':[mape_test],\n",
    "                           })\n",
    "        \n",
    "    evaluation_table = evaluation_table.append([model_param])\n",
    " \n",
    "    return evaluation_table\n",
    "\n"
   ]
  },
  {
   "cell_type": "code",
   "execution_count": 116,
   "metadata": {
    "collapsed": true
   },
   "outputs": [],
   "source": [
    "#X = data[cols]\n",
    "#y = data['SalePrice']"
   ]
  },
  {
   "cell_type": "markdown",
   "metadata": {},
   "source": [
    "##### Columns selected using Boruta then Predicted values using Linear Regression, Decision Tree and Random Forest Regressor"
   ]
  },
  {
   "cell_type": "code",
   "execution_count": 48,
   "metadata": {
    "collapsed": true
   },
   "outputs": [],
   "source": [
    "xBor = data[colsBoruta]\n",
    "yBor = data['SalePrice']"
   ]
  },
  {
   "cell_type": "code",
   "execution_count": 43,
   "metadata": {
    "collapsed": true
   },
   "outputs": [],
   "source": [
    "# Normalizing the Data"
   ]
  },
  {
   "cell_type": "code",
   "execution_count": 58,
   "metadata": {
    "collapsed": true
   },
   "outputs": [],
   "source": [
    "from sklearn.preprocessing import MinMaxScaler\n",
    "def data_Standardization(X):\n",
    "    min_max = MinMaxScaler()\n",
    "    standardized_X = pd.DataFrame(min_max.fit_transform(X), index = X.index, columns = X.columns)    \n",
    "    return standardized_X"
   ]
  },
  {
   "cell_type": "code",
   "execution_count": 59,
   "metadata": {
    "collapsed": true
   },
   "outputs": [],
   "source": [
    "xBor1= data_Standardization(xBor)"
   ]
  },
  {
   "cell_type": "code",
   "execution_count": 60,
   "metadata": {},
   "outputs": [
    {
     "data": {
      "text/html": [
       "<div>\n",
       "<style>\n",
       "    .dataframe thead tr:only-child th {\n",
       "        text-align: right;\n",
       "    }\n",
       "\n",
       "    .dataframe thead th {\n",
       "        text-align: left;\n",
       "    }\n",
       "\n",
       "    .dataframe tbody tr th {\n",
       "        vertical-align: top;\n",
       "    }\n",
       "</style>\n",
       "<table border=\"1\" class=\"dataframe\">\n",
       "  <thead>\n",
       "    <tr style=\"text-align: right;\">\n",
       "      <th></th>\n",
       "      <th>GarageCars</th>\n",
       "      <th>GarageArea</th>\n",
       "      <th>GrLivArea</th>\n",
       "      <th>2ndFlrSF</th>\n",
       "      <th>1stFlrSF</th>\n",
       "      <th>TotalBsmtSF</th>\n",
       "      <th>BsmtFinSF1</th>\n",
       "      <th>TotRmsAbvGrd</th>\n",
       "      <th>YearBuilt</th>\n",
       "      <th>OverallQual</th>\n",
       "      <th>LotArea</th>\n",
       "      <th>LotFrontage</th>\n",
       "      <th>YearRemodAdd</th>\n",
       "    </tr>\n",
       "  </thead>\n",
       "  <tbody>\n",
       "    <tr>\n",
       "      <th>1455</th>\n",
       "      <td>0.50</td>\n",
       "      <td>0.324401</td>\n",
       "      <td>0.247362</td>\n",
       "      <td>0.336077</td>\n",
       "      <td>0.142038</td>\n",
       "      <td>0.155974</td>\n",
       "      <td>0.000000</td>\n",
       "      <td>0.416667</td>\n",
       "      <td>0.920290</td>\n",
       "      <td>0.555556</td>\n",
       "      <td>0.030929</td>\n",
       "      <td>0.140411</td>\n",
       "      <td>0.833333</td>\n",
       "    </tr>\n",
       "    <tr>\n",
       "      <th>1456</th>\n",
       "      <td>0.50</td>\n",
       "      <td>0.352609</td>\n",
       "      <td>0.327619</td>\n",
       "      <td>0.000000</td>\n",
       "      <td>0.399036</td>\n",
       "      <td>0.252373</td>\n",
       "      <td>0.139972</td>\n",
       "      <td>0.416667</td>\n",
       "      <td>0.768116</td>\n",
       "      <td>0.555556</td>\n",
       "      <td>0.055505</td>\n",
       "      <td>0.219178</td>\n",
       "      <td>0.633333</td>\n",
       "    </tr>\n",
       "    <tr>\n",
       "      <th>1457</th>\n",
       "      <td>0.25</td>\n",
       "      <td>0.177715</td>\n",
       "      <td>0.377920</td>\n",
       "      <td>0.557869</td>\n",
       "      <td>0.195961</td>\n",
       "      <td>0.188543</td>\n",
       "      <td>0.048724</td>\n",
       "      <td>0.583333</td>\n",
       "      <td>0.500000</td>\n",
       "      <td>0.666667</td>\n",
       "      <td>0.036187</td>\n",
       "      <td>0.154110</td>\n",
       "      <td>0.933333</td>\n",
       "    </tr>\n",
       "    <tr>\n",
       "      <th>1458</th>\n",
       "      <td>0.25</td>\n",
       "      <td>0.169252</td>\n",
       "      <td>0.140166</td>\n",
       "      <td>0.000000</td>\n",
       "      <td>0.170721</td>\n",
       "      <td>0.176432</td>\n",
       "      <td>0.008682</td>\n",
       "      <td>0.250000</td>\n",
       "      <td>0.565217</td>\n",
       "      <td>0.444444</td>\n",
       "      <td>0.039342</td>\n",
       "      <td>0.160959</td>\n",
       "      <td>0.766667</td>\n",
       "    </tr>\n",
       "    <tr>\n",
       "      <th>1459</th>\n",
       "      <td>0.25</td>\n",
       "      <td>0.194640</td>\n",
       "      <td>0.173700</td>\n",
       "      <td>0.000000</td>\n",
       "      <td>0.211565</td>\n",
       "      <td>0.205565</td>\n",
       "      <td>0.147059</td>\n",
       "      <td>0.333333</td>\n",
       "      <td>0.673913</td>\n",
       "      <td>0.444444</td>\n",
       "      <td>0.040370</td>\n",
       "      <td>0.184932</td>\n",
       "      <td>0.250000</td>\n",
       "    </tr>\n",
       "  </tbody>\n",
       "</table>\n",
       "</div>"
      ],
      "text/plain": [
       "      GarageCars  GarageArea  GrLivArea  2ndFlrSF  1stFlrSF  TotalBsmtSF  \\\n",
       "1455        0.50    0.324401   0.247362  0.336077  0.142038     0.155974   \n",
       "1456        0.50    0.352609   0.327619  0.000000  0.399036     0.252373   \n",
       "1457        0.25    0.177715   0.377920  0.557869  0.195961     0.188543   \n",
       "1458        0.25    0.169252   0.140166  0.000000  0.170721     0.176432   \n",
       "1459        0.25    0.194640   0.173700  0.000000  0.211565     0.205565   \n",
       "\n",
       "      BsmtFinSF1  TotRmsAbvGrd  YearBuilt  OverallQual   LotArea  LotFrontage  \\\n",
       "1455    0.000000      0.416667   0.920290     0.555556  0.030929     0.140411   \n",
       "1456    0.139972      0.416667   0.768116     0.555556  0.055505     0.219178   \n",
       "1457    0.048724      0.583333   0.500000     0.666667  0.036187     0.154110   \n",
       "1458    0.008682      0.250000   0.565217     0.444444  0.039342     0.160959   \n",
       "1459    0.147059      0.333333   0.673913     0.444444  0.040370     0.184932   \n",
       "\n",
       "      YearRemodAdd  \n",
       "1455      0.833333  \n",
       "1456      0.633333  \n",
       "1457      0.933333  \n",
       "1458      0.766667  \n",
       "1459      0.250000  "
      ]
     },
     "execution_count": 60,
     "metadata": {},
     "output_type": "execute_result"
    }
   ],
   "source": [
    "xBor1.tail()"
   ]
  },
  {
   "cell_type": "code",
   "execution_count": 61,
   "metadata": {
    "collapsed": true
   },
   "outputs": [],
   "source": [
    "from sklearn.tree import DecisionTreeRegressor"
   ]
  },
  {
   "cell_type": "code",
   "execution_count": 62,
   "metadata": {
    "collapsed": true
   },
   "outputs": [],
   "source": [
    "X_train, X_test, y_train, y_test = train_test_split(xBor1, yBor, test_size = 0.25, random_state = 42)"
   ]
  },
  {
   "cell_type": "code",
   "execution_count": 63,
   "metadata": {
    "collapsed": true
   },
   "outputs": [],
   "source": [
    "#Fit a linear regression model\n",
    "from sklearn import linear_model"
   ]
  },
  {
   "cell_type": "code",
   "execution_count": 64,
   "metadata": {
    "collapsed": true
   },
   "outputs": [],
   "source": [
    "lm=linear_model.LinearRegression()"
   ]
  },
  {
   "cell_type": "code",
   "execution_count": 65,
   "metadata": {},
   "outputs": [
    {
     "data": {
      "text/plain": [
       "LinearRegression(copy_X=True, fit_intercept=True, n_jobs=1, normalize=False)"
      ]
     },
     "execution_count": 65,
     "metadata": {},
     "output_type": "execute_result"
    }
   ],
   "source": [
    "lm.fit (X_train, y_train)"
   ]
  },
  {
   "cell_type": "code",
   "execution_count": 66,
   "metadata": {},
   "outputs": [
    {
     "data": {
      "text/html": [
       "<div>\n",
       "<style>\n",
       "    .dataframe thead tr:only-child th {\n",
       "        text-align: right;\n",
       "    }\n",
       "\n",
       "    .dataframe thead th {\n",
       "        text-align: left;\n",
       "    }\n",
       "\n",
       "    .dataframe tbody tr th {\n",
       "        vertical-align: top;\n",
       "    }\n",
       "</style>\n",
       "<table border=\"1\" class=\"dataframe\">\n",
       "  <thead>\n",
       "    <tr style=\"text-align: right;\">\n",
       "      <th></th>\n",
       "      <th>Model_desc</th>\n",
       "      <th>Model_param</th>\n",
       "      <th>mae_test</th>\n",
       "      <th>mae_train</th>\n",
       "      <th>mape_test</th>\n",
       "      <th>mape_train</th>\n",
       "      <th>r2_test</th>\n",
       "      <th>r2_train</th>\n",
       "      <th>rms_test</th>\n",
       "      <th>rms_train</th>\n",
       "    </tr>\n",
       "  </thead>\n",
       "  <tbody>\n",
       "    <tr>\n",
       "      <th>0</th>\n",
       "      <td>LinearRegression</td>\n",
       "      <td>LinearRegression(copy_X=True, fit_intercept=Tr...</td>\n",
       "      <td>not calculated</td>\n",
       "      <td>not calculated</td>\n",
       "      <td>14.227591</td>\n",
       "      <td>13.64724</td>\n",
       "      <td>not calculated</td>\n",
       "      <td>not calculated</td>\n",
       "      <td>not calculated</td>\n",
       "      <td>not calculated</td>\n",
       "    </tr>\n",
       "    <tr>\n",
       "      <th>0</th>\n",
       "      <td>LinearRegression</td>\n",
       "      <td>LinearRegression(copy_X=True, fit_intercept=Tr...</td>\n",
       "      <td>not calculated</td>\n",
       "      <td>not calculated</td>\n",
       "      <td>14.227591</td>\n",
       "      <td>13.64724</td>\n",
       "      <td>not calculated</td>\n",
       "      <td>not calculated</td>\n",
       "      <td>not calculated</td>\n",
       "      <td>not calculated</td>\n",
       "    </tr>\n",
       "  </tbody>\n",
       "</table>\n",
       "</div>"
      ],
      "text/plain": [
       "         Model_desc                                        Model_param  \\\n",
       "0  LinearRegression  LinearRegression(copy_X=True, fit_intercept=Tr...   \n",
       "0  LinearRegression  LinearRegression(copy_X=True, fit_intercept=Tr...   \n",
       "\n",
       "         mae_test       mae_train  mape_test  mape_train         r2_test  \\\n",
       "0  not calculated  not calculated  14.227591    13.64724  not calculated   \n",
       "0  not calculated  not calculated  14.227591    13.64724  not calculated   \n",
       "\n",
       "         r2_train        rms_test       rms_train  \n",
       "0  not calculated  not calculated  not calculated  \n",
       "0  not calculated  not calculated  not calculated  "
      ]
     },
     "execution_count": 66,
     "metadata": {},
     "output_type": "execute_result"
    }
   ],
   "source": [
    "evaluate_model(lm, \"LinearRegression\", lm, X_train,y_train, X_test , y_test)"
   ]
  },
  {
   "cell_type": "code",
   "execution_count": 67,
   "metadata": {
    "collapsed": true
   },
   "outputs": [],
   "source": [
    "# Define model\n",
    "regDTree = DecisionTreeRegressor()"
   ]
  },
  {
   "cell_type": "code",
   "execution_count": 68,
   "metadata": {
    "collapsed": true
   },
   "outputs": [],
   "source": [
    "X_train = scaler.fit_transform(X_train)"
   ]
  },
  {
   "cell_type": "code",
   "execution_count": null,
   "metadata": {
    "collapsed": true
   },
   "outputs": [],
   "source": []
  },
  {
   "cell_type": "code",
   "execution_count": 69,
   "metadata": {},
   "outputs": [
    {
     "data": {
      "text/plain": [
       "1023    191000\n",
       "810     181000\n",
       "1384    105000\n",
       "626     139900\n",
       "813     157900\n",
       "839     130500\n",
       "370     172400\n",
       "54      130000\n",
       "534     178000\n",
       "785     161500\n",
       "312     119900\n",
       "1174    239000\n",
       "109     190000\n",
       "430      85400\n",
       "100     205000\n",
       "513     134000\n",
       "1190    168000\n",
       "266     185000\n",
       "1290    180500\n",
       "296     152000\n",
       "506     215000\n",
       "901     153000\n",
       "809     106000\n",
       "377     340000\n",
       "286     159000\n",
       "1400    120000\n",
       "1048    115000\n",
       "126     128000\n",
       "618     314813\n",
       "292     131000\n",
       "         ...  \n",
       "747     265979\n",
       "252     173000\n",
       "21      139400\n",
       "1337     52500\n",
       "459     110000\n",
       "1184    186700\n",
       "276     201000\n",
       "955     145000\n",
       "1215    125000\n",
       "385     192000\n",
       "805     227680\n",
       "1437    394617\n",
       "343     266000\n",
       "769     538000\n",
       "1332    100000\n",
       "130     226000\n",
       "871     200500\n",
       "1123    118000\n",
       "1396    160000\n",
       "87      164500\n",
       "330     119000\n",
       "1238    142500\n",
       "466     167000\n",
       "121     100000\n",
       "1044    278000\n",
       "1095    176432\n",
       "1130    135000\n",
       "1294    115000\n",
       "860     189950\n",
       "1126    174000\n",
       "Name: SalePrice, Length: 1095, dtype: int64"
      ]
     },
     "execution_count": 69,
     "metadata": {},
     "output_type": "execute_result"
    }
   ],
   "source": [
    "y_train"
   ]
  },
  {
   "cell_type": "code",
   "execution_count": 70,
   "metadata": {
    "collapsed": true
   },
   "outputs": [],
   "source": [
    "# Fit model\n",
    "regDT = regDTree.fit(X_train, y_train)"
   ]
  },
  {
   "cell_type": "code",
   "execution_count": 71,
   "metadata": {
    "collapsed": true
   },
   "outputs": [],
   "source": [
    "from sklearn.metrics import r2_score, mean_squared_error,mean_absolute_error"
   ]
  },
  {
   "cell_type": "code",
   "execution_count": 72,
   "metadata": {},
   "outputs": [
    {
     "data": {
      "text/html": [
       "<div>\n",
       "<style>\n",
       "    .dataframe thead tr:only-child th {\n",
       "        text-align: right;\n",
       "    }\n",
       "\n",
       "    .dataframe thead th {\n",
       "        text-align: left;\n",
       "    }\n",
       "\n",
       "    .dataframe tbody tr th {\n",
       "        vertical-align: top;\n",
       "    }\n",
       "</style>\n",
       "<table border=\"1\" class=\"dataframe\">\n",
       "  <thead>\n",
       "    <tr style=\"text-align: right;\">\n",
       "      <th></th>\n",
       "      <th>Model_desc</th>\n",
       "      <th>Model_param</th>\n",
       "      <th>mae_test</th>\n",
       "      <th>mae_train</th>\n",
       "      <th>mape_test</th>\n",
       "      <th>mape_train</th>\n",
       "      <th>r2_test</th>\n",
       "      <th>r2_train</th>\n",
       "      <th>rms_test</th>\n",
       "      <th>rms_train</th>\n",
       "    </tr>\n",
       "  </thead>\n",
       "  <tbody>\n",
       "    <tr>\n",
       "      <th>0</th>\n",
       "      <td>LinearRegression</td>\n",
       "      <td>LinearRegression(copy_X=True, fit_intercept=Tr...</td>\n",
       "      <td>not calculated</td>\n",
       "      <td>not calculated</td>\n",
       "      <td>14.227591</td>\n",
       "      <td>13.647240</td>\n",
       "      <td>not calculated</td>\n",
       "      <td>not calculated</td>\n",
       "      <td>not calculated</td>\n",
       "      <td>not calculated</td>\n",
       "    </tr>\n",
       "    <tr>\n",
       "      <th>0</th>\n",
       "      <td>LinearRegression</td>\n",
       "      <td>LinearRegression(copy_X=True, fit_intercept=Tr...</td>\n",
       "      <td>not calculated</td>\n",
       "      <td>not calculated</td>\n",
       "      <td>14.227591</td>\n",
       "      <td>13.647240</td>\n",
       "      <td>not calculated</td>\n",
       "      <td>not calculated</td>\n",
       "      <td>not calculated</td>\n",
       "      <td>not calculated</td>\n",
       "    </tr>\n",
       "    <tr>\n",
       "      <th>0</th>\n",
       "      <td>DecisionTreeRegressor</td>\n",
       "      <td>DecisionTreeRegressor(criterion='mse', max_dep...</td>\n",
       "      <td>24133.2</td>\n",
       "      <td>13.8338</td>\n",
       "      <td>14.764442</td>\n",
       "      <td>0.009466</td>\n",
       "      <td>0.826884</td>\n",
       "      <td>0.999991</td>\n",
       "      <td>not calculated</td>\n",
       "      <td>not calculated</td>\n",
       "    </tr>\n",
       "  </tbody>\n",
       "</table>\n",
       "</div>"
      ],
      "text/plain": [
       "              Model_desc                                        Model_param  \\\n",
       "0       LinearRegression  LinearRegression(copy_X=True, fit_intercept=Tr...   \n",
       "0       LinearRegression  LinearRegression(copy_X=True, fit_intercept=Tr...   \n",
       "0  DecisionTreeRegressor  DecisionTreeRegressor(criterion='mse', max_dep...   \n",
       "\n",
       "         mae_test       mae_train  mape_test  mape_train         r2_test  \\\n",
       "0  not calculated  not calculated  14.227591   13.647240  not calculated   \n",
       "0  not calculated  not calculated  14.227591   13.647240  not calculated   \n",
       "0         24133.2         13.8338  14.764442    0.009466        0.826884   \n",
       "\n",
       "         r2_train        rms_test       rms_train  \n",
       "0  not calculated  not calculated  not calculated  \n",
       "0  not calculated  not calculated  not calculated  \n",
       "0        0.999991  not calculated  not calculated  "
      ]
     },
     "execution_count": 72,
     "metadata": {},
     "output_type": "execute_result"
    }
   ],
   "source": [
    "evaluate_model(regDT, \"DecisionTreeRegressor\", regDT, X_train,y_train, X_test , y_test)"
   ]
  },
  {
   "cell_type": "code",
   "execution_count": 73,
   "metadata": {
    "collapsed": true
   },
   "outputs": [],
   "source": [
    "from sklearn.ensemble import RandomForestRegressor"
   ]
  },
  {
   "cell_type": "code",
   "execution_count": 74,
   "metadata": {
    "collapsed": true
   },
   "outputs": [],
   "source": [
    "# Define Model\n",
    "randomFReg = RandomForestRegressor()"
   ]
  },
  {
   "cell_type": "code",
   "execution_count": 75,
   "metadata": {
    "collapsed": true
   },
   "outputs": [],
   "source": [
    "# Fit Model\n",
    "randFReg = randomFReg.fit(X_train, y_train)"
   ]
  },
  {
   "cell_type": "code",
   "execution_count": 76,
   "metadata": {},
   "outputs": [
    {
     "data": {
      "text/html": [
       "<div>\n",
       "<style>\n",
       "    .dataframe thead tr:only-child th {\n",
       "        text-align: right;\n",
       "    }\n",
       "\n",
       "    .dataframe thead th {\n",
       "        text-align: left;\n",
       "    }\n",
       "\n",
       "    .dataframe tbody tr th {\n",
       "        vertical-align: top;\n",
       "    }\n",
       "</style>\n",
       "<table border=\"1\" class=\"dataframe\">\n",
       "  <thead>\n",
       "    <tr style=\"text-align: right;\">\n",
       "      <th></th>\n",
       "      <th>Model_desc</th>\n",
       "      <th>Model_param</th>\n",
       "      <th>mae_test</th>\n",
       "      <th>mae_train</th>\n",
       "      <th>mape_test</th>\n",
       "      <th>mape_train</th>\n",
       "      <th>r2_test</th>\n",
       "      <th>r2_train</th>\n",
       "      <th>rms_test</th>\n",
       "      <th>rms_train</th>\n",
       "    </tr>\n",
       "  </thead>\n",
       "  <tbody>\n",
       "    <tr>\n",
       "      <th>0</th>\n",
       "      <td>LinearRegression</td>\n",
       "      <td>LinearRegression(copy_X=True, fit_intercept=Tr...</td>\n",
       "      <td>not calculated</td>\n",
       "      <td>not calculated</td>\n",
       "      <td>14.227591</td>\n",
       "      <td>13.647240</td>\n",
       "      <td>not calculated</td>\n",
       "      <td>not calculated</td>\n",
       "      <td>not calculated</td>\n",
       "      <td>not calculated</td>\n",
       "    </tr>\n",
       "    <tr>\n",
       "      <th>0</th>\n",
       "      <td>LinearRegression</td>\n",
       "      <td>LinearRegression(copy_X=True, fit_intercept=Tr...</td>\n",
       "      <td>not calculated</td>\n",
       "      <td>not calculated</td>\n",
       "      <td>14.227591</td>\n",
       "      <td>13.647240</td>\n",
       "      <td>not calculated</td>\n",
       "      <td>not calculated</td>\n",
       "      <td>not calculated</td>\n",
       "      <td>not calculated</td>\n",
       "    </tr>\n",
       "    <tr>\n",
       "      <th>0</th>\n",
       "      <td>DecisionTreeRegressor</td>\n",
       "      <td>DecisionTreeRegressor(criterion='mse', max_dep...</td>\n",
       "      <td>24133.2</td>\n",
       "      <td>13.8338</td>\n",
       "      <td>14.764442</td>\n",
       "      <td>0.009466</td>\n",
       "      <td>0.826884</td>\n",
       "      <td>0.999991</td>\n",
       "      <td>not calculated</td>\n",
       "      <td>not calculated</td>\n",
       "    </tr>\n",
       "    <tr>\n",
       "      <th>0</th>\n",
       "      <td>Random Forest Regressor</td>\n",
       "      <td>(DecisionTreeRegressor(criterion='mse', max_de...</td>\n",
       "      <td>18963.3</td>\n",
       "      <td>7861.65</td>\n",
       "      <td>11.368903</td>\n",
       "      <td>4.530495</td>\n",
       "      <td>0.890829</td>\n",
       "      <td>0.970149</td>\n",
       "      <td>not calculated</td>\n",
       "      <td>not calculated</td>\n",
       "    </tr>\n",
       "  </tbody>\n",
       "</table>\n",
       "</div>"
      ],
      "text/plain": [
       "                Model_desc                                        Model_param  \\\n",
       "0         LinearRegression  LinearRegression(copy_X=True, fit_intercept=Tr...   \n",
       "0         LinearRegression  LinearRegression(copy_X=True, fit_intercept=Tr...   \n",
       "0    DecisionTreeRegressor  DecisionTreeRegressor(criterion='mse', max_dep...   \n",
       "0  Random Forest Regressor  (DecisionTreeRegressor(criterion='mse', max_de...   \n",
       "\n",
       "         mae_test       mae_train  mape_test  mape_train         r2_test  \\\n",
       "0  not calculated  not calculated  14.227591   13.647240  not calculated   \n",
       "0  not calculated  not calculated  14.227591   13.647240  not calculated   \n",
       "0         24133.2         13.8338  14.764442    0.009466        0.826884   \n",
       "0         18963.3         7861.65  11.368903    4.530495        0.890829   \n",
       "\n",
       "         r2_train        rms_test       rms_train  \n",
       "0  not calculated  not calculated  not calculated  \n",
       "0  not calculated  not calculated  not calculated  \n",
       "0        0.999991  not calculated  not calculated  \n",
       "0        0.970149  not calculated  not calculated  "
      ]
     },
     "execution_count": 76,
     "metadata": {},
     "output_type": "execute_result"
    }
   ],
   "source": [
    "evaluate_model(randFReg, \"Random Forest Regressor\", randFReg, X_train, y_train, X_test , y_test)"
   ]
  },
  {
   "cell_type": "markdown",
   "metadata": {},
   "source": [
    "##### Observation - When Columns selected using Boruta\n"
   ]
  },
  {
   "cell_type": "code",
   "execution_count": null,
   "metadata": {
    "collapsed": true
   },
   "outputs": [],
   "source": []
  },
  {
   "cell_type": "code",
   "execution_count": null,
   "metadata": {
    "collapsed": true
   },
   "outputs": [],
   "source": []
  },
  {
   "cell_type": "markdown",
   "metadata": {},
   "source": [
    "##### Columns selected using ExtraTreesRegressor then Predicted values using Linear Regression, Decision Tree and Random Forest Regressor"
   ]
  },
  {
   "cell_type": "code",
   "execution_count": 74,
   "metadata": {
    "collapsed": true
   },
   "outputs": [],
   "source": [
    "colsExtraTree = ['ExterQual_TA', 'GarageCars', 'OverallQual', 'GrLivArea']"
   ]
  },
  {
   "cell_type": "code",
   "execution_count": 76,
   "metadata": {
    "collapsed": true
   },
   "outputs": [],
   "source": [
    "xExtraTreeReg = df1[colsExtraTree]\n",
    "yExtraTreeReg = df1['SalePrice']"
   ]
  },
  {
   "cell_type": "code",
   "execution_count": 77,
   "metadata": {
    "collapsed": true
   },
   "outputs": [],
   "source": [
    "X_train, X_test, y_train, y_test = train_test_split(xExtraTreeReg, yExtraTreeReg, test_size = 0.25, random_state = 42)"
   ]
  },
  {
   "cell_type": "code",
   "execution_count": 78,
   "metadata": {},
   "outputs": [
    {
     "data": {
      "text/html": [
       "<div>\n",
       "<style>\n",
       "    .dataframe thead tr:only-child th {\n",
       "        text-align: right;\n",
       "    }\n",
       "\n",
       "    .dataframe thead th {\n",
       "        text-align: left;\n",
       "    }\n",
       "\n",
       "    .dataframe tbody tr th {\n",
       "        vertical-align: top;\n",
       "    }\n",
       "</style>\n",
       "<table border=\"1\" class=\"dataframe\">\n",
       "  <thead>\n",
       "    <tr style=\"text-align: right;\">\n",
       "      <th></th>\n",
       "      <th>Model_desc</th>\n",
       "      <th>Model_param</th>\n",
       "      <th>mae_test</th>\n",
       "      <th>mae_train</th>\n",
       "      <th>mape_test</th>\n",
       "      <th>mape_train</th>\n",
       "      <th>r2_test</th>\n",
       "      <th>r2_train</th>\n",
       "      <th>rms_test</th>\n",
       "      <th>rms_train</th>\n",
       "    </tr>\n",
       "  </thead>\n",
       "  <tbody>\n",
       "    <tr>\n",
       "      <th>0</th>\n",
       "      <td>LinearRegression</td>\n",
       "      <td>LinearRegression(copy_X=True, fit_intercept=Tr...</td>\n",
       "      <td>23469.669641</td>\n",
       "      <td>22680.969429</td>\n",
       "      <td>14.227591</td>\n",
       "      <td>13.647240</td>\n",
       "      <td>0.807806</td>\n",
       "      <td>0.776686</td>\n",
       "      <td>not calculated</td>\n",
       "      <td>not calculated</td>\n",
       "    </tr>\n",
       "    <tr>\n",
       "      <th>0</th>\n",
       "      <td>DecisionTreeRegressor</td>\n",
       "      <td>DecisionTreeRegressor(criterion='mse', max_dep...</td>\n",
       "      <td>24137.021918</td>\n",
       "      <td>13.833790</td>\n",
       "      <td>14.514202</td>\n",
       "      <td>0.009466</td>\n",
       "      <td>0.811791</td>\n",
       "      <td>0.999991</td>\n",
       "      <td>not calculated</td>\n",
       "      <td>not calculated</td>\n",
       "    </tr>\n",
       "    <tr>\n",
       "      <th>0</th>\n",
       "      <td>Random Forest Regressor</td>\n",
       "      <td>(DecisionTreeRegressor(criterion='mse', max_de...</td>\n",
       "      <td>19392.816438</td>\n",
       "      <td>7964.251020</td>\n",
       "      <td>11.501323</td>\n",
       "      <td>4.642103</td>\n",
       "      <td>0.877237</td>\n",
       "      <td>0.967498</td>\n",
       "      <td>not calculated</td>\n",
       "      <td>not calculated</td>\n",
       "    </tr>\n",
       "    <tr>\n",
       "      <th>0</th>\n",
       "      <td>LinearRegression</td>\n",
       "      <td>LinearRegression(copy_X=True, fit_intercept=Tr...</td>\n",
       "      <td>27499.816005</td>\n",
       "      <td>27049.194009</td>\n",
       "      <td>16.801025</td>\n",
       "      <td>16.132890</td>\n",
       "      <td>0.762326</td>\n",
       "      <td>0.737201</td>\n",
       "      <td>not calculated</td>\n",
       "      <td>not calculated</td>\n",
       "    </tr>\n",
       "  </tbody>\n",
       "</table>\n",
       "</div>"
      ],
      "text/plain": [
       "                Model_desc                                        Model_param  \\\n",
       "0         LinearRegression  LinearRegression(copy_X=True, fit_intercept=Tr...   \n",
       "0    DecisionTreeRegressor  DecisionTreeRegressor(criterion='mse', max_dep...   \n",
       "0  Random Forest Regressor  (DecisionTreeRegressor(criterion='mse', max_de...   \n",
       "0         LinearRegression  LinearRegression(copy_X=True, fit_intercept=Tr...   \n",
       "\n",
       "       mae_test     mae_train  mape_test  mape_train   r2_test  r2_train  \\\n",
       "0  23469.669641  22680.969429  14.227591   13.647240  0.807806  0.776686   \n",
       "0  24137.021918     13.833790  14.514202    0.009466  0.811791  0.999991   \n",
       "0  19392.816438   7964.251020  11.501323    4.642103  0.877237  0.967498   \n",
       "0  27499.816005  27049.194009  16.801025   16.132890  0.762326  0.737201   \n",
       "\n",
       "         rms_test       rms_train  \n",
       "0  not calculated  not calculated  \n",
       "0  not calculated  not calculated  \n",
       "0  not calculated  not calculated  \n",
       "0  not calculated  not calculated  "
      ]
     },
     "execution_count": 78,
     "metadata": {},
     "output_type": "execute_result"
    }
   ],
   "source": [
    "#Fit a linear regression model\n",
    "from sklearn import linear_model\n",
    "lm=linear_model.LinearRegression()\n",
    "lm.fit (X_train, y_train)\n",
    "evaluate_model(lm, \"LinearRegression\", lm, X_train,y_train, X_test , y_test)"
   ]
  },
  {
   "cell_type": "code",
   "execution_count": 79,
   "metadata": {},
   "outputs": [
    {
     "data": {
      "text/html": [
       "<div>\n",
       "<style>\n",
       "    .dataframe thead tr:only-child th {\n",
       "        text-align: right;\n",
       "    }\n",
       "\n",
       "    .dataframe thead th {\n",
       "        text-align: left;\n",
       "    }\n",
       "\n",
       "    .dataframe tbody tr th {\n",
       "        vertical-align: top;\n",
       "    }\n",
       "</style>\n",
       "<table border=\"1\" class=\"dataframe\">\n",
       "  <thead>\n",
       "    <tr style=\"text-align: right;\">\n",
       "      <th></th>\n",
       "      <th>Model_desc</th>\n",
       "      <th>Model_param</th>\n",
       "      <th>mae_test</th>\n",
       "      <th>mae_train</th>\n",
       "      <th>mape_test</th>\n",
       "      <th>mape_train</th>\n",
       "      <th>r2_test</th>\n",
       "      <th>r2_train</th>\n",
       "      <th>rms_test</th>\n",
       "      <th>rms_train</th>\n",
       "    </tr>\n",
       "  </thead>\n",
       "  <tbody>\n",
       "    <tr>\n",
       "      <th>0</th>\n",
       "      <td>LinearRegression</td>\n",
       "      <td>LinearRegression(copy_X=True, fit_intercept=Tr...</td>\n",
       "      <td>23469.669641</td>\n",
       "      <td>22680.969429</td>\n",
       "      <td>14.227591</td>\n",
       "      <td>13.647240</td>\n",
       "      <td>0.807806</td>\n",
       "      <td>0.776686</td>\n",
       "      <td>not calculated</td>\n",
       "      <td>not calculated</td>\n",
       "    </tr>\n",
       "    <tr>\n",
       "      <th>0</th>\n",
       "      <td>DecisionTreeRegressor</td>\n",
       "      <td>DecisionTreeRegressor(criterion='mse', max_dep...</td>\n",
       "      <td>24137.021918</td>\n",
       "      <td>13.833790</td>\n",
       "      <td>14.514202</td>\n",
       "      <td>0.009466</td>\n",
       "      <td>0.811791</td>\n",
       "      <td>0.999991</td>\n",
       "      <td>not calculated</td>\n",
       "      <td>not calculated</td>\n",
       "    </tr>\n",
       "    <tr>\n",
       "      <th>0</th>\n",
       "      <td>Random Forest Regressor</td>\n",
       "      <td>(DecisionTreeRegressor(criterion='mse', max_de...</td>\n",
       "      <td>19392.816438</td>\n",
       "      <td>7964.251020</td>\n",
       "      <td>11.501323</td>\n",
       "      <td>4.642103</td>\n",
       "      <td>0.877237</td>\n",
       "      <td>0.967498</td>\n",
       "      <td>not calculated</td>\n",
       "      <td>not calculated</td>\n",
       "    </tr>\n",
       "    <tr>\n",
       "      <th>0</th>\n",
       "      <td>LinearRegression</td>\n",
       "      <td>LinearRegression(copy_X=True, fit_intercept=Tr...</td>\n",
       "      <td>27499.816005</td>\n",
       "      <td>27049.194009</td>\n",
       "      <td>16.801025</td>\n",
       "      <td>16.132890</td>\n",
       "      <td>0.762326</td>\n",
       "      <td>0.737201</td>\n",
       "      <td>not calculated</td>\n",
       "      <td>not calculated</td>\n",
       "    </tr>\n",
       "    <tr>\n",
       "      <th>0</th>\n",
       "      <td>DecisionTreeRegressor</td>\n",
       "      <td>DecisionTreeRegressor(criterion='mse', max_dep...</td>\n",
       "      <td>28588.315525</td>\n",
       "      <td>1630.958752</td>\n",
       "      <td>17.350632</td>\n",
       "      <td>1.050830</td>\n",
       "      <td>0.751210</td>\n",
       "      <td>0.990915</td>\n",
       "      <td>not calculated</td>\n",
       "      <td>not calculated</td>\n",
       "    </tr>\n",
       "  </tbody>\n",
       "</table>\n",
       "</div>"
      ],
      "text/plain": [
       "                Model_desc                                        Model_param  \\\n",
       "0         LinearRegression  LinearRegression(copy_X=True, fit_intercept=Tr...   \n",
       "0    DecisionTreeRegressor  DecisionTreeRegressor(criterion='mse', max_dep...   \n",
       "0  Random Forest Regressor  (DecisionTreeRegressor(criterion='mse', max_de...   \n",
       "0         LinearRegression  LinearRegression(copy_X=True, fit_intercept=Tr...   \n",
       "0    DecisionTreeRegressor  DecisionTreeRegressor(criterion='mse', max_dep...   \n",
       "\n",
       "       mae_test     mae_train  mape_test  mape_train   r2_test  r2_train  \\\n",
       "0  23469.669641  22680.969429  14.227591   13.647240  0.807806  0.776686   \n",
       "0  24137.021918     13.833790  14.514202    0.009466  0.811791  0.999991   \n",
       "0  19392.816438   7964.251020  11.501323    4.642103  0.877237  0.967498   \n",
       "0  27499.816005  27049.194009  16.801025   16.132890  0.762326  0.737201   \n",
       "0  28588.315525   1630.958752  17.350632    1.050830  0.751210  0.990915   \n",
       "\n",
       "         rms_test       rms_train  \n",
       "0  not calculated  not calculated  \n",
       "0  not calculated  not calculated  \n",
       "0  not calculated  not calculated  \n",
       "0  not calculated  not calculated  \n",
       "0  not calculated  not calculated  "
      ]
     },
     "execution_count": 79,
     "metadata": {},
     "output_type": "execute_result"
    }
   ],
   "source": [
    "# Define model\n",
    "regDTree = DecisionTreeRegressor()\n",
    "# Fit model\n",
    "regDT = regDTree.fit(X_train, y_train)\n",
    "from sklearn.metrics import r2_score, mean_squared_error,mean_absolute_error\n",
    "evaluate_model(regDT, \"DecisionTreeRegressor\", regDT, X_train,y_train, X_test , y_test)"
   ]
  },
  {
   "cell_type": "code",
   "execution_count": 80,
   "metadata": {},
   "outputs": [
    {
     "data": {
      "text/html": [
       "<div>\n",
       "<style>\n",
       "    .dataframe thead tr:only-child th {\n",
       "        text-align: right;\n",
       "    }\n",
       "\n",
       "    .dataframe thead th {\n",
       "        text-align: left;\n",
       "    }\n",
       "\n",
       "    .dataframe tbody tr th {\n",
       "        vertical-align: top;\n",
       "    }\n",
       "</style>\n",
       "<table border=\"1\" class=\"dataframe\">\n",
       "  <thead>\n",
       "    <tr style=\"text-align: right;\">\n",
       "      <th></th>\n",
       "      <th>Model_desc</th>\n",
       "      <th>Model_param</th>\n",
       "      <th>mae_test</th>\n",
       "      <th>mae_train</th>\n",
       "      <th>mape_test</th>\n",
       "      <th>mape_train</th>\n",
       "      <th>r2_test</th>\n",
       "      <th>r2_train</th>\n",
       "      <th>rms_test</th>\n",
       "      <th>rms_train</th>\n",
       "    </tr>\n",
       "  </thead>\n",
       "  <tbody>\n",
       "    <tr>\n",
       "      <th>0</th>\n",
       "      <td>LinearRegression</td>\n",
       "      <td>LinearRegression(copy_X=True, fit_intercept=Tr...</td>\n",
       "      <td>23469.669641</td>\n",
       "      <td>22680.969429</td>\n",
       "      <td>14.227591</td>\n",
       "      <td>13.647240</td>\n",
       "      <td>0.807806</td>\n",
       "      <td>0.776686</td>\n",
       "      <td>not calculated</td>\n",
       "      <td>not calculated</td>\n",
       "    </tr>\n",
       "    <tr>\n",
       "      <th>0</th>\n",
       "      <td>DecisionTreeRegressor</td>\n",
       "      <td>DecisionTreeRegressor(criterion='mse', max_dep...</td>\n",
       "      <td>24137.021918</td>\n",
       "      <td>13.833790</td>\n",
       "      <td>14.514202</td>\n",
       "      <td>0.009466</td>\n",
       "      <td>0.811791</td>\n",
       "      <td>0.999991</td>\n",
       "      <td>not calculated</td>\n",
       "      <td>not calculated</td>\n",
       "    </tr>\n",
       "    <tr>\n",
       "      <th>0</th>\n",
       "      <td>Random Forest Regressor</td>\n",
       "      <td>(DecisionTreeRegressor(criterion='mse', max_de...</td>\n",
       "      <td>19392.816438</td>\n",
       "      <td>7964.251020</td>\n",
       "      <td>11.501323</td>\n",
       "      <td>4.642103</td>\n",
       "      <td>0.877237</td>\n",
       "      <td>0.967498</td>\n",
       "      <td>not calculated</td>\n",
       "      <td>not calculated</td>\n",
       "    </tr>\n",
       "    <tr>\n",
       "      <th>0</th>\n",
       "      <td>LinearRegression</td>\n",
       "      <td>LinearRegression(copy_X=True, fit_intercept=Tr...</td>\n",
       "      <td>27499.816005</td>\n",
       "      <td>27049.194009</td>\n",
       "      <td>16.801025</td>\n",
       "      <td>16.132890</td>\n",
       "      <td>0.762326</td>\n",
       "      <td>0.737201</td>\n",
       "      <td>not calculated</td>\n",
       "      <td>not calculated</td>\n",
       "    </tr>\n",
       "    <tr>\n",
       "      <th>0</th>\n",
       "      <td>DecisionTreeRegressor</td>\n",
       "      <td>DecisionTreeRegressor(criterion='mse', max_dep...</td>\n",
       "      <td>28588.315525</td>\n",
       "      <td>1630.958752</td>\n",
       "      <td>17.350632</td>\n",
       "      <td>1.050830</td>\n",
       "      <td>0.751210</td>\n",
       "      <td>0.990915</td>\n",
       "      <td>not calculated</td>\n",
       "      <td>not calculated</td>\n",
       "    </tr>\n",
       "    <tr>\n",
       "      <th>0</th>\n",
       "      <td>Random Forest Regressor</td>\n",
       "      <td>(DecisionTreeRegressor(criterion='mse', max_de...</td>\n",
       "      <td>24088.541676</td>\n",
       "      <td>11078.374488</td>\n",
       "      <td>14.691483</td>\n",
       "      <td>6.540134</td>\n",
       "      <td>0.817669</td>\n",
       "      <td>0.943549</td>\n",
       "      <td>not calculated</td>\n",
       "      <td>not calculated</td>\n",
       "    </tr>\n",
       "  </tbody>\n",
       "</table>\n",
       "</div>"
      ],
      "text/plain": [
       "                Model_desc                                        Model_param  \\\n",
       "0         LinearRegression  LinearRegression(copy_X=True, fit_intercept=Tr...   \n",
       "0    DecisionTreeRegressor  DecisionTreeRegressor(criterion='mse', max_dep...   \n",
       "0  Random Forest Regressor  (DecisionTreeRegressor(criterion='mse', max_de...   \n",
       "0         LinearRegression  LinearRegression(copy_X=True, fit_intercept=Tr...   \n",
       "0    DecisionTreeRegressor  DecisionTreeRegressor(criterion='mse', max_dep...   \n",
       "0  Random Forest Regressor  (DecisionTreeRegressor(criterion='mse', max_de...   \n",
       "\n",
       "       mae_test     mae_train  mape_test  mape_train   r2_test  r2_train  \\\n",
       "0  23469.669641  22680.969429  14.227591   13.647240  0.807806  0.776686   \n",
       "0  24137.021918     13.833790  14.514202    0.009466  0.811791  0.999991   \n",
       "0  19392.816438   7964.251020  11.501323    4.642103  0.877237  0.967498   \n",
       "0  27499.816005  27049.194009  16.801025   16.132890  0.762326  0.737201   \n",
       "0  28588.315525   1630.958752  17.350632    1.050830  0.751210  0.990915   \n",
       "0  24088.541676  11078.374488  14.691483    6.540134  0.817669  0.943549   \n",
       "\n",
       "         rms_test       rms_train  \n",
       "0  not calculated  not calculated  \n",
       "0  not calculated  not calculated  \n",
       "0  not calculated  not calculated  \n",
       "0  not calculated  not calculated  \n",
       "0  not calculated  not calculated  \n",
       "0  not calculated  not calculated  "
      ]
     },
     "execution_count": 80,
     "metadata": {},
     "output_type": "execute_result"
    }
   ],
   "source": [
    "from sklearn.ensemble import RandomForestRegressor\n",
    "# Define Model\n",
    "randomFReg = RandomForestRegressor()\n",
    "# Fit Model\n",
    "randFReg = randomFReg.fit(X_train, y_train)\n",
    "evaluate_model(randFReg, \"Random Forest Regressor\", randFReg, X_train, y_train, X_test , y_test)"
   ]
  },
  {
   "cell_type": "markdown",
   "metadata": {},
   "source": [
    "##### Last 3 Observation - using ExtraTreesRegressor"
   ]
  },
  {
   "cell_type": "code",
   "execution_count": null,
   "metadata": {
    "collapsed": true
   },
   "outputs": [],
   "source": []
  },
  {
   "cell_type": "markdown",
   "metadata": {},
   "source": [
    "##### Columns Selected using Correlation"
   ]
  },
  {
   "cell_type": "code",
   "execution_count": 85,
   "metadata": {
    "collapsed": true
   },
   "outputs": [],
   "source": [
    "X = data[cols]\n",
    "y = data['SalePrice']"
   ]
  },
  {
   "cell_type": "code",
   "execution_count": 86,
   "metadata": {
    "collapsed": true
   },
   "outputs": [],
   "source": [
    "X_train, X_test, y_train, y_test = train_test_split(X, y, test_size = 0.25, random_state = 42)"
   ]
  },
  {
   "cell_type": "code",
   "execution_count": 87,
   "metadata": {},
   "outputs": [
    {
     "data": {
      "text/html": [
       "<div>\n",
       "<style>\n",
       "    .dataframe thead tr:only-child th {\n",
       "        text-align: right;\n",
       "    }\n",
       "\n",
       "    .dataframe thead th {\n",
       "        text-align: left;\n",
       "    }\n",
       "\n",
       "    .dataframe tbody tr th {\n",
       "        vertical-align: top;\n",
       "    }\n",
       "</style>\n",
       "<table border=\"1\" class=\"dataframe\">\n",
       "  <thead>\n",
       "    <tr style=\"text-align: right;\">\n",
       "      <th></th>\n",
       "      <th>Model_desc</th>\n",
       "      <th>Model_param</th>\n",
       "      <th>mae_test</th>\n",
       "      <th>mae_train</th>\n",
       "      <th>mape_test</th>\n",
       "      <th>mape_train</th>\n",
       "      <th>r2_test</th>\n",
       "      <th>r2_train</th>\n",
       "      <th>rms_test</th>\n",
       "      <th>rms_train</th>\n",
       "    </tr>\n",
       "  </thead>\n",
       "  <tbody>\n",
       "    <tr>\n",
       "      <th>0</th>\n",
       "      <td>LinearRegression</td>\n",
       "      <td>LinearRegression(copy_X=True, fit_intercept=Tr...</td>\n",
       "      <td>23469.669641</td>\n",
       "      <td>22680.969429</td>\n",
       "      <td>14.227591</td>\n",
       "      <td>13.647240</td>\n",
       "      <td>0.807806</td>\n",
       "      <td>0.776686</td>\n",
       "      <td>not calculated</td>\n",
       "      <td>not calculated</td>\n",
       "    </tr>\n",
       "    <tr>\n",
       "      <th>0</th>\n",
       "      <td>DecisionTreeRegressor</td>\n",
       "      <td>DecisionTreeRegressor(criterion='mse', max_dep...</td>\n",
       "      <td>24137.021918</td>\n",
       "      <td>13.833790</td>\n",
       "      <td>14.514202</td>\n",
       "      <td>0.009466</td>\n",
       "      <td>0.811791</td>\n",
       "      <td>0.999991</td>\n",
       "      <td>not calculated</td>\n",
       "      <td>not calculated</td>\n",
       "    </tr>\n",
       "    <tr>\n",
       "      <th>0</th>\n",
       "      <td>Random Forest Regressor</td>\n",
       "      <td>(DecisionTreeRegressor(criterion='mse', max_de...</td>\n",
       "      <td>19392.816438</td>\n",
       "      <td>7964.251020</td>\n",
       "      <td>11.501323</td>\n",
       "      <td>4.642103</td>\n",
       "      <td>0.877237</td>\n",
       "      <td>0.967498</td>\n",
       "      <td>not calculated</td>\n",
       "      <td>not calculated</td>\n",
       "    </tr>\n",
       "    <tr>\n",
       "      <th>0</th>\n",
       "      <td>LinearRegression</td>\n",
       "      <td>LinearRegression(copy_X=True, fit_intercept=Tr...</td>\n",
       "      <td>27499.816005</td>\n",
       "      <td>27049.194009</td>\n",
       "      <td>16.801025</td>\n",
       "      <td>16.132890</td>\n",
       "      <td>0.762326</td>\n",
       "      <td>0.737201</td>\n",
       "      <td>not calculated</td>\n",
       "      <td>not calculated</td>\n",
       "    </tr>\n",
       "    <tr>\n",
       "      <th>0</th>\n",
       "      <td>DecisionTreeRegressor</td>\n",
       "      <td>DecisionTreeRegressor(criterion='mse', max_dep...</td>\n",
       "      <td>28588.315525</td>\n",
       "      <td>1630.958752</td>\n",
       "      <td>17.350632</td>\n",
       "      <td>1.050830</td>\n",
       "      <td>0.751210</td>\n",
       "      <td>0.990915</td>\n",
       "      <td>not calculated</td>\n",
       "      <td>not calculated</td>\n",
       "    </tr>\n",
       "    <tr>\n",
       "      <th>0</th>\n",
       "      <td>Random Forest Regressor</td>\n",
       "      <td>(DecisionTreeRegressor(criterion='mse', max_de...</td>\n",
       "      <td>24088.541676</td>\n",
       "      <td>11078.374488</td>\n",
       "      <td>14.691483</td>\n",
       "      <td>6.540134</td>\n",
       "      <td>0.817669</td>\n",
       "      <td>0.943549</td>\n",
       "      <td>not calculated</td>\n",
       "      <td>not calculated</td>\n",
       "    </tr>\n",
       "    <tr>\n",
       "      <th>0</th>\n",
       "      <td>LinearRegression</td>\n",
       "      <td>LinearRegression(copy_X=True, fit_intercept=Tr...</td>\n",
       "      <td>22817.130832</td>\n",
       "      <td>22215.531173</td>\n",
       "      <td>13.549083</td>\n",
       "      <td>13.254630</td>\n",
       "      <td>0.819432</td>\n",
       "      <td>0.789543</td>\n",
       "      <td>not calculated</td>\n",
       "      <td>not calculated</td>\n",
       "    </tr>\n",
       "  </tbody>\n",
       "</table>\n",
       "</div>"
      ],
      "text/plain": [
       "                Model_desc                                        Model_param  \\\n",
       "0         LinearRegression  LinearRegression(copy_X=True, fit_intercept=Tr...   \n",
       "0    DecisionTreeRegressor  DecisionTreeRegressor(criterion='mse', max_dep...   \n",
       "0  Random Forest Regressor  (DecisionTreeRegressor(criterion='mse', max_de...   \n",
       "0         LinearRegression  LinearRegression(copy_X=True, fit_intercept=Tr...   \n",
       "0    DecisionTreeRegressor  DecisionTreeRegressor(criterion='mse', max_dep...   \n",
       "0  Random Forest Regressor  (DecisionTreeRegressor(criterion='mse', max_de...   \n",
       "0         LinearRegression  LinearRegression(copy_X=True, fit_intercept=Tr...   \n",
       "\n",
       "       mae_test     mae_train  mape_test  mape_train   r2_test  r2_train  \\\n",
       "0  23469.669641  22680.969429  14.227591   13.647240  0.807806  0.776686   \n",
       "0  24137.021918     13.833790  14.514202    0.009466  0.811791  0.999991   \n",
       "0  19392.816438   7964.251020  11.501323    4.642103  0.877237  0.967498   \n",
       "0  27499.816005  27049.194009  16.801025   16.132890  0.762326  0.737201   \n",
       "0  28588.315525   1630.958752  17.350632    1.050830  0.751210  0.990915   \n",
       "0  24088.541676  11078.374488  14.691483    6.540134  0.817669  0.943549   \n",
       "0  22817.130832  22215.531173  13.549083   13.254630  0.819432  0.789543   \n",
       "\n",
       "         rms_test       rms_train  \n",
       "0  not calculated  not calculated  \n",
       "0  not calculated  not calculated  \n",
       "0  not calculated  not calculated  \n",
       "0  not calculated  not calculated  \n",
       "0  not calculated  not calculated  \n",
       "0  not calculated  not calculated  \n",
       "0  not calculated  not calculated  "
      ]
     },
     "execution_count": 87,
     "metadata": {},
     "output_type": "execute_result"
    }
   ],
   "source": [
    "#Fit a linear regression model\n",
    "from sklearn import linear_model\n",
    "lm=linear_model.LinearRegression()\n",
    "lm.fit (X_train, y_train)\n",
    "evaluate_model(lm, \"LinearRegression\", lm, X_train,y_train, X_test , y_test)"
   ]
  },
  {
   "cell_type": "code",
   "execution_count": 88,
   "metadata": {},
   "outputs": [
    {
     "data": {
      "text/html": [
       "<div>\n",
       "<style>\n",
       "    .dataframe thead tr:only-child th {\n",
       "        text-align: right;\n",
       "    }\n",
       "\n",
       "    .dataframe thead th {\n",
       "        text-align: left;\n",
       "    }\n",
       "\n",
       "    .dataframe tbody tr th {\n",
       "        vertical-align: top;\n",
       "    }\n",
       "</style>\n",
       "<table border=\"1\" class=\"dataframe\">\n",
       "  <thead>\n",
       "    <tr style=\"text-align: right;\">\n",
       "      <th></th>\n",
       "      <th>Model_desc</th>\n",
       "      <th>Model_param</th>\n",
       "      <th>mae_test</th>\n",
       "      <th>mae_train</th>\n",
       "      <th>mape_test</th>\n",
       "      <th>mape_train</th>\n",
       "      <th>r2_test</th>\n",
       "      <th>r2_train</th>\n",
       "      <th>rms_test</th>\n",
       "      <th>rms_train</th>\n",
       "    </tr>\n",
       "  </thead>\n",
       "  <tbody>\n",
       "    <tr>\n",
       "      <th>0</th>\n",
       "      <td>LinearRegression</td>\n",
       "      <td>LinearRegression(copy_X=True, fit_intercept=Tr...</td>\n",
       "      <td>23469.669641</td>\n",
       "      <td>22680.969429</td>\n",
       "      <td>14.227591</td>\n",
       "      <td>13.647240</td>\n",
       "      <td>0.807806</td>\n",
       "      <td>0.776686</td>\n",
       "      <td>not calculated</td>\n",
       "      <td>not calculated</td>\n",
       "    </tr>\n",
       "    <tr>\n",
       "      <th>0</th>\n",
       "      <td>DecisionTreeRegressor</td>\n",
       "      <td>DecisionTreeRegressor(criterion='mse', max_dep...</td>\n",
       "      <td>24137.021918</td>\n",
       "      <td>13.833790</td>\n",
       "      <td>14.514202</td>\n",
       "      <td>0.009466</td>\n",
       "      <td>0.811791</td>\n",
       "      <td>0.999991</td>\n",
       "      <td>not calculated</td>\n",
       "      <td>not calculated</td>\n",
       "    </tr>\n",
       "    <tr>\n",
       "      <th>0</th>\n",
       "      <td>Random Forest Regressor</td>\n",
       "      <td>(DecisionTreeRegressor(criterion='mse', max_de...</td>\n",
       "      <td>19392.816438</td>\n",
       "      <td>7964.251020</td>\n",
       "      <td>11.501323</td>\n",
       "      <td>4.642103</td>\n",
       "      <td>0.877237</td>\n",
       "      <td>0.967498</td>\n",
       "      <td>not calculated</td>\n",
       "      <td>not calculated</td>\n",
       "    </tr>\n",
       "    <tr>\n",
       "      <th>0</th>\n",
       "      <td>LinearRegression</td>\n",
       "      <td>LinearRegression(copy_X=True, fit_intercept=Tr...</td>\n",
       "      <td>27499.816005</td>\n",
       "      <td>27049.194009</td>\n",
       "      <td>16.801025</td>\n",
       "      <td>16.132890</td>\n",
       "      <td>0.762326</td>\n",
       "      <td>0.737201</td>\n",
       "      <td>not calculated</td>\n",
       "      <td>not calculated</td>\n",
       "    </tr>\n",
       "    <tr>\n",
       "      <th>0</th>\n",
       "      <td>DecisionTreeRegressor</td>\n",
       "      <td>DecisionTreeRegressor(criterion='mse', max_dep...</td>\n",
       "      <td>28588.315525</td>\n",
       "      <td>1630.958752</td>\n",
       "      <td>17.350632</td>\n",
       "      <td>1.050830</td>\n",
       "      <td>0.751210</td>\n",
       "      <td>0.990915</td>\n",
       "      <td>not calculated</td>\n",
       "      <td>not calculated</td>\n",
       "    </tr>\n",
       "    <tr>\n",
       "      <th>0</th>\n",
       "      <td>Random Forest Regressor</td>\n",
       "      <td>(DecisionTreeRegressor(criterion='mse', max_de...</td>\n",
       "      <td>24088.541676</td>\n",
       "      <td>11078.374488</td>\n",
       "      <td>14.691483</td>\n",
       "      <td>6.540134</td>\n",
       "      <td>0.817669</td>\n",
       "      <td>0.943549</td>\n",
       "      <td>not calculated</td>\n",
       "      <td>not calculated</td>\n",
       "    </tr>\n",
       "    <tr>\n",
       "      <th>0</th>\n",
       "      <td>LinearRegression</td>\n",
       "      <td>LinearRegression(copy_X=True, fit_intercept=Tr...</td>\n",
       "      <td>22817.130832</td>\n",
       "      <td>22215.531173</td>\n",
       "      <td>13.549083</td>\n",
       "      <td>13.254630</td>\n",
       "      <td>0.819432</td>\n",
       "      <td>0.789543</td>\n",
       "      <td>not calculated</td>\n",
       "      <td>not calculated</td>\n",
       "    </tr>\n",
       "    <tr>\n",
       "      <th>0</th>\n",
       "      <td>DecisionTreeRegressor</td>\n",
       "      <td>DecisionTreeRegressor(criterion='mse', max_dep...</td>\n",
       "      <td>24852.010959</td>\n",
       "      <td>13.833790</td>\n",
       "      <td>15.334514</td>\n",
       "      <td>0.009466</td>\n",
       "      <td>0.817517</td>\n",
       "      <td>0.999991</td>\n",
       "      <td>not calculated</td>\n",
       "      <td>not calculated</td>\n",
       "    </tr>\n",
       "  </tbody>\n",
       "</table>\n",
       "</div>"
      ],
      "text/plain": [
       "                Model_desc                                        Model_param  \\\n",
       "0         LinearRegression  LinearRegression(copy_X=True, fit_intercept=Tr...   \n",
       "0    DecisionTreeRegressor  DecisionTreeRegressor(criterion='mse', max_dep...   \n",
       "0  Random Forest Regressor  (DecisionTreeRegressor(criterion='mse', max_de...   \n",
       "0         LinearRegression  LinearRegression(copy_X=True, fit_intercept=Tr...   \n",
       "0    DecisionTreeRegressor  DecisionTreeRegressor(criterion='mse', max_dep...   \n",
       "0  Random Forest Regressor  (DecisionTreeRegressor(criterion='mse', max_de...   \n",
       "0         LinearRegression  LinearRegression(copy_X=True, fit_intercept=Tr...   \n",
       "0    DecisionTreeRegressor  DecisionTreeRegressor(criterion='mse', max_dep...   \n",
       "\n",
       "       mae_test     mae_train  mape_test  mape_train   r2_test  r2_train  \\\n",
       "0  23469.669641  22680.969429  14.227591   13.647240  0.807806  0.776686   \n",
       "0  24137.021918     13.833790  14.514202    0.009466  0.811791  0.999991   \n",
       "0  19392.816438   7964.251020  11.501323    4.642103  0.877237  0.967498   \n",
       "0  27499.816005  27049.194009  16.801025   16.132890  0.762326  0.737201   \n",
       "0  28588.315525   1630.958752  17.350632    1.050830  0.751210  0.990915   \n",
       "0  24088.541676  11078.374488  14.691483    6.540134  0.817669  0.943549   \n",
       "0  22817.130832  22215.531173  13.549083   13.254630  0.819432  0.789543   \n",
       "0  24852.010959     13.833790  15.334514    0.009466  0.817517  0.999991   \n",
       "\n",
       "         rms_test       rms_train  \n",
       "0  not calculated  not calculated  \n",
       "0  not calculated  not calculated  \n",
       "0  not calculated  not calculated  \n",
       "0  not calculated  not calculated  \n",
       "0  not calculated  not calculated  \n",
       "0  not calculated  not calculated  \n",
       "0  not calculated  not calculated  \n",
       "0  not calculated  not calculated  "
      ]
     },
     "execution_count": 88,
     "metadata": {},
     "output_type": "execute_result"
    }
   ],
   "source": [
    "# Define model\n",
    "regDTree = DecisionTreeRegressor()\n",
    "# Fit model\n",
    "regDT = regDTree.fit(X_train, y_train)\n",
    "from sklearn.metrics import r2_score, mean_squared_error,mean_absolute_error\n",
    "evaluate_model(regDT, \"DecisionTreeRegressor\", regDT, X_train,y_train, X_test , y_test)"
   ]
  },
  {
   "cell_type": "code",
   "execution_count": 89,
   "metadata": {},
   "outputs": [
    {
     "data": {
      "text/html": [
       "<div>\n",
       "<style>\n",
       "    .dataframe thead tr:only-child th {\n",
       "        text-align: right;\n",
       "    }\n",
       "\n",
       "    .dataframe thead th {\n",
       "        text-align: left;\n",
       "    }\n",
       "\n",
       "    .dataframe tbody tr th {\n",
       "        vertical-align: top;\n",
       "    }\n",
       "</style>\n",
       "<table border=\"1\" class=\"dataframe\">\n",
       "  <thead>\n",
       "    <tr style=\"text-align: right;\">\n",
       "      <th></th>\n",
       "      <th>Model_desc</th>\n",
       "      <th>Model_param</th>\n",
       "      <th>mae_test</th>\n",
       "      <th>mae_train</th>\n",
       "      <th>mape_test</th>\n",
       "      <th>mape_train</th>\n",
       "      <th>r2_test</th>\n",
       "      <th>r2_train</th>\n",
       "      <th>rms_test</th>\n",
       "      <th>rms_train</th>\n",
       "    </tr>\n",
       "  </thead>\n",
       "  <tbody>\n",
       "    <tr>\n",
       "      <th>0</th>\n",
       "      <td>LinearRegression</td>\n",
       "      <td>LinearRegression(copy_X=True, fit_intercept=Tr...</td>\n",
       "      <td>23469.669641</td>\n",
       "      <td>22680.969429</td>\n",
       "      <td>14.227591</td>\n",
       "      <td>13.647240</td>\n",
       "      <td>0.807806</td>\n",
       "      <td>0.776686</td>\n",
       "      <td>not calculated</td>\n",
       "      <td>not calculated</td>\n",
       "    </tr>\n",
       "    <tr>\n",
       "      <th>0</th>\n",
       "      <td>DecisionTreeRegressor</td>\n",
       "      <td>DecisionTreeRegressor(criterion='mse', max_dep...</td>\n",
       "      <td>24137.021918</td>\n",
       "      <td>13.833790</td>\n",
       "      <td>14.514202</td>\n",
       "      <td>0.009466</td>\n",
       "      <td>0.811791</td>\n",
       "      <td>0.999991</td>\n",
       "      <td>not calculated</td>\n",
       "      <td>not calculated</td>\n",
       "    </tr>\n",
       "    <tr>\n",
       "      <th>0</th>\n",
       "      <td>Random Forest Regressor</td>\n",
       "      <td>(DecisionTreeRegressor(criterion='mse', max_de...</td>\n",
       "      <td>19392.816438</td>\n",
       "      <td>7964.251020</td>\n",
       "      <td>11.501323</td>\n",
       "      <td>4.642103</td>\n",
       "      <td>0.877237</td>\n",
       "      <td>0.967498</td>\n",
       "      <td>not calculated</td>\n",
       "      <td>not calculated</td>\n",
       "    </tr>\n",
       "    <tr>\n",
       "      <th>0</th>\n",
       "      <td>LinearRegression</td>\n",
       "      <td>LinearRegression(copy_X=True, fit_intercept=Tr...</td>\n",
       "      <td>27499.816005</td>\n",
       "      <td>27049.194009</td>\n",
       "      <td>16.801025</td>\n",
       "      <td>16.132890</td>\n",
       "      <td>0.762326</td>\n",
       "      <td>0.737201</td>\n",
       "      <td>not calculated</td>\n",
       "      <td>not calculated</td>\n",
       "    </tr>\n",
       "    <tr>\n",
       "      <th>0</th>\n",
       "      <td>DecisionTreeRegressor</td>\n",
       "      <td>DecisionTreeRegressor(criterion='mse', max_dep...</td>\n",
       "      <td>28588.315525</td>\n",
       "      <td>1630.958752</td>\n",
       "      <td>17.350632</td>\n",
       "      <td>1.050830</td>\n",
       "      <td>0.751210</td>\n",
       "      <td>0.990915</td>\n",
       "      <td>not calculated</td>\n",
       "      <td>not calculated</td>\n",
       "    </tr>\n",
       "    <tr>\n",
       "      <th>0</th>\n",
       "      <td>Random Forest Regressor</td>\n",
       "      <td>(DecisionTreeRegressor(criterion='mse', max_de...</td>\n",
       "      <td>24088.541676</td>\n",
       "      <td>11078.374488</td>\n",
       "      <td>14.691483</td>\n",
       "      <td>6.540134</td>\n",
       "      <td>0.817669</td>\n",
       "      <td>0.943549</td>\n",
       "      <td>not calculated</td>\n",
       "      <td>not calculated</td>\n",
       "    </tr>\n",
       "    <tr>\n",
       "      <th>0</th>\n",
       "      <td>LinearRegression</td>\n",
       "      <td>LinearRegression(copy_X=True, fit_intercept=Tr...</td>\n",
       "      <td>22817.130832</td>\n",
       "      <td>22215.531173</td>\n",
       "      <td>13.549083</td>\n",
       "      <td>13.254630</td>\n",
       "      <td>0.819432</td>\n",
       "      <td>0.789543</td>\n",
       "      <td>not calculated</td>\n",
       "      <td>not calculated</td>\n",
       "    </tr>\n",
       "    <tr>\n",
       "      <th>0</th>\n",
       "      <td>DecisionTreeRegressor</td>\n",
       "      <td>DecisionTreeRegressor(criterion='mse', max_dep...</td>\n",
       "      <td>24852.010959</td>\n",
       "      <td>13.833790</td>\n",
       "      <td>15.334514</td>\n",
       "      <td>0.009466</td>\n",
       "      <td>0.817517</td>\n",
       "      <td>0.999991</td>\n",
       "      <td>not calculated</td>\n",
       "      <td>not calculated</td>\n",
       "    </tr>\n",
       "    <tr>\n",
       "      <th>0</th>\n",
       "      <td>Random Forest Regressor</td>\n",
       "      <td>(DecisionTreeRegressor(criterion='mse', max_de...</td>\n",
       "      <td>18073.358904</td>\n",
       "      <td>8174.626362</td>\n",
       "      <td>11.047125</td>\n",
       "      <td>4.811728</td>\n",
       "      <td>0.888666</td>\n",
       "      <td>0.955772</td>\n",
       "      <td>not calculated</td>\n",
       "      <td>not calculated</td>\n",
       "    </tr>\n",
       "  </tbody>\n",
       "</table>\n",
       "</div>"
      ],
      "text/plain": [
       "                Model_desc                                        Model_param  \\\n",
       "0         LinearRegression  LinearRegression(copy_X=True, fit_intercept=Tr...   \n",
       "0    DecisionTreeRegressor  DecisionTreeRegressor(criterion='mse', max_dep...   \n",
       "0  Random Forest Regressor  (DecisionTreeRegressor(criterion='mse', max_de...   \n",
       "0         LinearRegression  LinearRegression(copy_X=True, fit_intercept=Tr...   \n",
       "0    DecisionTreeRegressor  DecisionTreeRegressor(criterion='mse', max_dep...   \n",
       "0  Random Forest Regressor  (DecisionTreeRegressor(criterion='mse', max_de...   \n",
       "0         LinearRegression  LinearRegression(copy_X=True, fit_intercept=Tr...   \n",
       "0    DecisionTreeRegressor  DecisionTreeRegressor(criterion='mse', max_dep...   \n",
       "0  Random Forest Regressor  (DecisionTreeRegressor(criterion='mse', max_de...   \n",
       "\n",
       "       mae_test     mae_train  mape_test  mape_train   r2_test  r2_train  \\\n",
       "0  23469.669641  22680.969429  14.227591   13.647240  0.807806  0.776686   \n",
       "0  24137.021918     13.833790  14.514202    0.009466  0.811791  0.999991   \n",
       "0  19392.816438   7964.251020  11.501323    4.642103  0.877237  0.967498   \n",
       "0  27499.816005  27049.194009  16.801025   16.132890  0.762326  0.737201   \n",
       "0  28588.315525   1630.958752  17.350632    1.050830  0.751210  0.990915   \n",
       "0  24088.541676  11078.374488  14.691483    6.540134  0.817669  0.943549   \n",
       "0  22817.130832  22215.531173  13.549083   13.254630  0.819432  0.789543   \n",
       "0  24852.010959     13.833790  15.334514    0.009466  0.817517  0.999991   \n",
       "0  18073.358904   8174.626362  11.047125    4.811728  0.888666  0.955772   \n",
       "\n",
       "         rms_test       rms_train  \n",
       "0  not calculated  not calculated  \n",
       "0  not calculated  not calculated  \n",
       "0  not calculated  not calculated  \n",
       "0  not calculated  not calculated  \n",
       "0  not calculated  not calculated  \n",
       "0  not calculated  not calculated  \n",
       "0  not calculated  not calculated  \n",
       "0  not calculated  not calculated  \n",
       "0  not calculated  not calculated  "
      ]
     },
     "execution_count": 89,
     "metadata": {},
     "output_type": "execute_result"
    }
   ],
   "source": [
    "from sklearn.ensemble import RandomForestRegressor\n",
    "# Define Model\n",
    "randomFReg = RandomForestRegressor()\n",
    "# Fit Model\n",
    "randFReg = randomFReg.fit(X_train, y_train)\n",
    "evaluate_model(randFReg, \"Random Forest Regressor\", randFReg, X_train, y_train, X_test , y_test)"
   ]
  },
  {
   "cell_type": "markdown",
   "metadata": {},
   "source": [
    "##### Last 3 Observation - using Correlation"
   ]
  },
  {
   "cell_type": "code",
   "execution_count": null,
   "metadata": {
    "collapsed": true
   },
   "outputs": [],
   "source": []
  },
  {
   "cell_type": "markdown",
   "metadata": {},
   "source": [
    "#### Selected values after analyzing all feature selection method"
   ]
  },
  {
   "cell_type": "code",
   "execution_count": 97,
   "metadata": {
    "collapsed": true
   },
   "outputs": [],
   "source": [
    "fCols =['GarageCars', 'OverallQual']\n",
    "X = data[fCols]\n",
    "y = data['SalePrice']\n",
    "X_train, X_test, y_train, y_test = train_test_split(X, y, test_size = 0.25, random_state = 42)"
   ]
  },
  {
   "cell_type": "code",
   "execution_count": 91,
   "metadata": {
    "collapsed": true
   },
   "outputs": [],
   "source": [
    "def randomForest(xTrain, yTrain):\n",
    "    from sklearn.ensemble import RandomForestRegressor\n",
    "    # Define Model\n",
    "    randomFReg = RandomForestRegressor()\n",
    "    # Fit Model\n",
    "    randFReg = randomFReg.fit(X_train, y_train)\n",
    "    evaluate_model(randFReg, \"Random Forest Regressor\", randFReg, X_train, y_train, X_test , y_test)\n",
    "    return evaluate_model"
   ]
  },
  {
   "cell_type": "code",
   "execution_count": 92,
   "metadata": {
    "collapsed": true
   },
   "outputs": [],
   "source": [
    "def linearRegression(xTrain, yTrain):\n",
    "    #Fit a linear regression model\n",
    "    from sklearn import linear_model\n",
    "    lm=linear_model.LinearRegression()\n",
    "    lm.fit (X_train, y_train)\n",
    "    evaluate_model(lm, \"LinearRegression\", lm, X_train,y_train, X_test , y_test)\n",
    "    return evaluate_model"
   ]
  },
  {
   "cell_type": "code",
   "execution_count": 93,
   "metadata": {
    "collapsed": true
   },
   "outputs": [],
   "source": [
    "def decisionTree(xTrain, yTrain):\n",
    "    # Define model\n",
    "    regDTree = DecisionTreeRegressor()\n",
    "    # Fit model\n",
    "    regDT = regDTree.fit(X_train, y_train)\n",
    "    from sklearn.metrics import r2_score, mean_squared_error,mean_absolute_error\n",
    "    evaluate_model(regDT, \"DecisionTreeRegressor\", regDT, X_train,y_train, X_test , y_test)\n",
    "    return evaluate_model"
   ]
  },
  {
   "cell_type": "markdown",
   "metadata": {},
   "source": [
    "### Don't know why not printing?"
   ]
  },
  {
   "cell_type": "code",
   "execution_count": 95,
   "metadata": {
    "collapsed": true
   },
   "outputs": [],
   "source": [
    "linearRegression(X_train, y_train)  "
   ]
  },
  {
   "cell_type": "code",
   "execution_count": null,
   "metadata": {
    "collapsed": true
   },
   "outputs": [],
   "source": []
  },
  {
   "cell_type": "code",
   "execution_count": 99,
   "metadata": {},
   "outputs": [
    {
     "data": {
      "text/html": [
       "<div>\n",
       "<style>\n",
       "    .dataframe thead tr:only-child th {\n",
       "        text-align: right;\n",
       "    }\n",
       "\n",
       "    .dataframe thead th {\n",
       "        text-align: left;\n",
       "    }\n",
       "\n",
       "    .dataframe tbody tr th {\n",
       "        vertical-align: top;\n",
       "    }\n",
       "</style>\n",
       "<table border=\"1\" class=\"dataframe\">\n",
       "  <thead>\n",
       "    <tr style=\"text-align: right;\">\n",
       "      <th></th>\n",
       "      <th>Model_desc</th>\n",
       "      <th>Model_param</th>\n",
       "      <th>mae_test</th>\n",
       "      <th>mae_train</th>\n",
       "      <th>mape_test</th>\n",
       "      <th>mape_train</th>\n",
       "      <th>r2_test</th>\n",
       "      <th>r2_train</th>\n",
       "      <th>rms_test</th>\n",
       "      <th>rms_train</th>\n",
       "    </tr>\n",
       "  </thead>\n",
       "  <tbody>\n",
       "    <tr>\n",
       "      <th>0</th>\n",
       "      <td>LinearRegression</td>\n",
       "      <td>LinearRegression(copy_X=True, fit_intercept=Tr...</td>\n",
       "      <td>23469.669641</td>\n",
       "      <td>22680.969429</td>\n",
       "      <td>14.227591</td>\n",
       "      <td>13.647240</td>\n",
       "      <td>0.807806</td>\n",
       "      <td>0.776686</td>\n",
       "      <td>not calculated</td>\n",
       "      <td>not calculated</td>\n",
       "    </tr>\n",
       "    <tr>\n",
       "      <th>0</th>\n",
       "      <td>DecisionTreeRegressor</td>\n",
       "      <td>DecisionTreeRegressor(criterion='mse', max_dep...</td>\n",
       "      <td>24137.021918</td>\n",
       "      <td>13.833790</td>\n",
       "      <td>14.514202</td>\n",
       "      <td>0.009466</td>\n",
       "      <td>0.811791</td>\n",
       "      <td>0.999991</td>\n",
       "      <td>not calculated</td>\n",
       "      <td>not calculated</td>\n",
       "    </tr>\n",
       "    <tr>\n",
       "      <th>0</th>\n",
       "      <td>Random Forest Regressor</td>\n",
       "      <td>(DecisionTreeRegressor(criterion='mse', max_de...</td>\n",
       "      <td>19392.816438</td>\n",
       "      <td>7964.251020</td>\n",
       "      <td>11.501323</td>\n",
       "      <td>4.642103</td>\n",
       "      <td>0.877237</td>\n",
       "      <td>0.967498</td>\n",
       "      <td>not calculated</td>\n",
       "      <td>not calculated</td>\n",
       "    </tr>\n",
       "    <tr>\n",
       "      <th>0</th>\n",
       "      <td>LinearRegression</td>\n",
       "      <td>LinearRegression(copy_X=True, fit_intercept=Tr...</td>\n",
       "      <td>27499.816005</td>\n",
       "      <td>27049.194009</td>\n",
       "      <td>16.801025</td>\n",
       "      <td>16.132890</td>\n",
       "      <td>0.762326</td>\n",
       "      <td>0.737201</td>\n",
       "      <td>not calculated</td>\n",
       "      <td>not calculated</td>\n",
       "    </tr>\n",
       "    <tr>\n",
       "      <th>0</th>\n",
       "      <td>DecisionTreeRegressor</td>\n",
       "      <td>DecisionTreeRegressor(criterion='mse', max_dep...</td>\n",
       "      <td>28588.315525</td>\n",
       "      <td>1630.958752</td>\n",
       "      <td>17.350632</td>\n",
       "      <td>1.050830</td>\n",
       "      <td>0.751210</td>\n",
       "      <td>0.990915</td>\n",
       "      <td>not calculated</td>\n",
       "      <td>not calculated</td>\n",
       "    </tr>\n",
       "    <tr>\n",
       "      <th>0</th>\n",
       "      <td>Random Forest Regressor</td>\n",
       "      <td>(DecisionTreeRegressor(criterion='mse', max_de...</td>\n",
       "      <td>24088.541676</td>\n",
       "      <td>11078.374488</td>\n",
       "      <td>14.691483</td>\n",
       "      <td>6.540134</td>\n",
       "      <td>0.817669</td>\n",
       "      <td>0.943549</td>\n",
       "      <td>not calculated</td>\n",
       "      <td>not calculated</td>\n",
       "    </tr>\n",
       "    <tr>\n",
       "      <th>0</th>\n",
       "      <td>LinearRegression</td>\n",
       "      <td>LinearRegression(copy_X=True, fit_intercept=Tr...</td>\n",
       "      <td>22817.130832</td>\n",
       "      <td>22215.531173</td>\n",
       "      <td>13.549083</td>\n",
       "      <td>13.254630</td>\n",
       "      <td>0.819432</td>\n",
       "      <td>0.789543</td>\n",
       "      <td>not calculated</td>\n",
       "      <td>not calculated</td>\n",
       "    </tr>\n",
       "    <tr>\n",
       "      <th>0</th>\n",
       "      <td>DecisionTreeRegressor</td>\n",
       "      <td>DecisionTreeRegressor(criterion='mse', max_dep...</td>\n",
       "      <td>24852.010959</td>\n",
       "      <td>13.833790</td>\n",
       "      <td>15.334514</td>\n",
       "      <td>0.009466</td>\n",
       "      <td>0.817517</td>\n",
       "      <td>0.999991</td>\n",
       "      <td>not calculated</td>\n",
       "      <td>not calculated</td>\n",
       "    </tr>\n",
       "    <tr>\n",
       "      <th>0</th>\n",
       "      <td>Random Forest Regressor</td>\n",
       "      <td>(DecisionTreeRegressor(criterion='mse', max_de...</td>\n",
       "      <td>18073.358904</td>\n",
       "      <td>8174.626362</td>\n",
       "      <td>11.047125</td>\n",
       "      <td>4.811728</td>\n",
       "      <td>0.888666</td>\n",
       "      <td>0.955772</td>\n",
       "      <td>not calculated</td>\n",
       "      <td>not calculated</td>\n",
       "    </tr>\n",
       "    <tr>\n",
       "      <th>0</th>\n",
       "      <td>LinearRegression</td>\n",
       "      <td>LinearRegression(copy_X=True, fit_intercept=Tr...</td>\n",
       "      <td>31835.170339</td>\n",
       "      <td>31449.690061</td>\n",
       "      <td>19.425585</td>\n",
       "      <td>18.842266</td>\n",
       "      <td>0.674376</td>\n",
       "      <td>0.665486</td>\n",
       "      <td>not calculated</td>\n",
       "      <td>not calculated</td>\n",
       "    </tr>\n",
       "    <tr>\n",
       "      <th>0</th>\n",
       "      <td>LinearRegression</td>\n",
       "      <td>LinearRegression(copy_X=True, fit_intercept=Tr...</td>\n",
       "      <td>31835.170339</td>\n",
       "      <td>31449.690061</td>\n",
       "      <td>19.425585</td>\n",
       "      <td>18.842266</td>\n",
       "      <td>0.674376</td>\n",
       "      <td>0.665486</td>\n",
       "      <td>not calculated</td>\n",
       "      <td>not calculated</td>\n",
       "    </tr>\n",
       "    <tr>\n",
       "      <th>0</th>\n",
       "      <td>LinearRegression</td>\n",
       "      <td>LinearRegression(copy_X=True, fit_intercept=Tr...</td>\n",
       "      <td>31835.170339</td>\n",
       "      <td>31449.690061</td>\n",
       "      <td>19.425585</td>\n",
       "      <td>18.842266</td>\n",
       "      <td>0.674376</td>\n",
       "      <td>0.665486</td>\n",
       "      <td>not calculated</td>\n",
       "      <td>not calculated</td>\n",
       "    </tr>\n",
       "    <tr>\n",
       "      <th>0</th>\n",
       "      <td>LinearRegression</td>\n",
       "      <td>LinearRegression(copy_X=True, fit_intercept=Tr...</td>\n",
       "      <td>31835.170339</td>\n",
       "      <td>31449.690061</td>\n",
       "      <td>19.425585</td>\n",
       "      <td>18.842266</td>\n",
       "      <td>0.674376</td>\n",
       "      <td>0.665486</td>\n",
       "      <td>not calculated</td>\n",
       "      <td>not calculated</td>\n",
       "    </tr>\n",
       "  </tbody>\n",
       "</table>\n",
       "</div>"
      ],
      "text/plain": [
       "                Model_desc                                        Model_param  \\\n",
       "0         LinearRegression  LinearRegression(copy_X=True, fit_intercept=Tr...   \n",
       "0    DecisionTreeRegressor  DecisionTreeRegressor(criterion='mse', max_dep...   \n",
       "0  Random Forest Regressor  (DecisionTreeRegressor(criterion='mse', max_de...   \n",
       "0         LinearRegression  LinearRegression(copy_X=True, fit_intercept=Tr...   \n",
       "0    DecisionTreeRegressor  DecisionTreeRegressor(criterion='mse', max_dep...   \n",
       "0  Random Forest Regressor  (DecisionTreeRegressor(criterion='mse', max_de...   \n",
       "0         LinearRegression  LinearRegression(copy_X=True, fit_intercept=Tr...   \n",
       "0    DecisionTreeRegressor  DecisionTreeRegressor(criterion='mse', max_dep...   \n",
       "0  Random Forest Regressor  (DecisionTreeRegressor(criterion='mse', max_de...   \n",
       "0         LinearRegression  LinearRegression(copy_X=True, fit_intercept=Tr...   \n",
       "0         LinearRegression  LinearRegression(copy_X=True, fit_intercept=Tr...   \n",
       "0         LinearRegression  LinearRegression(copy_X=True, fit_intercept=Tr...   \n",
       "0         LinearRegression  LinearRegression(copy_X=True, fit_intercept=Tr...   \n",
       "\n",
       "       mae_test     mae_train  mape_test  mape_train   r2_test  r2_train  \\\n",
       "0  23469.669641  22680.969429  14.227591   13.647240  0.807806  0.776686   \n",
       "0  24137.021918     13.833790  14.514202    0.009466  0.811791  0.999991   \n",
       "0  19392.816438   7964.251020  11.501323    4.642103  0.877237  0.967498   \n",
       "0  27499.816005  27049.194009  16.801025   16.132890  0.762326  0.737201   \n",
       "0  28588.315525   1630.958752  17.350632    1.050830  0.751210  0.990915   \n",
       "0  24088.541676  11078.374488  14.691483    6.540134  0.817669  0.943549   \n",
       "0  22817.130832  22215.531173  13.549083   13.254630  0.819432  0.789543   \n",
       "0  24852.010959     13.833790  15.334514    0.009466  0.817517  0.999991   \n",
       "0  18073.358904   8174.626362  11.047125    4.811728  0.888666  0.955772   \n",
       "0  31835.170339  31449.690061  19.425585   18.842266  0.674376  0.665486   \n",
       "0  31835.170339  31449.690061  19.425585   18.842266  0.674376  0.665486   \n",
       "0  31835.170339  31449.690061  19.425585   18.842266  0.674376  0.665486   \n",
       "0  31835.170339  31449.690061  19.425585   18.842266  0.674376  0.665486   \n",
       "\n",
       "         rms_test       rms_train  \n",
       "0  not calculated  not calculated  \n",
       "0  not calculated  not calculated  \n",
       "0  not calculated  not calculated  \n",
       "0  not calculated  not calculated  \n",
       "0  not calculated  not calculated  \n",
       "0  not calculated  not calculated  \n",
       "0  not calculated  not calculated  \n",
       "0  not calculated  not calculated  \n",
       "0  not calculated  not calculated  \n",
       "0  not calculated  not calculated  \n",
       "0  not calculated  not calculated  \n",
       "0  not calculated  not calculated  \n",
       "0  not calculated  not calculated  "
      ]
     },
     "execution_count": 99,
     "metadata": {},
     "output_type": "execute_result"
    }
   ],
   "source": [
    "#Fit a linear regression model\n",
    "from sklearn import linear_model\n",
    "lm=linear_model.LinearRegression()\n",
    "lm.fit (X_train, y_train)\n",
    "evaluate_model(lm, \"LinearRegression\", lm, X_train,y_train, X_test , y_test)\n"
   ]
  },
  {
   "cell_type": "code",
   "execution_count": 101,
   "metadata": {},
   "outputs": [
    {
     "data": {
      "text/html": [
       "<div>\n",
       "<style>\n",
       "    .dataframe thead tr:only-child th {\n",
       "        text-align: right;\n",
       "    }\n",
       "\n",
       "    .dataframe thead th {\n",
       "        text-align: left;\n",
       "    }\n",
       "\n",
       "    .dataframe tbody tr th {\n",
       "        vertical-align: top;\n",
       "    }\n",
       "</style>\n",
       "<table border=\"1\" class=\"dataframe\">\n",
       "  <thead>\n",
       "    <tr style=\"text-align: right;\">\n",
       "      <th></th>\n",
       "      <th>Model_desc</th>\n",
       "      <th>Model_param</th>\n",
       "      <th>mae_test</th>\n",
       "      <th>mae_train</th>\n",
       "      <th>mape_test</th>\n",
       "      <th>mape_train</th>\n",
       "      <th>r2_test</th>\n",
       "      <th>r2_train</th>\n",
       "      <th>rms_test</th>\n",
       "      <th>rms_train</th>\n",
       "    </tr>\n",
       "  </thead>\n",
       "  <tbody>\n",
       "    <tr>\n",
       "      <th>0</th>\n",
       "      <td>LinearRegression</td>\n",
       "      <td>LinearRegression(copy_X=True, fit_intercept=Tr...</td>\n",
       "      <td>23469.669641</td>\n",
       "      <td>22680.969429</td>\n",
       "      <td>14.227591</td>\n",
       "      <td>13.647240</td>\n",
       "      <td>0.807806</td>\n",
       "      <td>0.776686</td>\n",
       "      <td>not calculated</td>\n",
       "      <td>not calculated</td>\n",
       "    </tr>\n",
       "    <tr>\n",
       "      <th>0</th>\n",
       "      <td>DecisionTreeRegressor</td>\n",
       "      <td>DecisionTreeRegressor(criterion='mse', max_dep...</td>\n",
       "      <td>24137.021918</td>\n",
       "      <td>13.833790</td>\n",
       "      <td>14.514202</td>\n",
       "      <td>0.009466</td>\n",
       "      <td>0.811791</td>\n",
       "      <td>0.999991</td>\n",
       "      <td>not calculated</td>\n",
       "      <td>not calculated</td>\n",
       "    </tr>\n",
       "    <tr>\n",
       "      <th>0</th>\n",
       "      <td>Random Forest Regressor</td>\n",
       "      <td>(DecisionTreeRegressor(criterion='mse', max_de...</td>\n",
       "      <td>19392.816438</td>\n",
       "      <td>7964.251020</td>\n",
       "      <td>11.501323</td>\n",
       "      <td>4.642103</td>\n",
       "      <td>0.877237</td>\n",
       "      <td>0.967498</td>\n",
       "      <td>not calculated</td>\n",
       "      <td>not calculated</td>\n",
       "    </tr>\n",
       "    <tr>\n",
       "      <th>0</th>\n",
       "      <td>LinearRegression</td>\n",
       "      <td>LinearRegression(copy_X=True, fit_intercept=Tr...</td>\n",
       "      <td>27499.816005</td>\n",
       "      <td>27049.194009</td>\n",
       "      <td>16.801025</td>\n",
       "      <td>16.132890</td>\n",
       "      <td>0.762326</td>\n",
       "      <td>0.737201</td>\n",
       "      <td>not calculated</td>\n",
       "      <td>not calculated</td>\n",
       "    </tr>\n",
       "    <tr>\n",
       "      <th>0</th>\n",
       "      <td>DecisionTreeRegressor</td>\n",
       "      <td>DecisionTreeRegressor(criterion='mse', max_dep...</td>\n",
       "      <td>28588.315525</td>\n",
       "      <td>1630.958752</td>\n",
       "      <td>17.350632</td>\n",
       "      <td>1.050830</td>\n",
       "      <td>0.751210</td>\n",
       "      <td>0.990915</td>\n",
       "      <td>not calculated</td>\n",
       "      <td>not calculated</td>\n",
       "    </tr>\n",
       "    <tr>\n",
       "      <th>0</th>\n",
       "      <td>Random Forest Regressor</td>\n",
       "      <td>(DecisionTreeRegressor(criterion='mse', max_de...</td>\n",
       "      <td>24088.541676</td>\n",
       "      <td>11078.374488</td>\n",
       "      <td>14.691483</td>\n",
       "      <td>6.540134</td>\n",
       "      <td>0.817669</td>\n",
       "      <td>0.943549</td>\n",
       "      <td>not calculated</td>\n",
       "      <td>not calculated</td>\n",
       "    </tr>\n",
       "    <tr>\n",
       "      <th>0</th>\n",
       "      <td>LinearRegression</td>\n",
       "      <td>LinearRegression(copy_X=True, fit_intercept=Tr...</td>\n",
       "      <td>22817.130832</td>\n",
       "      <td>22215.531173</td>\n",
       "      <td>13.549083</td>\n",
       "      <td>13.254630</td>\n",
       "      <td>0.819432</td>\n",
       "      <td>0.789543</td>\n",
       "      <td>not calculated</td>\n",
       "      <td>not calculated</td>\n",
       "    </tr>\n",
       "    <tr>\n",
       "      <th>0</th>\n",
       "      <td>DecisionTreeRegressor</td>\n",
       "      <td>DecisionTreeRegressor(criterion='mse', max_dep...</td>\n",
       "      <td>24852.010959</td>\n",
       "      <td>13.833790</td>\n",
       "      <td>15.334514</td>\n",
       "      <td>0.009466</td>\n",
       "      <td>0.817517</td>\n",
       "      <td>0.999991</td>\n",
       "      <td>not calculated</td>\n",
       "      <td>not calculated</td>\n",
       "    </tr>\n",
       "    <tr>\n",
       "      <th>0</th>\n",
       "      <td>Random Forest Regressor</td>\n",
       "      <td>(DecisionTreeRegressor(criterion='mse', max_de...</td>\n",
       "      <td>18073.358904</td>\n",
       "      <td>8174.626362</td>\n",
       "      <td>11.047125</td>\n",
       "      <td>4.811728</td>\n",
       "      <td>0.888666</td>\n",
       "      <td>0.955772</td>\n",
       "      <td>not calculated</td>\n",
       "      <td>not calculated</td>\n",
       "    </tr>\n",
       "    <tr>\n",
       "      <th>0</th>\n",
       "      <td>LinearRegression</td>\n",
       "      <td>LinearRegression(copy_X=True, fit_intercept=Tr...</td>\n",
       "      <td>31835.170339</td>\n",
       "      <td>31449.690061</td>\n",
       "      <td>19.425585</td>\n",
       "      <td>18.842266</td>\n",
       "      <td>0.674376</td>\n",
       "      <td>0.665486</td>\n",
       "      <td>not calculated</td>\n",
       "      <td>not calculated</td>\n",
       "    </tr>\n",
       "    <tr>\n",
       "      <th>0</th>\n",
       "      <td>LinearRegression</td>\n",
       "      <td>LinearRegression(copy_X=True, fit_intercept=Tr...</td>\n",
       "      <td>31835.170339</td>\n",
       "      <td>31449.690061</td>\n",
       "      <td>19.425585</td>\n",
       "      <td>18.842266</td>\n",
       "      <td>0.674376</td>\n",
       "      <td>0.665486</td>\n",
       "      <td>not calculated</td>\n",
       "      <td>not calculated</td>\n",
       "    </tr>\n",
       "    <tr>\n",
       "      <th>0</th>\n",
       "      <td>LinearRegression</td>\n",
       "      <td>LinearRegression(copy_X=True, fit_intercept=Tr...</td>\n",
       "      <td>31835.170339</td>\n",
       "      <td>31449.690061</td>\n",
       "      <td>19.425585</td>\n",
       "      <td>18.842266</td>\n",
       "      <td>0.674376</td>\n",
       "      <td>0.665486</td>\n",
       "      <td>not calculated</td>\n",
       "      <td>not calculated</td>\n",
       "    </tr>\n",
       "    <tr>\n",
       "      <th>0</th>\n",
       "      <td>LinearRegression</td>\n",
       "      <td>LinearRegression(copy_X=True, fit_intercept=Tr...</td>\n",
       "      <td>31835.170339</td>\n",
       "      <td>31449.690061</td>\n",
       "      <td>19.425585</td>\n",
       "      <td>18.842266</td>\n",
       "      <td>0.674376</td>\n",
       "      <td>0.665486</td>\n",
       "      <td>not calculated</td>\n",
       "      <td>not calculated</td>\n",
       "    </tr>\n",
       "    <tr>\n",
       "      <th>0</th>\n",
       "      <td>DecisionTreeRegressor</td>\n",
       "      <td>DecisionTreeRegressor(criterion='mse', max_dep...</td>\n",
       "      <td>27964.399178</td>\n",
       "      <td>27442.315640</td>\n",
       "      <td>16.844104</td>\n",
       "      <td>15.865453</td>\n",
       "      <td>0.743082</td>\n",
       "      <td>0.740194</td>\n",
       "      <td>not calculated</td>\n",
       "      <td>not calculated</td>\n",
       "    </tr>\n",
       "    <tr>\n",
       "      <th>0</th>\n",
       "      <td>DecisionTreeRegressor</td>\n",
       "      <td>DecisionTreeRegressor(criterion='mse', max_dep...</td>\n",
       "      <td>27964.399178</td>\n",
       "      <td>27442.315640</td>\n",
       "      <td>16.844104</td>\n",
       "      <td>15.865453</td>\n",
       "      <td>0.743082</td>\n",
       "      <td>0.740194</td>\n",
       "      <td>not calculated</td>\n",
       "      <td>not calculated</td>\n",
       "    </tr>\n",
       "  </tbody>\n",
       "</table>\n",
       "</div>"
      ],
      "text/plain": [
       "                Model_desc                                        Model_param  \\\n",
       "0         LinearRegression  LinearRegression(copy_X=True, fit_intercept=Tr...   \n",
       "0    DecisionTreeRegressor  DecisionTreeRegressor(criterion='mse', max_dep...   \n",
       "0  Random Forest Regressor  (DecisionTreeRegressor(criterion='mse', max_de...   \n",
       "0         LinearRegression  LinearRegression(copy_X=True, fit_intercept=Tr...   \n",
       "0    DecisionTreeRegressor  DecisionTreeRegressor(criterion='mse', max_dep...   \n",
       "0  Random Forest Regressor  (DecisionTreeRegressor(criterion='mse', max_de...   \n",
       "0         LinearRegression  LinearRegression(copy_X=True, fit_intercept=Tr...   \n",
       "0    DecisionTreeRegressor  DecisionTreeRegressor(criterion='mse', max_dep...   \n",
       "0  Random Forest Regressor  (DecisionTreeRegressor(criterion='mse', max_de...   \n",
       "0         LinearRegression  LinearRegression(copy_X=True, fit_intercept=Tr...   \n",
       "0         LinearRegression  LinearRegression(copy_X=True, fit_intercept=Tr...   \n",
       "0         LinearRegression  LinearRegression(copy_X=True, fit_intercept=Tr...   \n",
       "0         LinearRegression  LinearRegression(copy_X=True, fit_intercept=Tr...   \n",
       "0    DecisionTreeRegressor  DecisionTreeRegressor(criterion='mse', max_dep...   \n",
       "0    DecisionTreeRegressor  DecisionTreeRegressor(criterion='mse', max_dep...   \n",
       "\n",
       "       mae_test     mae_train  mape_test  mape_train   r2_test  r2_train  \\\n",
       "0  23469.669641  22680.969429  14.227591   13.647240  0.807806  0.776686   \n",
       "0  24137.021918     13.833790  14.514202    0.009466  0.811791  0.999991   \n",
       "0  19392.816438   7964.251020  11.501323    4.642103  0.877237  0.967498   \n",
       "0  27499.816005  27049.194009  16.801025   16.132890  0.762326  0.737201   \n",
       "0  28588.315525   1630.958752  17.350632    1.050830  0.751210  0.990915   \n",
       "0  24088.541676  11078.374488  14.691483    6.540134  0.817669  0.943549   \n",
       "0  22817.130832  22215.531173  13.549083   13.254630  0.819432  0.789543   \n",
       "0  24852.010959     13.833790  15.334514    0.009466  0.817517  0.999991   \n",
       "0  18073.358904   8174.626362  11.047125    4.811728  0.888666  0.955772   \n",
       "0  31835.170339  31449.690061  19.425585   18.842266  0.674376  0.665486   \n",
       "0  31835.170339  31449.690061  19.425585   18.842266  0.674376  0.665486   \n",
       "0  31835.170339  31449.690061  19.425585   18.842266  0.674376  0.665486   \n",
       "0  31835.170339  31449.690061  19.425585   18.842266  0.674376  0.665486   \n",
       "0  27964.399178  27442.315640  16.844104   15.865453  0.743082  0.740194   \n",
       "0  27964.399178  27442.315640  16.844104   15.865453  0.743082  0.740194   \n",
       "\n",
       "         rms_test       rms_train  \n",
       "0  not calculated  not calculated  \n",
       "0  not calculated  not calculated  \n",
       "0  not calculated  not calculated  \n",
       "0  not calculated  not calculated  \n",
       "0  not calculated  not calculated  \n",
       "0  not calculated  not calculated  \n",
       "0  not calculated  not calculated  \n",
       "0  not calculated  not calculated  \n",
       "0  not calculated  not calculated  \n",
       "0  not calculated  not calculated  \n",
       "0  not calculated  not calculated  \n",
       "0  not calculated  not calculated  \n",
       "0  not calculated  not calculated  \n",
       "0  not calculated  not calculated  \n",
       "0  not calculated  not calculated  "
      ]
     },
     "execution_count": 101,
     "metadata": {},
     "output_type": "execute_result"
    }
   ],
   "source": [
    "# Define model\n",
    "regDTree = DecisionTreeRegressor()\n",
    "# Fit model\n",
    "regDT = regDTree.fit(X_train, y_train)\n",
    "evaluate_model(regDT, \"DecisionTreeRegressor\", regDT, X_train,y_train, X_test , y_test)\n"
   ]
  },
  {
   "cell_type": "code",
   "execution_count": 102,
   "metadata": {},
   "outputs": [
    {
     "data": {
      "text/html": [
       "<div>\n",
       "<style>\n",
       "    .dataframe thead tr:only-child th {\n",
       "        text-align: right;\n",
       "    }\n",
       "\n",
       "    .dataframe thead th {\n",
       "        text-align: left;\n",
       "    }\n",
       "\n",
       "    .dataframe tbody tr th {\n",
       "        vertical-align: top;\n",
       "    }\n",
       "</style>\n",
       "<table border=\"1\" class=\"dataframe\">\n",
       "  <thead>\n",
       "    <tr style=\"text-align: right;\">\n",
       "      <th></th>\n",
       "      <th>Model_desc</th>\n",
       "      <th>Model_param</th>\n",
       "      <th>mae_test</th>\n",
       "      <th>mae_train</th>\n",
       "      <th>mape_test</th>\n",
       "      <th>mape_train</th>\n",
       "      <th>r2_test</th>\n",
       "      <th>r2_train</th>\n",
       "      <th>rms_test</th>\n",
       "      <th>rms_train</th>\n",
       "    </tr>\n",
       "  </thead>\n",
       "  <tbody>\n",
       "    <tr>\n",
       "      <th>0</th>\n",
       "      <td>LinearRegression</td>\n",
       "      <td>LinearRegression(copy_X=True, fit_intercept=Tr...</td>\n",
       "      <td>23469.669641</td>\n",
       "      <td>22680.969429</td>\n",
       "      <td>14.227591</td>\n",
       "      <td>13.647240</td>\n",
       "      <td>0.807806</td>\n",
       "      <td>0.776686</td>\n",
       "      <td>not calculated</td>\n",
       "      <td>not calculated</td>\n",
       "    </tr>\n",
       "    <tr>\n",
       "      <th>0</th>\n",
       "      <td>DecisionTreeRegressor</td>\n",
       "      <td>DecisionTreeRegressor(criterion='mse', max_dep...</td>\n",
       "      <td>24137.021918</td>\n",
       "      <td>13.833790</td>\n",
       "      <td>14.514202</td>\n",
       "      <td>0.009466</td>\n",
       "      <td>0.811791</td>\n",
       "      <td>0.999991</td>\n",
       "      <td>not calculated</td>\n",
       "      <td>not calculated</td>\n",
       "    </tr>\n",
       "    <tr>\n",
       "      <th>0</th>\n",
       "      <td>Random Forest Regressor</td>\n",
       "      <td>(DecisionTreeRegressor(criterion='mse', max_de...</td>\n",
       "      <td>19392.816438</td>\n",
       "      <td>7964.251020</td>\n",
       "      <td>11.501323</td>\n",
       "      <td>4.642103</td>\n",
       "      <td>0.877237</td>\n",
       "      <td>0.967498</td>\n",
       "      <td>not calculated</td>\n",
       "      <td>not calculated</td>\n",
       "    </tr>\n",
       "    <tr>\n",
       "      <th>0</th>\n",
       "      <td>LinearRegression</td>\n",
       "      <td>LinearRegression(copy_X=True, fit_intercept=Tr...</td>\n",
       "      <td>27499.816005</td>\n",
       "      <td>27049.194009</td>\n",
       "      <td>16.801025</td>\n",
       "      <td>16.132890</td>\n",
       "      <td>0.762326</td>\n",
       "      <td>0.737201</td>\n",
       "      <td>not calculated</td>\n",
       "      <td>not calculated</td>\n",
       "    </tr>\n",
       "    <tr>\n",
       "      <th>0</th>\n",
       "      <td>DecisionTreeRegressor</td>\n",
       "      <td>DecisionTreeRegressor(criterion='mse', max_dep...</td>\n",
       "      <td>28588.315525</td>\n",
       "      <td>1630.958752</td>\n",
       "      <td>17.350632</td>\n",
       "      <td>1.050830</td>\n",
       "      <td>0.751210</td>\n",
       "      <td>0.990915</td>\n",
       "      <td>not calculated</td>\n",
       "      <td>not calculated</td>\n",
       "    </tr>\n",
       "    <tr>\n",
       "      <th>0</th>\n",
       "      <td>Random Forest Regressor</td>\n",
       "      <td>(DecisionTreeRegressor(criterion='mse', max_de...</td>\n",
       "      <td>24088.541676</td>\n",
       "      <td>11078.374488</td>\n",
       "      <td>14.691483</td>\n",
       "      <td>6.540134</td>\n",
       "      <td>0.817669</td>\n",
       "      <td>0.943549</td>\n",
       "      <td>not calculated</td>\n",
       "      <td>not calculated</td>\n",
       "    </tr>\n",
       "    <tr>\n",
       "      <th>0</th>\n",
       "      <td>LinearRegression</td>\n",
       "      <td>LinearRegression(copy_X=True, fit_intercept=Tr...</td>\n",
       "      <td>22817.130832</td>\n",
       "      <td>22215.531173</td>\n",
       "      <td>13.549083</td>\n",
       "      <td>13.254630</td>\n",
       "      <td>0.819432</td>\n",
       "      <td>0.789543</td>\n",
       "      <td>not calculated</td>\n",
       "      <td>not calculated</td>\n",
       "    </tr>\n",
       "    <tr>\n",
       "      <th>0</th>\n",
       "      <td>DecisionTreeRegressor</td>\n",
       "      <td>DecisionTreeRegressor(criterion='mse', max_dep...</td>\n",
       "      <td>24852.010959</td>\n",
       "      <td>13.833790</td>\n",
       "      <td>15.334514</td>\n",
       "      <td>0.009466</td>\n",
       "      <td>0.817517</td>\n",
       "      <td>0.999991</td>\n",
       "      <td>not calculated</td>\n",
       "      <td>not calculated</td>\n",
       "    </tr>\n",
       "    <tr>\n",
       "      <th>0</th>\n",
       "      <td>Random Forest Regressor</td>\n",
       "      <td>(DecisionTreeRegressor(criterion='mse', max_de...</td>\n",
       "      <td>18073.358904</td>\n",
       "      <td>8174.626362</td>\n",
       "      <td>11.047125</td>\n",
       "      <td>4.811728</td>\n",
       "      <td>0.888666</td>\n",
       "      <td>0.955772</td>\n",
       "      <td>not calculated</td>\n",
       "      <td>not calculated</td>\n",
       "    </tr>\n",
       "    <tr>\n",
       "      <th>0</th>\n",
       "      <td>LinearRegression</td>\n",
       "      <td>LinearRegression(copy_X=True, fit_intercept=Tr...</td>\n",
       "      <td>31835.170339</td>\n",
       "      <td>31449.690061</td>\n",
       "      <td>19.425585</td>\n",
       "      <td>18.842266</td>\n",
       "      <td>0.674376</td>\n",
       "      <td>0.665486</td>\n",
       "      <td>not calculated</td>\n",
       "      <td>not calculated</td>\n",
       "    </tr>\n",
       "    <tr>\n",
       "      <th>0</th>\n",
       "      <td>LinearRegression</td>\n",
       "      <td>LinearRegression(copy_X=True, fit_intercept=Tr...</td>\n",
       "      <td>31835.170339</td>\n",
       "      <td>31449.690061</td>\n",
       "      <td>19.425585</td>\n",
       "      <td>18.842266</td>\n",
       "      <td>0.674376</td>\n",
       "      <td>0.665486</td>\n",
       "      <td>not calculated</td>\n",
       "      <td>not calculated</td>\n",
       "    </tr>\n",
       "    <tr>\n",
       "      <th>0</th>\n",
       "      <td>LinearRegression</td>\n",
       "      <td>LinearRegression(copy_X=True, fit_intercept=Tr...</td>\n",
       "      <td>31835.170339</td>\n",
       "      <td>31449.690061</td>\n",
       "      <td>19.425585</td>\n",
       "      <td>18.842266</td>\n",
       "      <td>0.674376</td>\n",
       "      <td>0.665486</td>\n",
       "      <td>not calculated</td>\n",
       "      <td>not calculated</td>\n",
       "    </tr>\n",
       "    <tr>\n",
       "      <th>0</th>\n",
       "      <td>LinearRegression</td>\n",
       "      <td>LinearRegression(copy_X=True, fit_intercept=Tr...</td>\n",
       "      <td>31835.170339</td>\n",
       "      <td>31449.690061</td>\n",
       "      <td>19.425585</td>\n",
       "      <td>18.842266</td>\n",
       "      <td>0.674376</td>\n",
       "      <td>0.665486</td>\n",
       "      <td>not calculated</td>\n",
       "      <td>not calculated</td>\n",
       "    </tr>\n",
       "    <tr>\n",
       "      <th>0</th>\n",
       "      <td>DecisionTreeRegressor</td>\n",
       "      <td>DecisionTreeRegressor(criterion='mse', max_dep...</td>\n",
       "      <td>27964.399178</td>\n",
       "      <td>27442.315640</td>\n",
       "      <td>16.844104</td>\n",
       "      <td>15.865453</td>\n",
       "      <td>0.743082</td>\n",
       "      <td>0.740194</td>\n",
       "      <td>not calculated</td>\n",
       "      <td>not calculated</td>\n",
       "    </tr>\n",
       "    <tr>\n",
       "      <th>0</th>\n",
       "      <td>DecisionTreeRegressor</td>\n",
       "      <td>DecisionTreeRegressor(criterion='mse', max_dep...</td>\n",
       "      <td>27964.399178</td>\n",
       "      <td>27442.315640</td>\n",
       "      <td>16.844104</td>\n",
       "      <td>15.865453</td>\n",
       "      <td>0.743082</td>\n",
       "      <td>0.740194</td>\n",
       "      <td>not calculated</td>\n",
       "      <td>not calculated</td>\n",
       "    </tr>\n",
       "    <tr>\n",
       "      <th>0</th>\n",
       "      <td>Random Forest Regressor</td>\n",
       "      <td>(DecisionTreeRegressor(criterion='mse', max_de...</td>\n",
       "      <td>27641.053110</td>\n",
       "      <td>27712.637620</td>\n",
       "      <td>16.902399</td>\n",
       "      <td>16.078071</td>\n",
       "      <td>0.752292</td>\n",
       "      <td>0.737571</td>\n",
       "      <td>not calculated</td>\n",
       "      <td>not calculated</td>\n",
       "    </tr>\n",
       "  </tbody>\n",
       "</table>\n",
       "</div>"
      ],
      "text/plain": [
       "                Model_desc                                        Model_param  \\\n",
       "0         LinearRegression  LinearRegression(copy_X=True, fit_intercept=Tr...   \n",
       "0    DecisionTreeRegressor  DecisionTreeRegressor(criterion='mse', max_dep...   \n",
       "0  Random Forest Regressor  (DecisionTreeRegressor(criterion='mse', max_de...   \n",
       "0         LinearRegression  LinearRegression(copy_X=True, fit_intercept=Tr...   \n",
       "0    DecisionTreeRegressor  DecisionTreeRegressor(criterion='mse', max_dep...   \n",
       "0  Random Forest Regressor  (DecisionTreeRegressor(criterion='mse', max_de...   \n",
       "0         LinearRegression  LinearRegression(copy_X=True, fit_intercept=Tr...   \n",
       "0    DecisionTreeRegressor  DecisionTreeRegressor(criterion='mse', max_dep...   \n",
       "0  Random Forest Regressor  (DecisionTreeRegressor(criterion='mse', max_de...   \n",
       "0         LinearRegression  LinearRegression(copy_X=True, fit_intercept=Tr...   \n",
       "0         LinearRegression  LinearRegression(copy_X=True, fit_intercept=Tr...   \n",
       "0         LinearRegression  LinearRegression(copy_X=True, fit_intercept=Tr...   \n",
       "0         LinearRegression  LinearRegression(copy_X=True, fit_intercept=Tr...   \n",
       "0    DecisionTreeRegressor  DecisionTreeRegressor(criterion='mse', max_dep...   \n",
       "0    DecisionTreeRegressor  DecisionTreeRegressor(criterion='mse', max_dep...   \n",
       "0  Random Forest Regressor  (DecisionTreeRegressor(criterion='mse', max_de...   \n",
       "\n",
       "       mae_test     mae_train  mape_test  mape_train   r2_test  r2_train  \\\n",
       "0  23469.669641  22680.969429  14.227591   13.647240  0.807806  0.776686   \n",
       "0  24137.021918     13.833790  14.514202    0.009466  0.811791  0.999991   \n",
       "0  19392.816438   7964.251020  11.501323    4.642103  0.877237  0.967498   \n",
       "0  27499.816005  27049.194009  16.801025   16.132890  0.762326  0.737201   \n",
       "0  28588.315525   1630.958752  17.350632    1.050830  0.751210  0.990915   \n",
       "0  24088.541676  11078.374488  14.691483    6.540134  0.817669  0.943549   \n",
       "0  22817.130832  22215.531173  13.549083   13.254630  0.819432  0.789543   \n",
       "0  24852.010959     13.833790  15.334514    0.009466  0.817517  0.999991   \n",
       "0  18073.358904   8174.626362  11.047125    4.811728  0.888666  0.955772   \n",
       "0  31835.170339  31449.690061  19.425585   18.842266  0.674376  0.665486   \n",
       "0  31835.170339  31449.690061  19.425585   18.842266  0.674376  0.665486   \n",
       "0  31835.170339  31449.690061  19.425585   18.842266  0.674376  0.665486   \n",
       "0  31835.170339  31449.690061  19.425585   18.842266  0.674376  0.665486   \n",
       "0  27964.399178  27442.315640  16.844104   15.865453  0.743082  0.740194   \n",
       "0  27964.399178  27442.315640  16.844104   15.865453  0.743082  0.740194   \n",
       "0  27641.053110  27712.637620  16.902399   16.078071  0.752292  0.737571   \n",
       "\n",
       "         rms_test       rms_train  \n",
       "0  not calculated  not calculated  \n",
       "0  not calculated  not calculated  \n",
       "0  not calculated  not calculated  \n",
       "0  not calculated  not calculated  \n",
       "0  not calculated  not calculated  \n",
       "0  not calculated  not calculated  \n",
       "0  not calculated  not calculated  \n",
       "0  not calculated  not calculated  \n",
       "0  not calculated  not calculated  \n",
       "0  not calculated  not calculated  \n",
       "0  not calculated  not calculated  \n",
       "0  not calculated  not calculated  \n",
       "0  not calculated  not calculated  \n",
       "0  not calculated  not calculated  \n",
       "0  not calculated  not calculated  \n",
       "0  not calculated  not calculated  "
      ]
     },
     "execution_count": 102,
     "metadata": {},
     "output_type": "execute_result"
    }
   ],
   "source": [
    "from sklearn.ensemble import RandomForestRegressor\n",
    "# Define Model\n",
    "randomFReg = RandomForestRegressor()\n",
    "# Fit Model\n",
    "randFReg = randomFReg.fit(X_train, y_train)\n",
    "evaluate_model(randFReg, \"Random Forest Regressor\", randFReg, X_train, y_train, X_test , y_test)"
   ]
  },
  {
   "cell_type": "code",
   "execution_count": null,
   "metadata": {
    "collapsed": true
   },
   "outputs": [],
   "source": []
  },
  {
   "cell_type": "code",
   "execution_count": null,
   "metadata": {
    "collapsed": true
   },
   "outputs": [],
   "source": []
  },
  {
   "cell_type": "code",
   "execution_count": null,
   "metadata": {
    "collapsed": true
   },
   "outputs": [],
   "source": []
  },
  {
   "cell_type": "code",
   "execution_count": 71,
   "metadata": {},
   "outputs": [
    {
     "ename": "ModuleNotFoundError",
     "evalue": "No module named 'xgboost'",
     "output_type": "error",
     "traceback": [
      "\u001b[1;31m---------------------------------------------------------------------------\u001b[0m",
      "\u001b[1;31mModuleNotFoundError\u001b[0m                       Traceback (most recent call last)",
      "\u001b[1;32m<ipython-input-71-cba165ba38fa>\u001b[0m in \u001b[0;36m<module>\u001b[1;34m()\u001b[0m\n\u001b[1;32m----> 1\u001b[1;33m \u001b[1;32mimport\u001b[0m \u001b[0mxgboost\u001b[0m \u001b[1;32mas\u001b[0m \u001b[0mxgb\u001b[0m\u001b[1;33m\u001b[0m\u001b[0m\n\u001b[0m\u001b[0;32m      2\u001b[0m \u001b[1;32mfrom\u001b[0m \u001b[0mxgboost\u001b[0m \u001b[1;32mimport\u001b[0m \u001b[0mXGBRegressor\u001b[0m\u001b[1;33m\u001b[0m\u001b[0m\n",
      "\u001b[1;31mModuleNotFoundError\u001b[0m: No module named 'xgboost'"
     ]
    }
   ],
   "source": [
    "import xgboost as xgb\n",
    "from xgboost import XGBRegressor"
   ]
  },
  {
   "cell_type": "code",
   "execution_count": 136,
   "metadata": {},
   "outputs": [
    {
     "name": "stdout",
     "output_type": "stream",
     "text": [
      "Collecting xgboost\n",
      "  Using cached https://files.pythonhosted.org/packages/4b/c4/57e246bc99e45c048f9805f2773e7369f0d30896d19fa089fa1794c7b246/xgboost-0.71.tar.gz\n"
     ]
    },
    {
     "name": "stderr",
     "output_type": "stream",
     "text": [
      "No files/directories in C:\\Users\\Nikesh\\AppData\\Local\\Temp\\pip-install-m18sddit\\xgboost\\pip-egg-info (from PKG-INFO)\n",
      "You are using pip version 10.0.0, however version 10.0.1 is available.\n",
      "You should consider upgrading via the 'python -m pip install --upgrade pip' command.\n"
     ]
    }
   ],
   "source": [
    "!pip3 install xgboost"
   ]
  },
  {
   "cell_type": "code",
   "execution_count": null,
   "metadata": {
    "collapsed": true
   },
   "outputs": [],
   "source": []
  }
 ],
 "metadata": {
  "kernelspec": {
   "display_name": "Python 3",
   "language": "python",
   "name": "python3"
  },
  "language_info": {
   "codemirror_mode": {
    "name": "ipython",
    "version": 3
   },
   "file_extension": ".py",
   "mimetype": "text/x-python",
   "name": "python",
   "nbconvert_exporter": "python",
   "pygments_lexer": "ipython3",
   "version": "3.6.3"
  }
 },
 "nbformat": 4,
 "nbformat_minor": 2
}
